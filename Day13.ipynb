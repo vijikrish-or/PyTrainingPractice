{
 "cells": [
  {
   "cell_type": "code",
   "execution_count": 4,
   "metadata": {},
   "outputs": [],
   "source": [
    "import pandas as pd\n"
   ]
  },
  {
   "cell_type": "code",
   "execution_count": 5,
   "metadata": {},
   "outputs": [],
   "source": [
    "data=pd.read_csv(\"chipotle.csv\")"
   ]
  },
  {
   "cell_type": "code",
   "execution_count": 6,
   "metadata": {},
   "outputs": [
    {
     "name": "stdout",
     "output_type": "stream",
     "text": [
      "   order_id  quantity                              item_name  \\\n",
      "0         1         1           Chips and Fresh Tomato Salsa   \n",
      "1         1         1                                   Izze   \n",
      "2         1         1                       Nantucket Nectar   \n",
      "3         1         1  Chips and Tomatillo-Green Chili Salsa   \n",
      "4         2         2                           Chicken Bowl   \n",
      "\n",
      "                                  choice_description  item_price  Unnamed: 5  \n",
      "0                                                NaN        2.39         NaN  \n",
      "1                                       [Clementine]        3.39         NaN  \n",
      "2                                            [Apple]        3.39         NaN  \n",
      "3                                                NaN        2.39         NaN  \n",
      "4  [Tomatillo-Red Chili Salsa (Hot), [Black Beans...       16.98         NaN  \n"
     ]
    }
   ],
   "source": [
    "print(data.head())"
   ]
  },
  {
   "cell_type": "code",
   "execution_count": 7,
   "metadata": {},
   "outputs": [
    {
     "name": "stdout",
     "output_type": "stream",
     "text": [
      "      order_id  quantity           item_name  \\\n",
      "4617      1833         1       Steak Burrito   \n",
      "4618      1833         1       Steak Burrito   \n",
      "4619      1834         1  Chicken Salad Bowl   \n",
      "4620      1834         1  Chicken Salad Bowl   \n",
      "4621      1834         1  Chicken Salad Bowl   \n",
      "\n",
      "                                     choice_description  item_price  \\\n",
      "4617  [Fresh Tomato Salsa, [Rice, Black Beans, Sour ...       11.75   \n",
      "4618  [Fresh Tomato Salsa, [Rice, Sour Cream, Cheese...       11.75   \n",
      "4619  [Fresh Tomato Salsa, [Fajita Vegetables, Pinto...       11.25   \n",
      "4620  [Fresh Tomato Salsa, [Fajita Vegetables, Lettu...        8.75   \n",
      "4621  [Fresh Tomato Salsa, [Fajita Vegetables, Pinto...        8.75   \n",
      "\n",
      "      Unnamed: 5  \n",
      "4617         NaN  \n",
      "4618         NaN  \n",
      "4619         NaN  \n",
      "4620         NaN  \n",
      "4621         NaN  \n"
     ]
    }
   ],
   "source": [
    "print(data.tail())"
   ]
  },
  {
   "cell_type": "code",
   "execution_count": 8,
   "metadata": {},
   "outputs": [],
   "source": [
    "data.quantity.astype('str').astype('int')\n",
    "data['revenue']=data['quantity']*data['item_price']"
   ]
  },
  {
   "cell_type": "code",
   "execution_count": 9,
   "metadata": {},
   "outputs": [
    {
     "name": "stdout",
     "output_type": "stream",
     "text": [
      "   order_id  quantity                              item_name  \\\n",
      "0         1         1           Chips and Fresh Tomato Salsa   \n",
      "1         1         1                                   Izze   \n",
      "2         1         1                       Nantucket Nectar   \n",
      "3         1         1  Chips and Tomatillo-Green Chili Salsa   \n",
      "4         2         2                           Chicken Bowl   \n",
      "\n",
      "                                  choice_description  item_price  Unnamed: 5  \\\n",
      "0                                                NaN        2.39         NaN   \n",
      "1                                       [Clementine]        3.39         NaN   \n",
      "2                                            [Apple]        3.39         NaN   \n",
      "3                                                NaN        2.39         NaN   \n",
      "4  [Tomatillo-Red Chili Salsa (Hot), [Black Beans...       16.98         NaN   \n",
      "\n",
      "   revenue  \n",
      "0     2.39  \n",
      "1     3.39  \n",
      "2     3.39  \n",
      "3     2.39  \n",
      "4    33.96  \n"
     ]
    }
   ],
   "source": [
    "print(data.head())"
   ]
  },
  {
   "cell_type": "code",
   "execution_count": 10,
   "metadata": {},
   "outputs": [],
   "source": [
    "byorder=data.groupby(['order_id']).sum(['revenue'])"
   ]
  },
  {
   "cell_type": "code",
   "execution_count": 3,
   "metadata": {},
   "outputs": [
    {
     "name": "stdout",
     "output_type": "stream",
     "text": [
      "1.1.3\n"
     ]
    }
   ],
   "source": [
    "print(pd.__version__)"
   ]
  },
  {
   "cell_type": "code",
   "execution_count": 11,
   "metadata": {},
   "outputs": [
    {
     "name": "stdout",
     "output_type": "stream",
     "text": [
      "          quantity  item_price  Unnamed: 5  revenue\n",
      "order_id                                           \n",
      "1                4       11.56         0.0    11.56\n",
      "2                2       16.98         0.0    33.96\n",
      "3                2       12.67         0.0    12.67\n",
      "4                2       21.00         0.0    21.00\n",
      "5                2       13.70         0.0    13.70\n"
     ]
    }
   ],
   "source": [
    "print(byorder.head())"
   ]
  },
  {
   "cell_type": "code",
   "execution_count": 14,
   "metadata": {},
   "outputs": [
    {
     "name": "stdout",
     "output_type": "stream",
     "text": [
      "21.394231188658654\n"
     ]
    }
   ],
   "source": [
    "print(byorder.mean()['revenue'])"
   ]
  },
  {
   "cell_type": "code",
   "execution_count": 15,
   "metadata": {},
   "outputs": [],
   "source": [
    "byordername=data.groupby(['order_id','item_name']).sum(['revenue'])"
   ]
  },
  {
   "cell_type": "code",
   "execution_count": 16,
   "metadata": {},
   "outputs": [
    {
     "name": "stdout",
     "output_type": "stream",
     "text": [
      "                                                quantity  item_price  \\\n",
      "order_id item_name                                                     \n",
      "1        Chips and Fresh Tomato Salsa                  1        2.39   \n",
      "         Chips and Tomatillo-Green Chili Salsa         1        2.39   \n",
      "         Izze                                          1        3.39   \n",
      "         Nantucket Nectar                              1        3.39   \n",
      "2        Chicken Bowl                                  2       16.98   \n",
      "\n",
      "                                                Unnamed: 5  revenue  \n",
      "order_id item_name                                                   \n",
      "1        Chips and Fresh Tomato Salsa                  0.0     2.39  \n",
      "         Chips and Tomatillo-Green Chili Salsa         0.0     2.39  \n",
      "         Izze                                          0.0     3.39  \n",
      "         Nantucket Nectar                              0.0     3.39  \n",
      "2        Chicken Bowl                                  0.0    33.96  \n"
     ]
    }
   ],
   "source": [
    "print(byordername.head())"
   ]
  },
  {
   "cell_type": "code",
   "execution_count": 18,
   "metadata": {},
   "outputs": [
    {
     "name": "stdout",
     "output_type": "stream",
     "text": [
      "9.141896551724148\n"
     ]
    }
   ],
   "source": [
    "print(byordername.mean()['revenue'])"
   ]
  },
  {
   "cell_type": "code",
   "execution_count": 22,
   "metadata": {},
   "outputs": [
    {
     "name": "stdout",
     "output_type": "stream",
     "text": [
      "4292\n"
     ]
    }
   ],
   "source": [
    "print(len(byordername['quantity']))"
   ]
  },
  {
   "cell_type": "code",
   "execution_count": 23,
   "metadata": {},
   "outputs": [
    {
     "name": "stdout",
     "output_type": "stream",
     "text": [
      "1834\n"
     ]
    }
   ],
   "source": [
    "print(len(byorder['quantity']))"
   ]
  },
  {
   "cell_type": "code",
   "execution_count": 24,
   "metadata": {},
   "outputs": [
    {
     "name": "stdout",
     "output_type": "stream",
     "text": [
      "                                       quantity  item_price  Unnamed: 5  \\\n",
      "order_id item_name                                                        \n",
      "1443     Chips and Fresh Tomato Salsa        15       44.25         0.0   \n",
      "1454     Chicken Burrito                      6       52.50         0.0   \n",
      "1660     Bottled Water                       10       15.00         0.0   \n",
      "511      Chicken Burrito                      4       35.00         0.0   \n",
      "1443     Chicken Burrito                      4       35.00         0.0   \n",
      "\n",
      "                                       revenue  \n",
      "order_id item_name                              \n",
      "1443     Chips and Fresh Tomato Salsa   663.75  \n",
      "1454     Chicken Burrito                157.50  \n",
      "1660     Bottled Water                  150.00  \n",
      "511      Chicken Burrito                140.00  \n",
      "1443     Chicken Burrito                140.00  \n"
     ]
    }
   ],
   "source": [
    "print(byordername.sort_values(['revenue'],ascending=False).head(5))"
   ]
  },
  {
   "cell_type": "code",
   "execution_count": 26,
   "metadata": {},
   "outputs": [
    {
     "name": "stdout",
     "output_type": "stream",
     "text": [
      "                      quantity  item_price  Unnamed: 5  revenue\n",
      "order_id item_name                                             \n",
      "790      Canned Soda         1        1.09         0.0     1.09\n"
     ]
    }
   ],
   "source": [
    "print(byordername.sort_values(['revenue'],ascending=False).tail(1))"
   ]
  },
  {
   "cell_type": "code",
   "execution_count": 30,
   "metadata": {},
   "outputs": [],
   "source": [
    "orderle50=data[(data.revenue<50)]"
   ]
  },
  {
   "cell_type": "code",
   "execution_count": 31,
   "metadata": {},
   "outputs": [
    {
     "name": "stdout",
     "output_type": "stream",
     "text": [
      "   order_id  quantity                              item_name  \\\n",
      "0         1         1           Chips and Fresh Tomato Salsa   \n",
      "1         1         1                                   Izze   \n",
      "2         1         1                       Nantucket Nectar   \n",
      "3         1         1  Chips and Tomatillo-Green Chili Salsa   \n",
      "4         2         2                           Chicken Bowl   \n",
      "\n",
      "                                  choice_description  item_price  Unnamed: 5  \\\n",
      "0                                                NaN        2.39         NaN   \n",
      "1                                       [Clementine]        3.39         NaN   \n",
      "2                                            [Apple]        3.39         NaN   \n",
      "3                                                NaN        2.39         NaN   \n",
      "4  [Tomatillo-Red Chili Salsa (Hot), [Black Beans...       16.98         NaN   \n",
      "\n",
      "   revenue  \n",
      "0     2.39  \n",
      "1     3.39  \n",
      "2     3.39  \n",
      "3     2.39  \n",
      "4    33.96  \n"
     ]
    }
   ],
   "source": [
    "print(orderle50.head())"
   ]
  },
  {
   "cell_type": "code",
   "execution_count": 32,
   "metadata": {},
   "outputs": [
    {
     "name": "stdout",
     "output_type": "stream",
     "text": [
      "4605\n"
     ]
    }
   ],
   "source": [
    "print(len(orderle50.quantity))"
   ]
  },
  {
   "cell_type": "code",
   "execution_count": 34,
   "metadata": {},
   "outputs": [
    {
     "name": "stdout",
     "output_type": "stream",
     "text": [
      "          order_id     quantity   item_price  Unnamed: 5      revenue\n",
      "count  4622.000000  4622.000000  4622.000000         0.0  4622.000000\n",
      "mean    927.254868     1.075725     7.464336         NaN     8.489186\n",
      "std     528.890796     0.410186     4.245557         NaN    12.632060\n",
      "min       1.000000     1.000000     1.090000         NaN     1.090000\n",
      "25%     477.250000     1.000000     3.390000         NaN     3.990000\n",
      "50%     926.000000     1.000000     8.750000         NaN     8.750000\n",
      "75%    1393.000000     1.000000     9.250000         NaN    10.980000\n",
      "max    1834.000000    15.000000    44.250000         NaN   663.750000\n"
     ]
    }
   ],
   "source": [
    "print(data.describe())"
   ]
  },
  {
   "cell_type": "code",
   "execution_count": 35,
   "metadata": {},
   "outputs": [
    {
     "name": "stdout",
     "output_type": "stream",
     "text": [
      "          order_id     quantity   item_price  Unnamed: 5      revenue\n",
      "count  4605.000000  4605.000000  4605.000000         0.0  4605.000000\n",
      "mean    926.362866     1.061889     7.392971         NaN     8.042786\n",
      "std     528.738972     0.278603     4.053101         NaN     6.146293\n",
      "min       1.000000     1.000000     1.090000         NaN     1.090000\n",
      "25%     476.000000     1.000000     3.390000         NaN     3.990000\n",
      "50%     926.000000     1.000000     8.750000         NaN     8.750000\n",
      "75%    1391.000000     1.000000     9.250000         NaN    10.980000\n",
      "max    1834.000000     5.000000    23.780000         NaN    47.560000\n"
     ]
    }
   ],
   "source": [
    "print(orderle50.describe())"
   ]
  },
  {
   "cell_type": "code",
   "execution_count": 36,
   "metadata": {},
   "outputs": [],
   "source": [
    "orderge50=data[(data.revenue>=50)]"
   ]
  },
  {
   "cell_type": "code",
   "execution_count": 37,
   "metadata": {},
   "outputs": [
    {
     "name": "stdout",
     "output_type": "stream",
     "text": [
      "          order_id   quantity  item_price  Unnamed: 5     revenue\n",
      "count    17.000000  17.000000   17.000000         0.0   17.000000\n",
      "mean   1168.882353   4.823529   26.795882         NaN  129.411176\n",
      "std     530.237197   3.358484    8.955029         NaN  140.077933\n",
      "min     178.000000   3.000000   10.500000         NaN   66.600000\n",
      "25%     616.000000   3.000000   22.200000         NaN   78.750000\n",
      "50%    1443.000000   3.000000   26.250000         NaN   83.250000\n",
      "75%    1454.000000   4.000000   33.750000         NaN  108.160000\n",
      "max    1786.000000  15.000000   44.250000         NaN  663.750000\n"
     ]
    }
   ],
   "source": [
    "print(orderge50.describe())"
   ]
  },
  {
   "cell_type": "code",
   "execution_count": null,
   "metadata": {},
   "outputs": [],
   "source": []
  }
 ],
 "metadata": {
  "kernelspec": {
   "display_name": "Python 3",
   "language": "python",
   "name": "python3"
  },
  "language_info": {
   "codemirror_mode": {
    "name": "ipython",
    "version": 3
   },
   "file_extension": ".py",
   "mimetype": "text/x-python",
   "name": "python",
   "nbconvert_exporter": "python",
   "pygments_lexer": "ipython3",
   "version": "3.7.4"
  }
 },
 "nbformat": 4,
 "nbformat_minor": 2
}
