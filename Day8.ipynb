{
 "cells": [
  {
   "cell_type": "code",
   "execution_count": 18,
   "metadata": {},
   "outputs": [],
   "source": [
    "#tuple\n",
    "cars=(\"Toyota\",\"Honda\",\"Toyota\",\"Honda\",\"Toyota\",\"Nissan\")"
   ]
  },
  {
   "cell_type": "code",
   "execution_count": 19,
   "metadata": {},
   "outputs": [
    {
     "name": "stdout",
     "output_type": "stream",
     "text": [
      "6\n"
     ]
    }
   ],
   "source": [
    "print(len(cars))"
   ]
  },
  {
   "cell_type": "code",
   "execution_count": 20,
   "metadata": {},
   "outputs": [
    {
     "name": "stdout",
     "output_type": "stream",
     "text": [
      "['Toyota', 'Honda', 'Nissan']\n",
      "[3, 2, 1]\n"
     ]
    }
   ],
   "source": [
    "a=len(cars)\n",
    "uniquemodel=[] #list not a tuple\n",
    "uniquemodelct=[]\n",
    " \n",
    "for i in range(a):\n",
    "    exists=0\n",
    "    b=len(uniquemodel)\n",
    "    for j in range(b):\n",
    "        if cars[i]==uniquemodel[j]:\n",
    "            uniquemodelct[j]=uniquemodelct[j]+1\n",
    "            exists=1\n",
    "    else:\n",
    "        if exists==0: #the for loop is fully executed before coming to this else. If exists=0 then, that model isn't in the unique model\n",
    "            uniquemodel.append(cars[i])\n",
    "            uniquemodelct.append(1)\n",
    "            \n",
    "\n",
    "print(uniquemodel)\n",
    "print(uniquemodelct)"
   ]
  },
  {
   "cell_type": "code",
   "execution_count": 24,
   "metadata": {},
   "outputs": [],
   "source": [
    "nset1={1,2,3}\n",
    "nset2={2,1,5,7,8,9}"
   ]
  },
  {
   "cell_type": "code",
   "execution_count": 25,
   "metadata": {},
   "outputs": [
    {
     "name": "stdout",
     "output_type": "stream",
     "text": [
      "{3}\n"
     ]
    }
   ],
   "source": [
    "#what is in 1 not in set 2\n",
    "print(nset1-nset2)"
   ]
  },
  {
   "cell_type": "code",
   "execution_count": 26,
   "metadata": {},
   "outputs": [
    {
     "name": "stdout",
     "output_type": "stream",
     "text": [
      "{8, 9, 5, 7}\n"
     ]
    }
   ],
   "source": [
    "#what is in set 2 not in set 1\n",
    "print(nset2-nset1)"
   ]
  },
  {
   "cell_type": "code",
   "execution_count": 27,
   "metadata": {},
   "outputs": [
    {
     "name": "stdout",
     "output_type": "stream",
     "text": [
      "{1, 2}\n"
     ]
    }
   ],
   "source": [
    "#what is in both set 1 and 2\n",
    "print(nset1 - (nset1-nset2))"
   ]
  },
  {
   "cell_type": "code",
   "execution_count": 29,
   "metadata": {},
   "outputs": [
    {
     "name": "stdout",
     "output_type": "stream",
     "text": [
      "{'eve'}\n",
      "{'ray', 'mark'}\n",
      "{'adam'}\n"
     ]
    }
   ],
   "source": [
    "wset1={\"adam\",\"eve\"}\n",
    "wset2={\"ray\",\"adam\",\"mark\"}\n",
    "print(wset1-wset2) #in set 1 not in set2\n",
    "print(wset2-wset1) #in set2 not in set1\n",
    "print(wset1-(wset1-wset2)) #in both sets"
   ]
  }
 ],
 "metadata": {
  "kernelspec": {
   "display_name": "Python 3",
   "language": "python",
   "name": "python3"
  },
  "language_info": {
   "codemirror_mode": {
    "name": "ipython",
    "version": 3
   },
   "file_extension": ".py",
   "mimetype": "text/x-python",
   "name": "python",
   "nbconvert_exporter": "python",
   "pygments_lexer": "ipython3",
   "version": "3.7.4"
  }
 },
 "nbformat": 4,
 "nbformat_minor": 2
}
