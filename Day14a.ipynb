{
 "cells": [
  {
   "cell_type": "code",
   "execution_count": 1,
   "metadata": {},
   "outputs": [],
   "source": [
    "import pandas as pd"
   ]
  },
  {
   "cell_type": "code",
   "execution_count": 4,
   "metadata": {},
   "outputs": [],
   "source": [
    "drinks=pd.read_csv('drinks.csv')"
   ]
  },
  {
   "cell_type": "code",
   "execution_count": 5,
   "metadata": {},
   "outputs": [
    {
     "data": {
      "text/html": [
       "<div>\n",
       "<style scoped>\n",
       "    .dataframe tbody tr th:only-of-type {\n",
       "        vertical-align: middle;\n",
       "    }\n",
       "\n",
       "    .dataframe tbody tr th {\n",
       "        vertical-align: top;\n",
       "    }\n",
       "\n",
       "    .dataframe thead th {\n",
       "        text-align: right;\n",
       "    }\n",
       "</style>\n",
       "<table border=\"1\" class=\"dataframe\">\n",
       "  <thead>\n",
       "    <tr style=\"text-align: right;\">\n",
       "      <th></th>\n",
       "      <th>country</th>\n",
       "      <th>beer_servings</th>\n",
       "      <th>spirit_servings</th>\n",
       "      <th>wine_servings</th>\n",
       "      <th>total_litres_of_pure_alcohol</th>\n",
       "      <th>continent</th>\n",
       "    </tr>\n",
       "  </thead>\n",
       "  <tbody>\n",
       "    <tr>\n",
       "      <th>0</th>\n",
       "      <td>Afghanistan</td>\n",
       "      <td>0</td>\n",
       "      <td>0</td>\n",
       "      <td>0</td>\n",
       "      <td>0.0</td>\n",
       "      <td>AS</td>\n",
       "    </tr>\n",
       "    <tr>\n",
       "      <th>1</th>\n",
       "      <td>Albania</td>\n",
       "      <td>89</td>\n",
       "      <td>132</td>\n",
       "      <td>54</td>\n",
       "      <td>4.9</td>\n",
       "      <td>EU</td>\n",
       "    </tr>\n",
       "    <tr>\n",
       "      <th>2</th>\n",
       "      <td>Algeria</td>\n",
       "      <td>25</td>\n",
       "      <td>0</td>\n",
       "      <td>14</td>\n",
       "      <td>0.7</td>\n",
       "      <td>AF</td>\n",
       "    </tr>\n",
       "    <tr>\n",
       "      <th>3</th>\n",
       "      <td>Andorra</td>\n",
       "      <td>245</td>\n",
       "      <td>138</td>\n",
       "      <td>312</td>\n",
       "      <td>12.4</td>\n",
       "      <td>EU</td>\n",
       "    </tr>\n",
       "    <tr>\n",
       "      <th>4</th>\n",
       "      <td>Angola</td>\n",
       "      <td>217</td>\n",
       "      <td>57</td>\n",
       "      <td>45</td>\n",
       "      <td>5.9</td>\n",
       "      <td>AF</td>\n",
       "    </tr>\n",
       "  </tbody>\n",
       "</table>\n",
       "</div>"
      ],
      "text/plain": [
       "       country  beer_servings  spirit_servings  wine_servings  \\\n",
       "0  Afghanistan              0                0              0   \n",
       "1      Albania             89              132             54   \n",
       "2      Algeria             25                0             14   \n",
       "3      Andorra            245              138            312   \n",
       "4       Angola            217               57             45   \n",
       "\n",
       "   total_litres_of_pure_alcohol continent  \n",
       "0                           0.0        AS  \n",
       "1                           4.9        EU  \n",
       "2                           0.7        AF  \n",
       "3                          12.4        EU  \n",
       "4                           5.9        AF  "
      ]
     },
     "execution_count": 5,
     "metadata": {},
     "output_type": "execute_result"
    }
   ],
   "source": [
    "drinks.head()"
   ]
  },
  {
   "cell_type": "code",
   "execution_count": 6,
   "metadata": {},
   "outputs": [],
   "source": [
    "dravg=drinks.groupby('continent').mean()"
   ]
  },
  {
   "cell_type": "code",
   "execution_count": 9,
   "metadata": {},
   "outputs": [
    {
     "name": "stdout",
     "output_type": "stream",
     "text": [
      "           beer_servings  spirit_servings  wine_servings  \\\n",
      "continent                                                  \n",
      "AF             61.471698        16.339623      16.264151   \n",
      "AS             37.045455        60.840909       9.068182   \n",
      "EU            193.777778       132.555556     142.222222   \n",
      "OC             89.687500        58.437500      35.625000   \n",
      "SA            175.083333       114.750000      62.416667   \n",
      "\n",
      "           total_litres_of_pure_alcohol  \n",
      "continent                                \n",
      "AF                             3.007547  \n",
      "AS                             2.170455  \n",
      "EU                             8.617778  \n",
      "OC                             3.381250  \n",
      "SA                             6.308333  \n"
     ]
    }
   ],
   "source": [
    "print(dravg)"
   ]
  },
  {
   "cell_type": "code",
   "execution_count": 10,
   "metadata": {},
   "outputs": [
    {
     "name": "stdout",
     "output_type": "stream",
     "text": [
      "193.77777777777777\n"
     ]
    }
   ],
   "source": [
    "print(dravg.beer_servings.max())"
   ]
  },
  {
   "cell_type": "code",
   "execution_count": 11,
   "metadata": {},
   "outputs": [],
   "source": [
    "drstat=drinks.groupby('continent').describe()"
   ]
  },
  {
   "cell_type": "code",
   "execution_count": 12,
   "metadata": {},
   "outputs": [
    {
     "name": "stdout",
     "output_type": "stream",
     "text": [
      "          beer_servings                                                      \\\n",
      "                  count        mean        std   min     25%    50%     75%   \n",
      "continent                                                                     \n",
      "AF                 53.0   61.471698  80.557816   0.0   15.00   32.0   76.00   \n",
      "AS                 44.0   37.045455  49.469725   0.0    4.25   17.5   60.50   \n",
      "EU                 45.0  193.777778  99.631569   0.0  127.00  219.0  270.00   \n",
      "OC                 16.0   89.687500  96.641412   0.0   21.00   52.5  125.75   \n",
      "SA                 12.0  175.083333  65.242845  93.0  129.50  162.5  198.00   \n",
      "\n",
      "                 spirit_servings              ... wine_servings         \\\n",
      "             max           count        mean  ...           75%    max   \n",
      "continent                                     ...                        \n",
      "AF         376.0            53.0   16.339623  ...         13.00  233.0   \n",
      "AS         247.0            44.0   60.840909  ...          8.00  123.0   \n",
      "EU         361.0            45.0  132.555556  ...        195.00  370.0   \n",
      "OC         306.0            16.0   58.437500  ...         23.25  212.0   \n",
      "SA         333.0            12.0  114.750000  ...         98.50  221.0   \n",
      "\n",
      "          total_litres_of_pure_alcohol                                        \\\n",
      "                                 count      mean       std  min   25%    50%   \n",
      "continent                                                                      \n",
      "AF                                53.0  3.007547  2.647557  0.0  0.70   2.30   \n",
      "AS                                44.0  2.170455  2.770239  0.0  0.10   1.20   \n",
      "EU                                45.0  8.617778  3.358455  0.0  6.60  10.00   \n",
      "OC                                16.0  3.381250  3.345688  0.0  1.00   1.75   \n",
      "SA                                12.0  6.308333  1.531166  3.8  5.25   6.85   \n",
      "\n",
      "                         \n",
      "              75%   max  \n",
      "continent                \n",
      "AF          4.700   9.1  \n",
      "AS          2.425  11.5  \n",
      "EU         10.900  14.4  \n",
      "OC          6.150  10.4  \n",
      "SA          7.375   8.3  \n",
      "\n",
      "[5 rows x 32 columns]\n"
     ]
    }
   ],
   "source": [
    "print(drstat)"
   ]
  },
  {
   "cell_type": "code",
   "execution_count": 13,
   "metadata": {},
   "outputs": [
    {
     "name": "stdout",
     "output_type": "stream",
     "text": [
      "           count        mean        std   min     25%    50%     75%    max\n",
      "continent                                                                  \n",
      "AF          53.0   61.471698  80.557816   0.0   15.00   32.0   76.00  376.0\n",
      "AS          44.0   37.045455  49.469725   0.0    4.25   17.5   60.50  247.0\n",
      "EU          45.0  193.777778  99.631569   0.0  127.00  219.0  270.00  361.0\n",
      "OC          16.0   89.687500  96.641412   0.0   21.00   52.5  125.75  306.0\n",
      "SA          12.0  175.083333  65.242845  93.0  129.50  162.5  198.00  333.0\n"
     ]
    }
   ],
   "source": [
    "print(drstat.beer_servings)"
   ]
  },
  {
   "cell_type": "code",
   "execution_count": 14,
   "metadata": {},
   "outputs": [
    {
     "name": "stdout",
     "output_type": "stream",
     "text": [
      "           count        mean        std  min   25%    50%     75%    max\n",
      "continent                                                               \n",
      "AF          53.0   16.264151  38.846419  0.0   1.0    2.0   13.00  233.0\n",
      "AS          44.0    9.068182  21.667034  0.0   0.0    1.0    8.00  123.0\n",
      "EU          45.0  142.222222  97.421738  0.0  59.0  128.0  195.00  370.0\n",
      "OC          16.0   35.625000  64.555790  0.0   1.0    8.5   23.25  212.0\n",
      "SA          12.0   62.416667  88.620189  1.0   3.0   12.0   98.50  221.0\n"
     ]
    }
   ],
   "source": [
    "print(drstat.wine_servings)"
   ]
  },
  {
   "cell_type": "code",
   "execution_count": 15,
   "metadata": {},
   "outputs": [
    {
     "name": "stdout",
     "output_type": "stream",
     "text": [
      "           count        mean        std   min    25%    50%     75%    max\n",
      "continent                                                                 \n",
      "AF          53.0   16.339623  28.102794   0.0   1.00    3.0   19.00  152.0\n",
      "AS          44.0   60.840909  84.362160   0.0   1.00   16.0   98.00  326.0\n",
      "EU          45.0  132.555556  77.589115   0.0  81.00  122.0  173.00  373.0\n",
      "OC          16.0   58.437500  70.504817   0.0  18.00   37.0   65.25  254.0\n",
      "SA          12.0  114.750000  77.077440  25.0  65.75  108.5  148.75  302.0\n"
     ]
    }
   ],
   "source": [
    "print(drstat.spirit_servings)"
   ]
  },
  {
   "cell_type": "code",
   "execution_count": 16,
   "metadata": {},
   "outputs": [
    {
     "name": "stdout",
     "output_type": "stream",
     "text": [
      "           count      mean       std  min   25%    50%     75%   max\n",
      "continent                                                           \n",
      "AF          53.0  3.007547  2.647557  0.0  0.70   2.30   4.700   9.1\n",
      "AS          44.0  2.170455  2.770239  0.0  0.10   1.20   2.425  11.5\n",
      "EU          45.0  8.617778  3.358455  0.0  6.60  10.00  10.900  14.4\n",
      "OC          16.0  3.381250  3.345688  0.0  1.00   1.75   6.150  10.4\n",
      "SA          12.0  6.308333  1.531166  3.8  5.25   6.85   7.375   8.3\n"
     ]
    }
   ],
   "source": [
    "print(drstat.total_litres_of_pure_alcohol)"
   ]
  },
  {
   "cell_type": "code",
   "execution_count": 32,
   "metadata": {},
   "outputs": [],
   "source": [
    "fildr1=drinks[(drinks.beer_servings>0)]\n",
    "fildr2=fildr1[(fildr1.spirit_servings>0)]\n",
    "fildr3=fildr2[(fildr2.wine_servings>0)]"
   ]
  },
  {
   "cell_type": "code",
   "execution_count": 33,
   "metadata": {},
   "outputs": [
    {
     "name": "stdout",
     "output_type": "stream",
     "text": [
      "               country  beer_servings  spirit_servings  wine_servings  \\\n",
      "1              Albania             89              132             54   \n",
      "3              Andorra            245              138            312   \n",
      "4               Angola            217               57             45   \n",
      "5    Antigua & Barbuda            102              128             45   \n",
      "6            Argentina            193               25            221   \n",
      "..                 ...            ...              ...            ...   \n",
      "187            Vanuatu             21               18             11   \n",
      "188          Venezuela            333              100              3   \n",
      "189            Vietnam            111                2              1   \n",
      "191             Zambia             32               19              4   \n",
      "192           Zimbabwe             64               18              4   \n",
      "\n",
      "     total_litres_of_pure_alcohol continent  \n",
      "1                             4.9        EU  \n",
      "3                            12.4        EU  \n",
      "4                             5.9        AF  \n",
      "5                             4.9       NaN  \n",
      "6                             8.3        SA  \n",
      "..                            ...       ...  \n",
      "187                           0.9        OC  \n",
      "188                           7.7        SA  \n",
      "189                           2.0        AS  \n",
      "191                           2.5        AF  \n",
      "192                           4.7        AF  \n",
      "\n",
      "[155 rows x 6 columns]\n"
     ]
    }
   ],
   "source": [
    "print(fildr3)"
   ]
  },
  {
   "cell_type": "code",
   "execution_count": 34,
   "metadata": {},
   "outputs": [
    {
     "name": "stdout",
     "output_type": "stream",
     "text": [
      "               country  beer_servings  spirit_servings  wine_servings  \\\n",
      "1              Albania             89              132             54   \n",
      "2              Algeria             25                0             14   \n",
      "3              Andorra            245              138            312   \n",
      "4               Angola            217               57             45   \n",
      "5    Antigua & Barbuda            102              128             45   \n",
      "..                 ...            ...              ...            ...   \n",
      "188          Venezuela            333              100              3   \n",
      "189            Vietnam            111                2              1   \n",
      "190              Yemen              6                0              0   \n",
      "191             Zambia             32               19              4   \n",
      "192           Zimbabwe             64               18              4   \n",
      "\n",
      "     total_litres_of_pure_alcohol continent  \n",
      "1                             4.9        EU  \n",
      "2                             0.7        AF  \n",
      "3                            12.4        EU  \n",
      "4                             5.9        AF  \n",
      "5                             4.9       NaN  \n",
      "..                            ...       ...  \n",
      "188                           7.7        SA  \n",
      "189                           2.0        AS  \n",
      "190                           0.1        AS  \n",
      "191                           2.5        AF  \n",
      "192                           4.7        AF  \n",
      "\n",
      "[178 rows x 6 columns]\n"
     ]
    }
   ],
   "source": [
    "print(fildr1)"
   ]
  },
  {
   "cell_type": "code",
   "execution_count": 35,
   "metadata": {},
   "outputs": [
    {
     "name": "stdout",
     "output_type": "stream",
     "text": [
      "               country  beer_servings  spirit_servings  wine_servings  \\\n",
      "1              Albania             89              132             54   \n",
      "3              Andorra            245              138            312   \n",
      "4               Angola            217               57             45   \n",
      "5    Antigua & Barbuda            102              128             45   \n",
      "6            Argentina            193               25            221   \n",
      "..                 ...            ...              ...            ...   \n",
      "187            Vanuatu             21               18             11   \n",
      "188          Venezuela            333              100              3   \n",
      "189            Vietnam            111                2              1   \n",
      "191             Zambia             32               19              4   \n",
      "192           Zimbabwe             64               18              4   \n",
      "\n",
      "     total_litres_of_pure_alcohol continent  \n",
      "1                             4.9        EU  \n",
      "3                            12.4        EU  \n",
      "4                             5.9        AF  \n",
      "5                             4.9       NaN  \n",
      "6                             8.3        SA  \n",
      "..                            ...       ...  \n",
      "187                           0.9        OC  \n",
      "188                           7.7        SA  \n",
      "189                           2.0        AS  \n",
      "191                           2.5        AF  \n",
      "192                           4.7        AF  \n",
      "\n",
      "[168 rows x 6 columns]\n"
     ]
    }
   ],
   "source": [
    "print(fildr2)"
   ]
  },
  {
   "cell_type": "code",
   "execution_count": 31,
   "metadata": {},
   "outputs": [
    {
     "data": {
      "text/plain": [
       "<matplotlib.axes._subplots.AxesSubplot at 0x11cbe0f90>"
      ]
     },
     "execution_count": 31,
     "metadata": {},
     "output_type": "execute_result"
    },
    {
     "data": {
      "image/png": "[encoded data removed]",
      "text/plain": [
       "<Figure size 432x288 with 1 Axes>"
      ]
     },
     "metadata": {
      "needs_background": "light"
     },
     "output_type": "display_data"
    }
   ],
   "source": [
    "%matplotlib inline\n",
    "dravg.plot(kind='bar')"
   ]
  },
  {
   "cell_type": "code",
   "execution_count": 40,
   "metadata": {},
   "outputs": [
    {
     "data": {
      "text/html": [
       "<div>\n",
       "<style scoped>\n",
       "    .dataframe tbody tr th:only-of-type {\n",
       "        vertical-align: middle;\n",
       "    }\n",
       "\n",
       "    .dataframe tbody tr th {\n",
       "        vertical-align: top;\n",
       "    }\n",
       "\n",
       "    .dataframe thead th {\n",
       "        text-align: right;\n",
       "    }\n",
       "</style>\n",
       "<table border=\"1\" class=\"dataframe\">\n",
       "  <thead>\n",
       "    <tr style=\"text-align: right;\">\n",
       "      <th></th>\n",
       "      <th>country</th>\n",
       "      <th>beer_servings</th>\n",
       "      <th>spirit_servings</th>\n",
       "      <th>wine_servings</th>\n",
       "      <th>total_litres_of_pure_alcohol</th>\n",
       "      <th>continent</th>\n",
       "    </tr>\n",
       "  </thead>\n",
       "  <tbody>\n",
       "    <tr>\n",
       "      <th>117</th>\n",
       "      <td>Namibia</td>\n",
       "      <td>376</td>\n",
       "      <td>3</td>\n",
       "      <td>1</td>\n",
       "      <td>6.8</td>\n",
       "      <td>AF</td>\n",
       "    </tr>\n",
       "  </tbody>\n",
       "</table>\n",
       "</div>"
      ],
      "text/plain": [
       "     country  beer_servings  spirit_servings  wine_servings  \\\n",
       "117  Namibia            376                3              1   \n",
       "\n",
       "     total_litres_of_pure_alcohol continent  \n",
       "117                           6.8        AF  "
      ]
     },
     "execution_count": 40,
     "metadata": {},
     "output_type": "execute_result"
    }
   ],
   "source": [
    "drinks[(drinks.beer_servings==376)]"
   ]
  },
  {
   "cell_type": "code",
   "execution_count": 42,
   "metadata": {},
   "outputs": [
    {
     "name": "stdout",
     "output_type": "stream",
     "text": [
      "<bound method DataFrame.max of            count        mean        std   min     25%    50%     75%    max\n",
      "continent                                                                  \n",
      "AF          53.0   61.471698  80.557816   0.0   15.00   32.0   76.00  376.0\n",
      "AS          44.0   37.045455  49.469725   0.0    4.25   17.5   60.50  247.0\n",
      "EU          45.0  193.777778  99.631569   0.0  127.00  219.0  270.00  361.0\n",
      "OC          16.0   89.687500  96.641412   0.0   21.00   52.5  125.75  306.0\n",
      "SA          12.0  175.083333  65.242845  93.0  129.50  162.5  198.00  333.0>\n"
     ]
    }
   ],
   "source": [
    "print(drstat.beer_servings.max)"
   ]
  },
  {
   "cell_type": "code",
   "execution_count": 43,
   "metadata": {},
   "outputs": [
    {
     "data": {
      "text/html": [
       "<div>\n",
       "<style scoped>\n",
       "    .dataframe tbody tr th:only-of-type {\n",
       "        vertical-align: middle;\n",
       "    }\n",
       "\n",
       "    .dataframe tbody tr th {\n",
       "        vertical-align: top;\n",
       "    }\n",
       "\n",
       "    .dataframe thead th {\n",
       "        text-align: right;\n",
       "    }\n",
       "</style>\n",
       "<table border=\"1\" class=\"dataframe\">\n",
       "  <thead>\n",
       "    <tr style=\"text-align: right;\">\n",
       "      <th></th>\n",
       "      <th>country</th>\n",
       "      <th>beer_servings</th>\n",
       "      <th>spirit_servings</th>\n",
       "      <th>wine_servings</th>\n",
       "      <th>total_litres_of_pure_alcohol</th>\n",
       "      <th>continent</th>\n",
       "    </tr>\n",
       "  </thead>\n",
       "  <tbody>\n",
       "    <tr>\n",
       "      <th>141</th>\n",
       "      <td>Russian Federation</td>\n",
       "      <td>247</td>\n",
       "      <td>326</td>\n",
       "      <td>73</td>\n",
       "      <td>11.5</td>\n",
       "      <td>AS</td>\n",
       "    </tr>\n",
       "  </tbody>\n",
       "</table>\n",
       "</div>"
      ],
      "text/plain": [
       "                country  beer_servings  spirit_servings  wine_servings  \\\n",
       "141  Russian Federation            247              326             73   \n",
       "\n",
       "     total_litres_of_pure_alcohol continent  \n",
       "141                          11.5        AS  "
      ]
     },
     "execution_count": 43,
     "metadata": {},
     "output_type": "execute_result"
    }
   ],
   "source": [
    "drinks[(drinks.beer_servings==247)]"
   ]
  },
  {
   "cell_type": "code",
   "execution_count": 44,
   "metadata": {},
   "outputs": [
    {
     "data": {
      "text/html": [
       "<div>\n",
       "<style scoped>\n",
       "    .dataframe tbody tr th:only-of-type {\n",
       "        vertical-align: middle;\n",
       "    }\n",
       "\n",
       "    .dataframe tbody tr th {\n",
       "        vertical-align: top;\n",
       "    }\n",
       "\n",
       "    .dataframe thead th {\n",
       "        text-align: right;\n",
       "    }\n",
       "</style>\n",
       "<table border=\"1\" class=\"dataframe\">\n",
       "  <thead>\n",
       "    <tr style=\"text-align: right;\">\n",
       "      <th></th>\n",
       "      <th>country</th>\n",
       "      <th>beer_servings</th>\n",
       "      <th>spirit_servings</th>\n",
       "      <th>wine_servings</th>\n",
       "      <th>total_litres_of_pure_alcohol</th>\n",
       "      <th>continent</th>\n",
       "    </tr>\n",
       "  </thead>\n",
       "  <tbody>\n",
       "    <tr>\n",
       "      <th>45</th>\n",
       "      <td>Czech Republic</td>\n",
       "      <td>361</td>\n",
       "      <td>170</td>\n",
       "      <td>134</td>\n",
       "      <td>11.8</td>\n",
       "      <td>EU</td>\n",
       "    </tr>\n",
       "  </tbody>\n",
       "</table>\n",
       "</div>"
      ],
      "text/plain": [
       "           country  beer_servings  spirit_servings  wine_servings  \\\n",
       "45  Czech Republic            361              170            134   \n",
       "\n",
       "    total_litres_of_pure_alcohol continent  \n",
       "45                          11.8        EU  "
      ]
     },
     "execution_count": 44,
     "metadata": {},
     "output_type": "execute_result"
    }
   ],
   "source": [
    "drinks[(drinks.beer_servings==361)]"
   ]
  },
  {
   "cell_type": "code",
   "execution_count": 59,
   "metadata": {},
   "outputs": [],
   "source": [
    "drsum=drinks.groupby(['continent']).sum('total_litres_of_pure_alcohol')"
   ]
  },
  {
   "cell_type": "code",
   "execution_count": 60,
   "metadata": {},
   "outputs": [
    {
     "name": "stdout",
     "output_type": "stream",
     "text": [
      "           beer_servings  spirit_servings  wine_servings  \\\n",
      "continent                                                  \n",
      "AF                  3258              866            862   \n",
      "AS                  1630             2677            399   \n",
      "EU                  8720             5965           6400   \n",
      "OC                  1435              935            570   \n",
      "SA                  2101             1377            749   \n",
      "\n",
      "           total_litres_of_pure_alcohol  \n",
      "continent                                \n",
      "AF                                159.4  \n",
      "AS                                 95.5  \n",
      "EU                                387.8  \n",
      "OC                                 54.1  \n",
      "SA                                 75.7  \n"
     ]
    }
   ],
   "source": [
    "print(drsum)"
   ]
  },
  {
   "cell_type": "code",
   "execution_count": 77,
   "metadata": {},
   "outputs": [
    {
     "name": "stdout",
     "output_type": "stream",
     "text": [
      "continent\n",
      "AF    376.0\n",
      "AS    247.0\n",
      "EU    361.0\n",
      "OC    306.0\n",
      "SA    333.0\n",
      "Name: (beer_servings, max), dtype: float64\n"
     ]
    }
   ],
   "source": [
    "print(drstat[('beer_servings','max')])"
   ]
  },
  {
   "cell_type": "code",
   "execution_count": 74,
   "metadata": {},
   "outputs": [
    {
     "data": {
      "text/plain": [
       "MultiIndex([(               'beer_servings', 'count'),\n",
       "            (               'beer_servings',  'mean'),\n",
       "            (               'beer_servings',   'std'),\n",
       "            (               'beer_servings',   'min'),\n",
       "            (               'beer_servings',   '25%'),\n",
       "            (               'beer_servings',   '50%'),\n",
       "            (               'beer_servings',   '75%'),\n",
       "            (               'beer_servings',   'max'),\n",
       "            (             'spirit_servings', 'count'),\n",
       "            (             'spirit_servings',  'mean'),\n",
       "            (             'spirit_servings',   'std'),\n",
       "            (             'spirit_servings',   'min'),\n",
       "            (             'spirit_servings',   '25%'),\n",
       "            (             'spirit_servings',   '50%'),\n",
       "            (             'spirit_servings',   '75%'),\n",
       "            (             'spirit_servings',   'max'),\n",
       "            (               'wine_servings', 'count'),\n",
       "            (               'wine_servings',  'mean'),\n",
       "            (               'wine_servings',   'std'),\n",
       "            (               'wine_servings',   'min'),\n",
       "            (               'wine_servings',   '25%'),\n",
       "            (               'wine_servings',   '50%'),\n",
       "            (               'wine_servings',   '75%'),\n",
       "            (               'wine_servings',   'max'),\n",
       "            ('total_litres_of_pure_alcohol', 'count'),\n",
       "            ('total_litres_of_pure_alcohol',  'mean'),\n",
       "            ('total_litres_of_pure_alcohol',   'std'),\n",
       "            ('total_litres_of_pure_alcohol',   'min'),\n",
       "            ('total_litres_of_pure_alcohol',   '25%'),\n",
       "            ('total_litres_of_pure_alcohol',   '50%'),\n",
       "            ('total_litres_of_pure_alcohol',   '75%'),\n",
       "            ('total_litres_of_pure_alcohol',   'max')],\n",
       "           )"
      ]
     },
     "execution_count": 74,
     "metadata": {},
     "output_type": "execute_result"
    }
   ],
   "source": [
    "drstat.columns"
   ]
  },
  {
   "cell_type": "code",
   "execution_count": 78,
   "metadata": {},
   "outputs": [],
   "source": [
    "maxbeer=drstat[('beer_servings','max')]"
   ]
  },
  {
   "cell_type": "code",
   "execution_count": 81,
   "metadata": {},
   "outputs": [
    {
     "name": "stdout",
     "output_type": "stream",
     "text": [
      "continent\n",
      "AF    376.0\n",
      "AS    247.0\n",
      "EU    361.0\n",
      "OC    306.0\n",
      "SA    333.0\n",
      "Name: (beer_servings, max), dtype: float64\n"
     ]
    }
   ],
   "source": [
    "print(maxbeer)"
   ]
  },
  {
   "cell_type": "code",
   "execution_count": 82,
   "metadata": {},
   "outputs": [
    {
     "data": {
      "text/plain": [
       "5"
      ]
     },
     "execution_count": 82,
     "metadata": {},
     "output_type": "execute_result"
    }
   ],
   "source": [
    "len(maxbeer)"
   ]
  },
  {
   "cell_type": "code",
   "execution_count": 91,
   "metadata": {},
   "outputs": [
    {
     "name": "stdout",
     "output_type": "stream",
     "text": [
      "     country  beer_servings  spirit_servings  wine_servings  \\\n",
      "117  Namibia            376                3              1   \n",
      "\n",
      "     total_litres_of_pure_alcohol continent  \n",
      "117                           6.8        AF  \n",
      "                country  beer_servings  spirit_servings  wine_servings  \\\n",
      "141  Russian Federation            247              326             73   \n",
      "\n",
      "     total_litres_of_pure_alcohol continent  \n",
      "141                          11.5        AS  \n",
      "           country  beer_servings  spirit_servings  wine_servings  \\\n",
      "45  Czech Republic            361              170            134   \n",
      "\n",
      "    total_litres_of_pure_alcohol continent  \n",
      "45                          11.8        EU  \n",
      "    country  beer_servings  spirit_servings  wine_servings  \\\n",
      "129   Palau            306               63             23   \n",
      "\n",
      "     total_litres_of_pure_alcohol continent  \n",
      "129                           6.9        OC  \n",
      "       country  beer_servings  spirit_servings  wine_servings  \\\n",
      "188  Venezuela            333              100              3   \n",
      "\n",
      "     total_litres_of_pure_alcohol continent  \n",
      "188                           7.7        SA  \n"
     ]
    }
   ],
   "source": [
    "for i in range(len(maxbeer)):\n",
    "    print(drinks[drinks.beer_servings==maxbeer[i]])"
   ]
  },
  {
   "cell_type": "code",
   "execution_count": 85,
   "metadata": {},
   "outputs": [
    {
     "name": "stdout",
     "output_type": "stream",
     "text": [
      "247.0\n"
     ]
    }
   ],
   "source": [
    "print(maxbeer[1])"
   ]
  },
  {
   "cell_type": "code",
   "execution_count": 92,
   "metadata": {},
   "outputs": [],
   "source": [
    "minbeer=drstat[('beer_servings','min')]"
   ]
  },
  {
   "cell_type": "code",
   "execution_count": 93,
   "metadata": {},
   "outputs": [
    {
     "name": "stdout",
     "output_type": "stream",
     "text": [
      "              country  beer_servings  spirit_servings  wine_servings  \\\n",
      "0         Afghanistan              0                0              0   \n",
      "13         Bangladesh              0                0              0   \n",
      "40       Cook Islands              0              254             74   \n",
      "46        North Korea              0                0              0   \n",
      "79               Iran              0                0              0   \n",
      "90             Kuwait              0                0              0   \n",
      "97              Libya              0                0              0   \n",
      "103          Maldives              0                0              0   \n",
      "106  Marshall Islands              0                0              0   \n",
      "107        Mauritania              0                0              0   \n",
      "111            Monaco              0                0              0   \n",
      "128          Pakistan              0                0              0   \n",
      "147        San Marino              0                0              0   \n",
      "149      Saudi Arabia              0                5              0   \n",
      "158           Somalia              0                0              0   \n",
      "\n",
      "     total_litres_of_pure_alcohol continent  \n",
      "0                             0.0        AS  \n",
      "13                            0.0        AS  \n",
      "40                            5.9        OC  \n",
      "46                            0.0        AS  \n",
      "79                            0.0        AS  \n",
      "90                            0.0        AS  \n",
      "97                            0.0        AF  \n",
      "103                           0.0        AS  \n",
      "106                           0.0        OC  \n",
      "107                           0.0        AF  \n",
      "111                           0.0        EU  \n",
      "128                           0.0        AS  \n",
      "147                           0.0        EU  \n",
      "149                           0.1        AS  \n",
      "158                           0.0        AF  \n",
      "              country  beer_servings  spirit_servings  wine_servings  \\\n",
      "0         Afghanistan              0                0              0   \n",
      "13         Bangladesh              0                0              0   \n",
      "40       Cook Islands              0              254             74   \n",
      "46        North Korea              0                0              0   \n",
      "79               Iran              0                0              0   \n",
      "90             Kuwait              0                0              0   \n",
      "97              Libya              0                0              0   \n",
      "103          Maldives              0                0              0   \n",
      "106  Marshall Islands              0                0              0   \n",
      "107        Mauritania              0                0              0   \n",
      "111            Monaco              0                0              0   \n",
      "128          Pakistan              0                0              0   \n",
      "147        San Marino              0                0              0   \n",
      "149      Saudi Arabia              0                5              0   \n",
      "158           Somalia              0                0              0   \n",
      "\n",
      "     total_litres_of_pure_alcohol continent  \n",
      "0                             0.0        AS  \n",
      "13                            0.0        AS  \n",
      "40                            5.9        OC  \n",
      "46                            0.0        AS  \n",
      "79                            0.0        AS  \n",
      "90                            0.0        AS  \n",
      "97                            0.0        AF  \n",
      "103                           0.0        AS  \n",
      "106                           0.0        OC  \n",
      "107                           0.0        AF  \n",
      "111                           0.0        EU  \n",
      "128                           0.0        AS  \n",
      "147                           0.0        EU  \n",
      "149                           0.1        AS  \n",
      "158                           0.0        AF  \n",
      "              country  beer_servings  spirit_servings  wine_servings  \\\n",
      "0         Afghanistan              0                0              0   \n",
      "13         Bangladesh              0                0              0   \n",
      "40       Cook Islands              0              254             74   \n",
      "46        North Korea              0                0              0   \n",
      "79               Iran              0                0              0   \n",
      "90             Kuwait              0                0              0   \n",
      "97              Libya              0                0              0   \n",
      "103          Maldives              0                0              0   \n",
      "106  Marshall Islands              0                0              0   \n",
      "107        Mauritania              0                0              0   \n",
      "111            Monaco              0                0              0   \n",
      "128          Pakistan              0                0              0   \n",
      "147        San Marino              0                0              0   \n",
      "149      Saudi Arabia              0                5              0   \n",
      "158           Somalia              0                0              0   \n",
      "\n",
      "     total_litres_of_pure_alcohol continent  \n",
      "0                             0.0        AS  \n",
      "13                            0.0        AS  \n",
      "40                            5.9        OC  \n",
      "46                            0.0        AS  \n",
      "79                            0.0        AS  \n",
      "90                            0.0        AS  \n",
      "97                            0.0        AF  \n",
      "103                           0.0        AS  \n",
      "106                           0.0        OC  \n",
      "107                           0.0        AF  \n",
      "111                           0.0        EU  \n",
      "128                           0.0        AS  \n",
      "147                           0.0        EU  \n",
      "149                           0.1        AS  \n",
      "158                           0.0        AF  \n",
      "              country  beer_servings  spirit_servings  wine_servings  \\\n",
      "0         Afghanistan              0                0              0   \n",
      "13         Bangladesh              0                0              0   \n",
      "40       Cook Islands              0              254             74   \n",
      "46        North Korea              0                0              0   \n",
      "79               Iran              0                0              0   \n",
      "90             Kuwait              0                0              0   \n",
      "97              Libya              0                0              0   \n",
      "103          Maldives              0                0              0   \n",
      "106  Marshall Islands              0                0              0   \n",
      "107        Mauritania              0                0              0   \n",
      "111            Monaco              0                0              0   \n",
      "128          Pakistan              0                0              0   \n",
      "147        San Marino              0                0              0   \n",
      "149      Saudi Arabia              0                5              0   \n",
      "158           Somalia              0                0              0   \n",
      "\n",
      "     total_litres_of_pure_alcohol continent  \n",
      "0                             0.0        AS  \n",
      "13                            0.0        AS  \n",
      "40                            5.9        OC  \n",
      "46                            0.0        AS  \n",
      "79                            0.0        AS  \n",
      "90                            0.0        AS  \n",
      "97                            0.0        AF  \n",
      "103                           0.0        AS  \n",
      "106                           0.0        OC  \n",
      "107                           0.0        AF  \n",
      "111                           0.0        EU  \n",
      "128                           0.0        AS  \n",
      "147                           0.0        EU  \n",
      "149                           0.1        AS  \n",
      "158                           0.0        AF  \n",
      "   country  beer_servings  spirit_servings  wine_servings  \\\n",
      "43    Cuba             93              137              5   \n",
      "72  Guyana             93              302              1   \n",
      "\n",
      "    total_litres_of_pure_alcohol continent  \n",
      "43                           4.2       NaN  \n",
      "72                           7.1        SA  \n"
     ]
    }
   ],
   "source": [
    "for i in range(len(minbeer)):\n",
    "    print(drinks[drinks.beer_servings==minbeer[i]])"
   ]
  },
  {
   "cell_type": "code",
   "execution_count": 104,
   "metadata": {},
   "outputs": [],
   "source": [
    "almax=drstat[('total_litres_of_pure_alcohol','max')]\n"
   ]
  },
  {
   "cell_type": "code",
   "execution_count": 109,
   "metadata": {},
   "outputs": [
    {
     "name": "stdout",
     "output_type": "stream",
     "text": [
      "     country  beer_servings  spirit_servings  wine_servings  \\\n",
      "124  Nigeria             42                5              2   \n",
      "\n",
      "     total_litres_of_pure_alcohol continent  \n",
      "124                           9.1        AF  \n",
      "                country  beer_servings  spirit_servings  wine_servings  \\\n",
      "141  Russian Federation            247              326             73   \n",
      "\n",
      "     total_litres_of_pure_alcohol continent  \n",
      "141                          11.5        AS  \n",
      "    country  beer_servings  spirit_servings  wine_servings  \\\n",
      "15  Belarus            142              373             42   \n",
      "\n",
      "    total_litres_of_pure_alcohol continent  \n",
      "15                          14.4        EU  \n",
      "            country  beer_servings  spirit_servings  wine_servings  \\\n",
      "8         Australia            261               72            212   \n",
      "48          Denmark            224               81            278   \n",
      "140         Romania            297              122            167   \n",
      "182  United Kingdom            219              126            195   \n",
      "\n",
      "     total_litres_of_pure_alcohol continent  \n",
      "8                            10.4        OC  \n",
      "48                           10.4        EU  \n",
      "140                          10.4        EU  \n",
      "182                          10.4        EU  \n",
      "       country  beer_servings  spirit_servings  wine_servings  \\\n",
      "6    Argentina            193               25            221   \n",
      "67      Greece            133              112            218   \n",
      "179     Uganda             45                9              0   \n",
      "\n",
      "     total_litres_of_pure_alcohol continent  \n",
      "6                             8.3        SA  \n",
      "67                            8.3        EU  \n",
      "179                           8.3        AF  \n"
     ]
    }
   ],
   "source": [
    "for i in range(len(almax)):\n",
    "    print(drinks[drinks.total_litres_of_pure_alcohol==almax[i]])"
   ]
  },
  {
   "cell_type": "code",
   "execution_count": 102,
   "metadata": {},
   "outputs": [
    {
     "name": "stdout",
     "output_type": "stream",
     "text": [
      "continent\n",
      "AF     9.1\n",
      "AS    11.5\n",
      "EU    14.4\n",
      "OC    10.4\n",
      "SA     8.3\n",
      "Name: (total_litres_of_pure_alcohol, max), dtype: float64\n"
     ]
    }
   ],
   "source": [
    "print(almax)"
   ]
  },
  {
   "cell_type": "code",
   "execution_count": 120,
   "metadata": {},
   "outputs": [
    {
     "ename": "ValueError",
     "evalue": "The truth value of a Series is ambiguous. Use a.empty, a.bool(), a.item(), a.any() or a.all().",
     "output_type": "error",
     "traceback": [
      "\u001b[0;31m---------------------------------------------------------------------------\u001b[0m",
      "\u001b[0;31mValueError\u001b[0m                                Traceback (most recent call last)",
      "\u001b[0;32m<ipython-input-120-bb8981131a34>\u001b[0m in \u001b[0;36m<module>\u001b[0;34m\u001b[0m\n\u001b[1;32m      1\u001b[0m \u001b[0;32mfor\u001b[0m \u001b[0mi\u001b[0m \u001b[0;32min\u001b[0m \u001b[0mrange\u001b[0m\u001b[0;34m(\u001b[0m\u001b[0mlen\u001b[0m\u001b[0;34m(\u001b[0m\u001b[0malmax\u001b[0m\u001b[0;34m)\u001b[0m\u001b[0;34m)\u001b[0m\u001b[0;34m:\u001b[0m\u001b[0;34m\u001b[0m\u001b[0;34m\u001b[0m\u001b[0m\n\u001b[1;32m      2\u001b[0m     \u001b[0;32mfor\u001b[0m \u001b[0mj\u001b[0m \u001b[0;32min\u001b[0m \u001b[0mrange\u001b[0m\u001b[0;34m(\u001b[0m\u001b[0mlen\u001b[0m\u001b[0;34m(\u001b[0m\u001b[0mconti\u001b[0m\u001b[0;34m)\u001b[0m\u001b[0;34m)\u001b[0m\u001b[0;34m:\u001b[0m\u001b[0;34m\u001b[0m\u001b[0;34m\u001b[0m\u001b[0m\n\u001b[0;32m----> 3\u001b[0;31m         \u001b[0;32mif\u001b[0m \u001b[0mdrinks\u001b[0m\u001b[0;34m.\u001b[0m\u001b[0mcontinent\u001b[0m\u001b[0;34m==\u001b[0m\u001b[0mconti\u001b[0m\u001b[0;34m[\u001b[0m\u001b[0mj\u001b[0m\u001b[0;34m]\u001b[0m\u001b[0;34m:\u001b[0m\u001b[0;34m\u001b[0m\u001b[0;34m\u001b[0m\u001b[0m\n\u001b[0m\u001b[1;32m      4\u001b[0m             \u001b[0mprint\u001b[0m\u001b[0;34m(\u001b[0m\u001b[0mdrinks\u001b[0m\u001b[0;34m[\u001b[0m\u001b[0mdrinks\u001b[0m\u001b[0;34m.\u001b[0m\u001b[0mtotal_litres_of_pure_alcohol\u001b[0m\u001b[0;34m==\u001b[0m\u001b[0malmax\u001b[0m\u001b[0;34m[\u001b[0m\u001b[0mi\u001b[0m\u001b[0;34m]\u001b[0m\u001b[0;34m]\u001b[0m\u001b[0;34m)\u001b[0m\u001b[0;34m\u001b[0m\u001b[0;34m\u001b[0m\u001b[0m\n",
      "\u001b[0;32m/opt/anaconda3/lib/python3.7/site-packages/pandas/core/generic.py\u001b[0m in \u001b[0;36m__nonzero__\u001b[0;34m(self)\u001b[0m\n\u001b[1;32m   1328\u001b[0m     \u001b[0;32mdef\u001b[0m \u001b[0m__nonzero__\u001b[0m\u001b[0;34m(\u001b[0m\u001b[0mself\u001b[0m\u001b[0;34m)\u001b[0m\u001b[0;34m:\u001b[0m\u001b[0;34m\u001b[0m\u001b[0;34m\u001b[0m\u001b[0m\n\u001b[1;32m   1329\u001b[0m         raise ValueError(\n\u001b[0;32m-> 1330\u001b[0;31m             \u001b[0;34mf\"The truth value of a {type(self).__name__} is ambiguous. \"\u001b[0m\u001b[0;34m\u001b[0m\u001b[0;34m\u001b[0m\u001b[0m\n\u001b[0m\u001b[1;32m   1331\u001b[0m             \u001b[0;34m\"Use a.empty, a.bool(), a.item(), a.any() or a.all().\"\u001b[0m\u001b[0;34m\u001b[0m\u001b[0;34m\u001b[0m\u001b[0m\n\u001b[1;32m   1332\u001b[0m         )\n",
      "\u001b[0;31mValueError\u001b[0m: The truth value of a Series is ambiguous. Use a.empty, a.bool(), a.item(), a.any() or a.all()."
     ]
    }
   ],
   "source": [
    "for i in range(len(almax)):\n",
    "    for j in range(len(conti)):\n",
    "        if drinks.continent==conti[j]:\n",
    "            print(drinks[drinks.total_litres_of_pure_alcohol==almax[i]])"
   ]
  },
  {
   "cell_type": "code",
   "execution_count": 115,
   "metadata": {},
   "outputs": [
    {
     "name": "stdout",
     "output_type": "stream",
     "text": [
      "193\n"
     ]
    }
   ],
   "source": [
    "print(len(drinks.continent))"
   ]
  },
  {
   "cell_type": "code",
   "execution_count": 116,
   "metadata": {},
   "outputs": [
    {
     "name": "stdout",
     "output_type": "stream",
     "text": [
      "['AS' 'EU' 'AF' nan 'SA' 'OC']\n"
     ]
    }
   ],
   "source": [
    "print(drinks.continent.unique())"
   ]
  },
  {
   "cell_type": "code",
   "execution_count": 117,
   "metadata": {},
   "outputs": [],
   "source": [
    "conti=drinks.continent.unique()"
   ]
  },
  {
   "cell_type": "code",
   "execution_count": 118,
   "metadata": {},
   "outputs": [
    {
     "data": {
      "text/plain": [
       "'EU'"
      ]
     },
     "execution_count": 118,
     "metadata": {},
     "output_type": "execute_result"
    }
   ],
   "source": [
    "conti[1]"
   ]
  },
  {
   "cell_type": "code",
   "execution_count": null,
   "metadata": {},
   "outputs": [],
   "source": []
  }
 ],
 "metadata": {
  "kernelspec": {
   "display_name": "Python 3",
   "language": "python",
   "name": "python3"
  },
  "language_info": {
   "codemirror_mode": {
    "name": "ipython",
    "version": 3
   },
   "file_extension": ".py",
   "mimetype": "text/x-python",
   "name": "python",
   "nbconvert_exporter": "python",
   "pygments_lexer": "ipython3",
   "version": "3.7.4"
  }
 },
 "nbformat": 4,
 "nbformat_minor": 2
}
