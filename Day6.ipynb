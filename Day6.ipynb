{
 "cells": [
  {
   "cell_type": "code",
   "execution_count": 19,
   "metadata": {},
   "outputs": [
    {
     "name": "stdout",
     "output_type": "stream",
     "text": [
      "Enter a character - one letter :a\n",
      "a appears in text 1 at location 2\n",
      "a appears in text 1 at location 10\n"
     ]
    }
   ],
   "source": [
    "text1=\"Charlie gray\"\n",
    "text2=input(\"Enter a character - one letter :\")\n",
    "text1=text1.lower()\n",
    "text2=text2.lower()\n",
    "\n",
    "if len(text2)==1:\n",
    "   #finding common letters\n",
    "    for i in range(len(text1)):\n",
    "        for j in range(len(text2)):\n",
    "            if text1[i]==text2[j]:\n",
    "                print(text1[i]+\" appears in text 1 at location \"+str(i))\n",
    "else:\n",
    "    print(text2+\" has more than 1 character\")"
   ]
  },
  {
   "cell_type": "code",
   "execution_count": 17,
   "metadata": {},
   "outputs": [
    {
     "name": "stdout",
     "output_type": "stream",
     "text": [
      "charlie is present in both\n",
      "gray is present in both\n"
     ]
    }
   ],
   "source": [
    "#find common words between 2 texts\n",
    "text3=\"gray wolf charlie\"\n",
    "text3=text3.lower()\n",
    "words1=text1.split()\n",
    "ctwords1=len(words1)\n",
    "words2=text3.split()\n",
    "ctwords2=len(words2)\n",
    "for i in range(ctwords1):\n",
    "    for j in range(ctwords2):\n",
    "        if words1[i]==words2[j]:\n",
    "            print(words1[i]+\" is present in both\")"
   ]
  },
  {
   "cell_type": "code",
   "execution_count": 11,
   "metadata": {},
   "outputs": [
    {
     "name": "stdout",
     "output_type": "stream",
     "text": [
      "2\n",
      "charlie\n"
     ]
    }
   ],
   "source": [
    "a=text1.split()\n",
    "print(len(a))\n",
    "print(a[0])"
   ]
  },
  {
   "cell_type": "code",
   "execution_count": 23,
   "metadata": {},
   "outputs": [
    {
     "name": "stdout",
     "output_type": "stream",
     "text": [
      "Enter - multiple if needed - special character #$\n",
      "# appears in text 1 at location 4\n",
      "$ appears in text 1 at location 8\n"
     ]
    }
   ],
   "source": [
    "text1=\"blah#one$\"\n",
    "text4=input(\"Enter - multiple if needed - special character \")\n",
    "\n",
    "\n",
    "for i in range(len(text1)):\n",
    "    for j in range(len(text4)):\n",
    "        if text1[i]==text4[j]:\n",
    "            print(text1[i]+\" appears in text 1 at location \"+str(i))"
   ]
  },
  {
   "cell_type": "code",
   "execution_count": 32,
   "metadata": {},
   "outputs": [
    {
     "name": "stdout",
     "output_type": "stream",
     "text": [
      "Say somethingabay\n",
      "Not yet found aaaa\n",
      "Not yet found yaaa\n",
      "Not yet found ayba\n",
      "Not yet found byyy\n",
      "Not yet found abab\n",
      "Not yet found ayaa\n",
      "Not yet found aayy\n",
      "Not yet found byya\n",
      "Not yet found ybab\n",
      "Not yet found byya\n",
      "Not yet found aayb\n",
      "Not yet found yyaa\n",
      "Not yet found ayyy\n",
      "Not yet found byay\n",
      "Not yet found ybab\n",
      "Not yet found ayaa\n",
      "Not yet found baby\n",
      "Not yet found aaba\n",
      "Not yet found aybb\n",
      "Not yet found baab\n",
      "Not yet found abya\n",
      "Not yet found baba\n",
      "Not yet found bbaa\n",
      "Not yet found aaaa\n",
      "Not yet found bbba\n",
      "Not yet found babb\n",
      "Not yet found yaab\n",
      "Not yet found ybbb\n",
      "Not yet found yyaa\n",
      "Not yet found yaby\n",
      "Not yet found aaaa\n",
      "Not yet found yaaa\n",
      "Not yet found yaya\n",
      "Not yet found ybab\n",
      "Not yet found aaya\n",
      "Not yet found ayba\n",
      "Not yet found ayaa\n",
      "Not yet found baab\n",
      "Not yet found abaa\n",
      "Not yet found baya\n",
      "Not yet found babb\n",
      "Not yet found yayy\n",
      "Not yet found aaaa\n",
      "Not yet found byab\n",
      "Not yet found aaaa\n",
      "Not yet found baay\n",
      "Not yet found yayy\n",
      "Not yet found yaaa\n",
      "Not yet found aaay\n",
      "Not yet found baay\n",
      "Not yet found yyaa\n",
      "Not yet found yaab\n",
      "Not yet found yaya\n",
      "Not yet found yyay\n",
      "Not yet found aaaa\n",
      "Not yet found abba\n",
      "Not yet found abba\n",
      "Not yet found ayaa\n",
      "Not yet found aaba\n",
      "Not yet found aaab\n",
      "Not yet found ybyb\n",
      "Not yet found baab\n",
      "Not yet found ayaa\n",
      "Not yet found yyay\n",
      "Not yet found aayy\n",
      "Not yet found aaab\n",
      "Not yet found yaba\n",
      "Not yet found aaab\n",
      "Not yet found yaab\n",
      "Not yet found abaa\n",
      "Not yet found yaya\n",
      "Not yet found yyab\n",
      "Not yet found yyyy\n",
      "Not yet found aayy\n",
      "Not yet found aaaa\n",
      "Not yet found aaba\n",
      "Not yet found yyaa\n",
      "Not yet found aaby\n",
      "Not yet found ayba\n",
      "Found abay in 80 trials.\n"
     ]
    }
   ],
   "source": [
    "#get a string from customer\n",
    "#determine characters\n",
    "#randomize to generate words out of those characters until the same word is generated\n",
    "say=input(\"Say something\")\n",
    "ct=len(say)\n",
    "import random\n",
    "\n",
    "gen=0\n",
    "iteration=0\n",
    "while gen==0:\n",
    "    newtxt=\"\"\n",
    "    for i in range(ct):\n",
    "        rd=random.randint(0,ct-1)\n",
    "        #print(rd)\n",
    "        newtxt=newtxt+say[rd]\n",
    "    iteration=iteration+1    \n",
    "    if newtxt==say:\n",
    "        gen=1\n",
    "        print(\"Found \"+newtxt+\" in \"+str(iteration)+\" trials.\")\n",
    "        break\n",
    "    else:\n",
    "        print(\"Not yet found \"+newtxt)"
   ]
  },
  {
   "cell_type": "code",
   "execution_count": null,
   "metadata": {},
   "outputs": [],
   "source": []
  }
 ],
 "metadata": {
  "kernelspec": {
   "display_name": "Python 3",
   "language": "python",
   "name": "python3"
  },
  "language_info": {
   "codemirror_mode": {
    "name": "ipython",
    "version": 3
   },
   "file_extension": ".py",
   "mimetype": "text/x-python",
   "name": "python",
   "nbconvert_exporter": "python",
   "pygments_lexer": "ipython3",
   "version": "3.7.4"
  }
 },
 "nbformat": 4,
 "nbformat_minor": 2
}
