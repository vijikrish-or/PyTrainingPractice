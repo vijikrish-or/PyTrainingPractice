{
 "cells": [
  {
   "cell_type": "code",
   "execution_count": 2,
   "metadata": {},
   "outputs": [],
   "source": [
    "import pandas as pd\n",
    "import matplotlib as plt"
   ]
  },
  {
   "cell_type": "code",
   "execution_count": 3,
   "metadata": {},
   "outputs": [],
   "source": [
    "data=pd.read_csv(\"chipotle.csv\")"
   ]
  },
  {
   "cell_type": "code",
   "execution_count": 4,
   "metadata": {},
   "outputs": [
    {
     "name": "stdout",
     "output_type": "stream",
     "text": [
      "   order_id  quantity                              item_name  \\\n",
      "0         1         1           Chips and Fresh Tomato Salsa   \n",
      "1         1         1                                   Izze   \n",
      "2         1         1                       Nantucket Nectar   \n",
      "3         1         1  Chips and Tomatillo-Green Chili Salsa   \n",
      "4         2         2                           Chicken Bowl   \n",
      "\n",
      "                                  choice_description  item_price  Unnamed: 5  \n",
      "0                                                NaN        2.39         NaN  \n",
      "1                                       [Clementine]        3.39         NaN  \n",
      "2                                            [Apple]        3.39         NaN  \n",
      "3                                                NaN        2.39         NaN  \n",
      "4  [Tomatillo-Red Chili Salsa (Hot), [Black Beans...       16.98         NaN  \n"
     ]
    }
   ],
   "source": [
    "print(data.head())"
   ]
  },
  {
   "cell_type": "code",
   "execution_count": 5,
   "metadata": {},
   "outputs": [
    {
     "name": "stdout",
     "output_type": "stream",
     "text": [
      "      order_id  quantity           item_name  \\\n",
      "4617      1833         1       Steak Burrito   \n",
      "4618      1833         1       Steak Burrito   \n",
      "4619      1834         1  Chicken Salad Bowl   \n",
      "4620      1834         1  Chicken Salad Bowl   \n",
      "4621      1834         1  Chicken Salad Bowl   \n",
      "\n",
      "                                     choice_description  item_price  \\\n",
      "4617  [Fresh Tomato Salsa, [Rice, Black Beans, Sour ...       11.75   \n",
      "4618  [Fresh Tomato Salsa, [Rice, Sour Cream, Cheese...       11.75   \n",
      "4619  [Fresh Tomato Salsa, [Fajita Vegetables, Pinto...       11.25   \n",
      "4620  [Fresh Tomato Salsa, [Fajita Vegetables, Lettu...        8.75   \n",
      "4621  [Fresh Tomato Salsa, [Fajita Vegetables, Pinto...        8.75   \n",
      "\n",
      "      Unnamed: 5  \n",
      "4617         NaN  \n",
      "4618         NaN  \n",
      "4619         NaN  \n",
      "4620         NaN  \n",
      "4621         NaN  \n"
     ]
    }
   ],
   "source": [
    "print(data.tail())"
   ]
  },
  {
   "cell_type": "code",
   "execution_count": 6,
   "metadata": {},
   "outputs": [],
   "source": [
    "#avg rev per order\n",
    "data.quantity.astype('str').astype('int')\n",
    "data['revenue']=data['quantity']*data['item_price']\n",
    "\n",
    "#created a revenue column"
   ]
  },
  {
   "cell_type": "code",
   "execution_count": 7,
   "metadata": {},
   "outputs": [],
   "source": [
    "byorder=data.groupby(['order_id']).sum(['revenue'])\n",
    "#summed rev by order id"
   ]
  },
  {
   "cell_type": "code",
   "execution_count": 11,
   "metadata": {},
   "outputs": [
    {
     "name": "stdout",
     "output_type": "stream",
     "text": [
      "          quantity  item_price  Unnamed: 5  revenue\n",
      "order_id                                           \n",
      "1                4       11.56         0.0    11.56\n",
      "2                2       16.98         0.0    33.96\n",
      "3                2       12.67         0.0    12.67\n",
      "4                2       21.00         0.0    21.00\n",
      "5                2       13.70         0.0    13.70\n"
     ]
    }
   ],
   "source": [
    "print(byorder.head())"
   ]
  },
  {
   "cell_type": "code",
   "execution_count": 8,
   "metadata": {},
   "outputs": [
    {
     "name": "stdout",
     "output_type": "stream",
     "text": [
      "1834\n",
      "21.394231188658654\n",
      "39237.02\n"
     ]
    }
   ],
   "source": [
    "print(byorder.shape[0]) #total number of order as this gives rows\n",
    "print(byorder.mean()['revenue']) #avg rev per rev\n",
    "print(byorder.sum()['revenue']) #total rev"
   ]
  },
  {
   "cell_type": "code",
   "execution_count": 12,
   "metadata": {},
   "outputs": [],
   "source": [
    "byitem=data.groupby(['item_name'])"
   ]
  },
  {
   "cell_type": "code",
   "execution_count": 13,
   "metadata": {},
   "outputs": [
    {
     "data": {
      "text/html": [
       "<div>\n",
       "<style scoped>\n",
       "    .dataframe tbody tr th:only-of-type {\n",
       "        vertical-align: middle;\n",
       "    }\n",
       "\n",
       "    .dataframe tbody tr th {\n",
       "        vertical-align: top;\n",
       "    }\n",
       "\n",
       "    .dataframe thead th {\n",
       "        text-align: right;\n",
       "    }\n",
       "</style>\n",
       "<table border=\"1\" class=\"dataframe\">\n",
       "  <thead>\n",
       "    <tr style=\"text-align: right;\">\n",
       "      <th></th>\n",
       "      <th>order_id</th>\n",
       "      <th>quantity</th>\n",
       "      <th>item_name</th>\n",
       "      <th>choice_description</th>\n",
       "      <th>item_price</th>\n",
       "      <th>Unnamed: 5</th>\n",
       "      <th>revenue</th>\n",
       "    </tr>\n",
       "  </thead>\n",
       "  <tbody>\n",
       "    <tr>\n",
       "      <th>0</th>\n",
       "      <td>1</td>\n",
       "      <td>1</td>\n",
       "      <td>Chips and Fresh Tomato Salsa</td>\n",
       "      <td>NaN</td>\n",
       "      <td>2.39</td>\n",
       "      <td>NaN</td>\n",
       "      <td>2.39</td>\n",
       "    </tr>\n",
       "    <tr>\n",
       "      <th>1</th>\n",
       "      <td>1</td>\n",
       "      <td>1</td>\n",
       "      <td>Izze</td>\n",
       "      <td>[Clementine]</td>\n",
       "      <td>3.39</td>\n",
       "      <td>NaN</td>\n",
       "      <td>3.39</td>\n",
       "    </tr>\n",
       "    <tr>\n",
       "      <th>2</th>\n",
       "      <td>1</td>\n",
       "      <td>1</td>\n",
       "      <td>Nantucket Nectar</td>\n",
       "      <td>[Apple]</td>\n",
       "      <td>3.39</td>\n",
       "      <td>NaN</td>\n",
       "      <td>3.39</td>\n",
       "    </tr>\n",
       "    <tr>\n",
       "      <th>3</th>\n",
       "      <td>1</td>\n",
       "      <td>1</td>\n",
       "      <td>Chips and Tomatillo-Green Chili Salsa</td>\n",
       "      <td>NaN</td>\n",
       "      <td>2.39</td>\n",
       "      <td>NaN</td>\n",
       "      <td>2.39</td>\n",
       "    </tr>\n",
       "    <tr>\n",
       "      <th>4</th>\n",
       "      <td>2</td>\n",
       "      <td>2</td>\n",
       "      <td>Chicken Bowl</td>\n",
       "      <td>[Tomatillo-Red Chili Salsa (Hot), [Black Beans...</td>\n",
       "      <td>16.98</td>\n",
       "      <td>NaN</td>\n",
       "      <td>33.96</td>\n",
       "    </tr>\n",
       "    <tr>\n",
       "      <th>...</th>\n",
       "      <td>...</td>\n",
       "      <td>...</td>\n",
       "      <td>...</td>\n",
       "      <td>...</td>\n",
       "      <td>...</td>\n",
       "      <td>...</td>\n",
       "      <td>...</td>\n",
       "    </tr>\n",
       "    <tr>\n",
       "      <th>3363</th>\n",
       "      <td>1349</td>\n",
       "      <td>1</td>\n",
       "      <td>Chicken Salad</td>\n",
       "      <td>[Fresh Tomato Salsa (Mild), [Pinto Beans, Rice...</td>\n",
       "      <td>8.49</td>\n",
       "      <td>NaN</td>\n",
       "      <td>8.49</td>\n",
       "    </tr>\n",
       "    <tr>\n",
       "      <th>3471</th>\n",
       "      <td>1395</td>\n",
       "      <td>1</td>\n",
       "      <td>Veggie Salad</td>\n",
       "      <td>[[Tomatillo-Green Chili Salsa (Medium), Roaste...</td>\n",
       "      <td>8.49</td>\n",
       "      <td>NaN</td>\n",
       "      <td>8.49</td>\n",
       "    </tr>\n",
       "    <tr>\n",
       "      <th>3502</th>\n",
       "      <td>1406</td>\n",
       "      <td>1</td>\n",
       "      <td>Steak Salad</td>\n",
       "      <td>[[Lettuce, Fajita Veggies]]</td>\n",
       "      <td>8.69</td>\n",
       "      <td>NaN</td>\n",
       "      <td>8.69</td>\n",
       "    </tr>\n",
       "    <tr>\n",
       "      <th>3749</th>\n",
       "      <td>1499</td>\n",
       "      <td>1</td>\n",
       "      <td>Carnitas Salad Bowl</td>\n",
       "      <td>[Roasted Chili Corn Salsa, [Fajita Vegetables,...</td>\n",
       "      <td>11.89</td>\n",
       "      <td>NaN</td>\n",
       "      <td>11.89</td>\n",
       "    </tr>\n",
       "    <tr>\n",
       "      <th>3750</th>\n",
       "      <td>1500</td>\n",
       "      <td>1</td>\n",
       "      <td>Carnitas Salad</td>\n",
       "      <td>[[Fresh Tomato Salsa (Mild), Roasted Chili Cor...</td>\n",
       "      <td>8.99</td>\n",
       "      <td>NaN</td>\n",
       "      <td>8.99</td>\n",
       "    </tr>\n",
       "  </tbody>\n",
       "</table>\n",
       "<p>228 rows × 7 columns</p>\n",
       "</div>"
      ],
      "text/plain": [
       "      order_id  quantity                              item_name  \\\n",
       "0            1         1           Chips and Fresh Tomato Salsa   \n",
       "1            1         1                                   Izze   \n",
       "2            1         1                       Nantucket Nectar   \n",
       "3            1         1  Chips and Tomatillo-Green Chili Salsa   \n",
       "4            2         2                           Chicken Bowl   \n",
       "...        ...       ...                                    ...   \n",
       "3363      1349         1                          Chicken Salad   \n",
       "3471      1395         1                           Veggie Salad   \n",
       "3502      1406         1                            Steak Salad   \n",
       "3749      1499         1                    Carnitas Salad Bowl   \n",
       "3750      1500         1                         Carnitas Salad   \n",
       "\n",
       "                                     choice_description  item_price  \\\n",
       "0                                                   NaN        2.39   \n",
       "1                                          [Clementine]        3.39   \n",
       "2                                               [Apple]        3.39   \n",
       "3                                                   NaN        2.39   \n",
       "4     [Tomatillo-Red Chili Salsa (Hot), [Black Beans...       16.98   \n",
       "...                                                 ...         ...   \n",
       "3363  [Fresh Tomato Salsa (Mild), [Pinto Beans, Rice...        8.49   \n",
       "3471  [[Tomatillo-Green Chili Salsa (Medium), Roaste...        8.49   \n",
       "3502                        [[Lettuce, Fajita Veggies]]        8.69   \n",
       "3749  [Roasted Chili Corn Salsa, [Fajita Vegetables,...       11.89   \n",
       "3750  [[Fresh Tomato Salsa (Mild), Roasted Chili Cor...        8.99   \n",
       "\n",
       "      Unnamed: 5  revenue  \n",
       "0            NaN     2.39  \n",
       "1            NaN     3.39  \n",
       "2            NaN     3.39  \n",
       "3            NaN     2.39  \n",
       "4            NaN    33.96  \n",
       "...          ...      ...  \n",
       "3363         NaN     8.49  \n",
       "3471         NaN     8.49  \n",
       "3502         NaN     8.69  \n",
       "3749         NaN    11.89  \n",
       "3750         NaN     8.99  \n",
       "\n",
       "[228 rows x 7 columns]"
      ]
     },
     "execution_count": 13,
     "metadata": {},
     "output_type": "execute_result"
    }
   ],
   "source": [
    "byitem.head()"
   ]
  },
  {
   "cell_type": "code",
   "execution_count": 16,
   "metadata": {},
   "outputs": [
    {
     "name": "stdout",
     "output_type": "stream",
     "text": [
      "                       order_id  quantity  item_price  Unnamed: 5  revenue\n",
      "item_name                                                                 \n",
      "6 Pack Soft Drink         52322        55      356.95         0.0   369.93\n",
      "Barbacoa Bowl             53972        66      672.36         0.0   672.36\n",
      "Barbacoa Burrito          74718        91      894.75         0.0   894.75\n",
      "Barbacoa Crispy Tacos      5613        12      120.21         0.0   138.71\n",
      "Barbacoa Salad Bowl        9708        10      106.40         0.0   106.40\n"
     ]
    }
   ],
   "source": [
    "countdata=byitem.sum()\n",
    "print(countdata.head())"
   ]
  },
  {
   "cell_type": "code",
   "execution_count": 17,
   "metadata": {},
   "outputs": [
    {
     "name": "stdout",
     "output_type": "stream",
     "text": [
      "                     order_id  quantity  item_price  Unnamed: 5  revenue\n",
      "item_name                                                               \n",
      "Chicken Bowl           713926       761     7342.73         0.0  8044.63\n",
      "Chicken Burrito        497303       591     5575.82         0.0  6387.06\n",
      "Chips and Guacamole    449959       506     2201.04         0.0  2475.62\n",
      "Steak Burrito          328437       386     3851.43         0.0  4236.13\n",
      "Canned Soft Drink      304753       351      438.75         0.0   603.75\n"
     ]
    }
   ],
   "source": [
    "print(countdata.sort_values(['quantity'],ascending=False).head())"
   ]
  },
  {
   "cell_type": "code",
   "execution_count": 18,
   "metadata": {},
   "outputs": [
    {
     "name": "stdout",
     "output_type": "stream",
     "text": [
      "              order_id  quantity  item_price  Unnamed: 5  revenue\n",
      "item_name                                                        \n",
      "Chicken Bowl    713926       761     7342.73         0.0  8044.63\n"
     ]
    }
   ],
   "source": [
    "print(countdata.sort_values(['quantity'],ascending=False).head(1)) #prints the most ordered item"
   ]
  },
  {
   "cell_type": "code",
   "execution_count": 24,
   "metadata": {},
   "outputs": [],
   "source": [
    "#how many times more than 1 soda is ordered?\n",
    "recs_morethan1soda=data[(data.item_name == 'Canned Soda') & (data.quantity>1)]"
   ]
  },
  {
   "cell_type": "code",
   "execution_count": 25,
   "metadata": {},
   "outputs": [
    {
     "name": "stdout",
     "output_type": "stream",
     "text": [
      "     order_id  quantity    item_name choice_description  item_price  \\\n",
      "18          9         2  Canned Soda           [Sprite]        2.18   \n",
      "51         23         2  Canned Soda     [Mountain Dew]        2.18   \n",
      "162        73         2  Canned Soda        [Diet Coke]        2.18   \n",
      "171        76         2  Canned Soda  [Diet Dr. Pepper]        2.18   \n",
      "350       150         2  Canned Soda        [Diet Coke]        2.18   \n",
      "\n",
      "     Unnamed: 5  revenue  \n",
      "18          NaN     4.36  \n",
      "51          NaN     4.36  \n",
      "162         NaN     4.36  \n",
      "171         NaN     4.36  \n",
      "350         NaN     4.36  \n"
     ]
    }
   ],
   "source": [
    "print(recs_morethan1soda.head())"
   ]
  },
  {
   "cell_type": "code",
   "execution_count": 26,
   "metadata": {},
   "outputs": [
    {
     "name": "stdout",
     "output_type": "stream",
     "text": [
      "order_id              20\n",
      "quantity              20\n",
      "item_name             20\n",
      "choice_description    20\n",
      "item_price            20\n",
      "Unnamed: 5             0\n",
      "revenue               20\n",
      "dtype: int64\n"
     ]
    }
   ],
   "source": [
    "print(recs_morethan1soda.count())"
   ]
  },
  {
   "cell_type": "code",
   "execution_count": 29,
   "metadata": {},
   "outputs": [
    {
     "name": "stdout",
     "output_type": "stream",
     "text": [
      "20\n"
     ]
    }
   ],
   "source": [
    "print(len(recs_morethan1soda)) #prints length of this data frame which is the one with records that have >1 canned soda"
   ]
  },
  {
   "cell_type": "code",
   "execution_count": 30,
   "metadata": {},
   "outputs": [
    {
     "name": "stdout",
     "output_type": "stream",
     "text": [
      "     order_id  quantity          item_name  \\\n",
      "186        83         1  Veggie Salad Bowl   \n",
      "295       128         1  Veggie Salad Bowl   \n",
      "455       195         1  Veggie Salad Bowl   \n",
      "496       207         1  Veggie Salad Bowl   \n",
      "960       394         1  Veggie Salad Bowl   \n",
      "\n",
      "                                    choice_description  item_price  \\\n",
      "186  [Fresh Tomato Salsa, [Fajita Vegetables, Rice,...       11.25   \n",
      "295  [Fresh Tomato Salsa, [Fajita Vegetables, Lettu...       11.25   \n",
      "455  [Fresh Tomato Salsa, [Fajita Vegetables, Rice,...       11.25   \n",
      "496  [Fresh Tomato Salsa, [Rice, Lettuce, Guacamole...       11.25   \n",
      "960  [Fresh Tomato Salsa, [Fajita Vegetables, Lettu...        8.75   \n",
      "\n",
      "     Unnamed: 5  revenue  \n",
      "186         NaN    11.25  \n",
      "295         NaN    11.25  \n",
      "455         NaN    11.25  \n",
      "496         NaN    11.25  \n",
      "960         NaN     8.75  \n"
     ]
    }
   ],
   "source": [
    "#how many times Veggie Salad Bowl was ordered\n",
    "vsbowl=data[(data.item_name=='Veggie Salad Bowl')]\n",
    "print(vsbowl.head())"
   ]
  },
  {
   "cell_type": "code",
   "execution_count": 31,
   "metadata": {},
   "outputs": [
    {
     "name": "stdout",
     "output_type": "stream",
     "text": [
      "order_id              18\n",
      "quantity              18\n",
      "item_name             18\n",
      "choice_description    18\n",
      "item_price            18\n",
      "Unnamed: 5             0\n",
      "revenue               18\n",
      "dtype: int64\n"
     ]
    }
   ],
   "source": [
    "print(vsbowl.count())"
   ]
  },
  {
   "cell_type": "code",
   "execution_count": 32,
   "metadata": {},
   "outputs": [
    {
     "name": "stdout",
     "output_type": "stream",
     "text": [
      "18\n"
     ]
    }
   ],
   "source": [
    "print(vsbowl['quantity'].sum())"
   ]
  },
  {
   "cell_type": "code",
   "execution_count": 33,
   "metadata": {},
   "outputs": [
    {
     "name": "stdout",
     "output_type": "stream",
     "text": [
      "18\n"
     ]
    }
   ],
   "source": [
    "print(len(vsbowl))"
   ]
  },
  {
   "cell_type": "code",
   "execution_count": 34,
   "metadata": {},
   "outputs": [
    {
     "name": "stdout",
     "output_type": "stream",
     "text": [
      "      order_id  quantity          item_name  \\\n",
      "3389      1360         2  6 Pack Soft Drink   \n",
      "341        148         1  6 Pack Soft Drink   \n",
      "1849       749         1  6 Pack Soft Drink   \n",
      "1860       754         1  6 Pack Soft Drink   \n",
      "2713      1076         1  6 Pack Soft Drink   \n",
      "...        ...       ...                ...   \n",
      "2384       948         1  Veggie Soft Tacos   \n",
      "781        322         1  Veggie Soft Tacos   \n",
      "2851      1132         1  Veggie Soft Tacos   \n",
      "1699       688         1  Veggie Soft Tacos   \n",
      "1395       567         1  Veggie Soft Tacos   \n",
      "\n",
      "                                     choice_description  item_price  \\\n",
      "3389                                        [Diet Coke]       12.98   \n",
      "341                                         [Diet Coke]        6.49   \n",
      "1849                                             [Coke]        6.49   \n",
      "1860                                        [Diet Coke]        6.49   \n",
      "2713                                             [Coke]        6.49   \n",
      "...                                                 ...         ...   \n",
      "2384  [Roasted Chili Corn Salsa, [Fajita Vegetables,...        8.75   \n",
      "781   [Fresh Tomato Salsa, [Black Beans, Cheese, Sou...        8.75   \n",
      "2851  [Roasted Chili Corn Salsa (Medium), [Black Bea...        8.49   \n",
      "1699  [Fresh Tomato Salsa, [Fajita Vegetables, Rice,...       11.25   \n",
      "1395  [Fresh Tomato Salsa (Mild), [Pinto Beans, Rice...        8.49   \n",
      "\n",
      "      Unnamed: 5  revenue  \n",
      "3389         NaN    25.96  \n",
      "341          NaN     6.49  \n",
      "1849         NaN     6.49  \n",
      "1860         NaN     6.49  \n",
      "2713         NaN     6.49  \n",
      "...          ...      ...  \n",
      "2384         NaN     8.75  \n",
      "781          NaN     8.75  \n",
      "2851         NaN     8.49  \n",
      "1699         NaN    11.25  \n",
      "1395         NaN     8.49  \n",
      "\n",
      "[4622 rows x 7 columns]\n"
     ]
    }
   ],
   "source": [
    "#sort by name of the item and print\n",
    "print(data.sort_values(['item_name'],ascending=True))"
   ]
  },
  {
   "cell_type": "code",
   "execution_count": 35,
   "metadata": {},
   "outputs": [
    {
     "name": "stdout",
     "output_type": "stream",
     "text": [
      "      order_id  quantity          item_name choice_description  item_price  \\\n",
      "3389      1360         2  6 Pack Soft Drink        [Diet Coke]       12.98   \n",
      "341        148         1  6 Pack Soft Drink        [Diet Coke]        6.49   \n",
      "1849       749         1  6 Pack Soft Drink             [Coke]        6.49   \n",
      "1860       754         1  6 Pack Soft Drink        [Diet Coke]        6.49   \n",
      "2713      1076         1  6 Pack Soft Drink             [Coke]        6.49   \n",
      "\n",
      "      Unnamed: 5  revenue  \n",
      "3389         NaN    25.96  \n",
      "341          NaN     6.49  \n",
      "1849         NaN     6.49  \n",
      "1860         NaN     6.49  \n",
      "2713         NaN     6.49  \n"
     ]
    }
   ],
   "source": [
    "print(data.sort_values(['item_name'],ascending=True).head())"
   ]
  },
  {
   "cell_type": "code",
   "execution_count": 38,
   "metadata": {},
   "outputs": [
    {
     "name": "stdout",
     "output_type": "stream",
     "text": [
      "          order_id     quantity   item_price  Unnamed: 5      revenue\n",
      "count  4622.000000  4622.000000  4622.000000         0.0  4622.000000\n",
      "mean    927.254868     1.075725     7.464336         NaN     8.489186\n",
      "std     528.890796     0.410186     4.245557         NaN    12.632060\n",
      "min       1.000000     1.000000     1.090000         NaN     1.090000\n",
      "25%     477.250000     1.000000     3.390000         NaN     3.990000\n",
      "50%     926.000000     1.000000     8.750000         NaN     8.750000\n",
      "75%    1393.000000     1.000000     9.250000         NaN    10.980000\n",
      "max    1834.000000    15.000000    44.250000         NaN   663.750000\n"
     ]
    }
   ],
   "source": [
    "print(data.describe())"
   ]
  },
  {
   "cell_type": "code",
   "execution_count": 39,
   "metadata": {},
   "outputs": [
    {
     "name": "stdout",
     "output_type": "stream",
     "text": [
      "count    4622.000000\n",
      "mean        7.464336\n",
      "std         4.245557\n",
      "min         1.090000\n",
      "25%         3.390000\n",
      "50%         8.750000\n",
      "75%         9.250000\n",
      "max        44.250000\n",
      "Name: item_price, dtype: float64\n"
     ]
    }
   ],
   "source": [
    "print(data['item_price'].describe())"
   ]
  },
  {
   "cell_type": "code",
   "execution_count": 49,
   "metadata": {},
   "outputs": [
    {
     "name": "stdout",
     "output_type": "stream",
     "text": [
      "                     order_id  quantity  item_price  Unnamed: 5  revenue\n",
      "item_name                                                               \n",
      "Chicken Bowl           713926       761     7342.73         0.0  8044.63\n",
      "Chicken Burrito        497303       591     5575.82         0.0  6387.06\n",
      "Chips and Guacamole    449959       506     2201.04         0.0  2475.62\n",
      "Steak Burrito          328437       386     3851.43         0.0  4236.13\n",
      "Canned Soft Drink      304753       351      438.75         0.0   603.75\n"
     ]
    }
   ],
   "source": [
    "#hist of top 5 items\n",
    "top5data=countdata.sort_values(['quantity'],ascending=False).head(5)\n",
    "print(top5data)"
   ]
  },
  {
   "cell_type": "code",
   "execution_count": 44,
   "metadata": {},
   "outputs": [
    {
     "ename": "AttributeError",
     "evalue": "'DataFrame' object has no attribute 'item_name'",
     "output_type": "error",
     "traceback": [
      "\u001b[0;31m---------------------------------------------------------------------------\u001b[0m",
      "\u001b[0;31mAttributeError\u001b[0m                            Traceback (most recent call last)",
      "\u001b[0;32m<ipython-input-44-2297c2430705>\u001b[0m in \u001b[0;36m<module>\u001b[0;34m\u001b[0m\n\u001b[0;32m----> 1\u001b[0;31m \u001b[0mtop5data\u001b[0m\u001b[0;34m=\u001b[0m\u001b[0mcountdata\u001b[0m\u001b[0;34m[\u001b[0m\u001b[0;34m(\u001b[0m\u001b[0mcountdata\u001b[0m\u001b[0;34m.\u001b[0m\u001b[0mitem_name\u001b[0m \u001b[0;32mor\u001b[0m \u001b[0mcountdata\u001b[0m\u001b[0;34m.\u001b[0m\u001b[0mquantity\u001b[0m\u001b[0;34m)\u001b[0m\u001b[0;34m]\u001b[0m\u001b[0;34m.\u001b[0m\u001b[0mhead\u001b[0m\u001b[0;34m(\u001b[0m\u001b[0;36m5\u001b[0m\u001b[0;34m)\u001b[0m\u001b[0;34m\u001b[0m\u001b[0;34m\u001b[0m\u001b[0m\n\u001b[0m\u001b[1;32m      2\u001b[0m \u001b[0mprint\u001b[0m\u001b[0;34m(\u001b[0m\u001b[0mtop5data\u001b[0m\u001b[0;34m)\u001b[0m\u001b[0;34m\u001b[0m\u001b[0;34m\u001b[0m\u001b[0m\n",
      "\u001b[0;32m/opt/anaconda3/lib/python3.7/site-packages/pandas/core/generic.py\u001b[0m in \u001b[0;36m__getattr__\u001b[0;34m(self, name)\u001b[0m\n\u001b[1;32m   5137\u001b[0m             \u001b[0;32mif\u001b[0m \u001b[0mself\u001b[0m\u001b[0;34m.\u001b[0m\u001b[0m_info_axis\u001b[0m\u001b[0;34m.\u001b[0m\u001b[0m_can_hold_identifiers_and_holds_name\u001b[0m\u001b[0;34m(\u001b[0m\u001b[0mname\u001b[0m\u001b[0;34m)\u001b[0m\u001b[0;34m:\u001b[0m\u001b[0;34m\u001b[0m\u001b[0;34m\u001b[0m\u001b[0m\n\u001b[1;32m   5138\u001b[0m                 \u001b[0;32mreturn\u001b[0m \u001b[0mself\u001b[0m\u001b[0;34m[\u001b[0m\u001b[0mname\u001b[0m\u001b[0;34m]\u001b[0m\u001b[0;34m\u001b[0m\u001b[0;34m\u001b[0m\u001b[0m\n\u001b[0;32m-> 5139\u001b[0;31m             \u001b[0;32mreturn\u001b[0m \u001b[0mobject\u001b[0m\u001b[0;34m.\u001b[0m\u001b[0m__getattribute__\u001b[0m\u001b[0;34m(\u001b[0m\u001b[0mself\u001b[0m\u001b[0;34m,\u001b[0m \u001b[0mname\u001b[0m\u001b[0;34m)\u001b[0m\u001b[0;34m\u001b[0m\u001b[0;34m\u001b[0m\u001b[0m\n\u001b[0m\u001b[1;32m   5140\u001b[0m \u001b[0;34m\u001b[0m\u001b[0m\n\u001b[1;32m   5141\u001b[0m     \u001b[0;32mdef\u001b[0m \u001b[0m__setattr__\u001b[0m\u001b[0;34m(\u001b[0m\u001b[0mself\u001b[0m\u001b[0;34m,\u001b[0m \u001b[0mname\u001b[0m\u001b[0;34m:\u001b[0m \u001b[0mstr\u001b[0m\u001b[0;34m,\u001b[0m \u001b[0mvalue\u001b[0m\u001b[0;34m)\u001b[0m \u001b[0;34m->\u001b[0m \u001b[0;32mNone\u001b[0m\u001b[0;34m:\u001b[0m\u001b[0;34m\u001b[0m\u001b[0;34m\u001b[0m\u001b[0m\n",
      "\u001b[0;31mAttributeError\u001b[0m: 'DataFrame' object has no attribute 'item_name'"
     ]
    }
   ],
   "source": [
    "top5data=countdata[(countdata.item_name or countdata.quantity)].head(5)\n",
    "print(top5data)"
   ]
  },
  {
   "cell_type": "code",
   "execution_count": 50,
   "metadata": {},
   "outputs": [
    {
     "data": {
      "image/png": "[encoded data removed]",
      "text/plain": [
       "<Figure size 432x288 with 6 Axes>"
      ]
     },
     "metadata": {
      "needs_background": "light"
     },
     "output_type": "display_data"
    }
   ],
   "source": [
    "hist=top5data.hist()"
   ]
  },
  {
   "cell_type": "code",
   "execution_count": 53,
   "metadata": {},
   "outputs": [
    {
     "data": {
      "text/plain": [
       "array([[<matplotlib.axes._subplots.AxesSubplot object at 0x11cc2f150>]],\n",
       "      dtype=object)"
      ]
     },
     "execution_count": 53,
     "metadata": {},
     "output_type": "execute_result"
    },
    {
     "data": {
      "image/png": "[encoded data removed]",
      "text/plain": [
       "<Figure size 432x288 with 1 Axes>"
      ]
     },
     "metadata": {
      "needs_background": "light"
     },
     "output_type": "display_data"
    }
   ],
   "source": [
    "top5data.hist(column='quantity')"
   ]
  },
  {
   "cell_type": "code",
   "execution_count": 56,
   "metadata": {},
   "outputs": [
    {
     "data": {
      "text/plain": [
       "<matplotlib.axes._subplots.AxesSubplot at 0x11cf85610>"
      ]
     },
     "execution_count": 56,
     "metadata": {},
     "output_type": "execute_result"
    },
    {
     "data": {
      "image/png": "[encoded data removed]",
      "text/plain": [
       "<Figure size 432x288 with 1 Axes>"
      ]
     },
     "metadata": {
      "needs_background": "light"
     },
     "output_type": "display_data"
    }
   ],
   "source": [
    "top5data.plot(kind='bar')"
   ]
  },
  {
   "cell_type": "code",
   "execution_count": 57,
   "metadata": {},
   "outputs": [],
   "source": [
    "top5new=top5data['quantity'].copy()"
   ]
  },
  {
   "cell_type": "code",
   "execution_count": 58,
   "metadata": {},
   "outputs": [
    {
     "name": "stdout",
     "output_type": "stream",
     "text": [
      "item_name\n",
      "Chicken Bowl           761\n",
      "Chicken Burrito        591\n",
      "Chips and Guacamole    506\n",
      "Steak Burrito          386\n",
      "Canned Soft Drink      351\n",
      "Name: quantity, dtype: int64\n"
     ]
    }
   ],
   "source": [
    "print(top5new)"
   ]
  },
  {
   "cell_type": "code",
   "execution_count": 60,
   "metadata": {},
   "outputs": [
    {
     "data": {
      "text/plain": [
       "<matplotlib.axes._subplots.AxesSubplot at 0x11c41ce50>"
      ]
     },
     "execution_count": 60,
     "metadata": {},
     "output_type": "execute_result"
    },
    {
     "data": {
      "image/png": "[encoded data removed]",
      "text/plain": [
       "<Figure size 432x288 with 1 Axes>"
      ]
     },
     "metadata": {
      "needs_background": "light"
     },
     "output_type": "display_data"
    }
   ],
   "source": [
    "top5new.plot(kind='bar')"
   ]
  },
  {
   "cell_type": "code",
   "execution_count": 65,
   "metadata": {},
   "outputs": [
    {
     "data": {
      "text/plain": [
       "<matplotlib.collections.PathCollection at 0x11c242950>"
      ]
     },
     "execution_count": 65,
     "metadata": {},
     "output_type": "execute_result"
    },
    {
     "data": {
      "image/png": "[encoded data removed]",
      "text/plain": [
       "<Figure size 432x288 with 1 Axes>"
      ]
     },
     "metadata": {
      "needs_background": "light"
     },
     "output_type": "display_data"
    }
   ],
   "source": [
    "import matplotlib.pyplot as pl\n",
    "pl.scatter(data.item_price,data.item_name)"
   ]
  },
  {
   "cell_type": "code",
   "execution_count": 63,
   "metadata": {},
   "outputs": [
    {
     "data": {
      "text/plain": [
       "<matplotlib.collections.PathCollection at 0x11c220f90>"
      ]
     },
     "execution_count": 63,
     "metadata": {},
     "output_type": "execute_result"
    },
    {
     "data": {
      "image/png": "[encoded data removed]",
      "text/plain": [
       "<Figure size 432x288 with 1 Axes>"
      ]
     },
     "metadata": {
      "needs_background": "light"
     },
     "output_type": "display_data"
    }
   ],
   "source": [
    "pl.scatter(data.item_name,data.item_price)"
   ]
  },
  {
   "cell_type": "code",
   "execution_count": null,
   "metadata": {},
   "outputs": [],
   "source": []
  }
 ],
 "metadata": {
  "kernelspec": {
   "display_name": "Python 3",
   "language": "python",
   "name": "python3"
  },
  "language_info": {
   "codemirror_mode": {
    "name": "ipython",
    "version": 3
   },
   "file_extension": ".py",
   "mimetype": "text/x-python",
   "name": "python",
   "nbconvert_exporter": "python",
   "pygments_lexer": "ipython3",
   "version": "3.7.4"
  }
 },
 "nbformat": 4,
 "nbformat_minor": 2
}
