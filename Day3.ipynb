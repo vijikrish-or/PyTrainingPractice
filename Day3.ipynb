{
 "cells": [
  {
   "cell_type": "code",
   "execution_count": 18,
   "metadata": {},
   "outputs": [
    {
     "name": "stdout",
     "output_type": "stream",
     "text": [
      "[76, 2, 4, 5, 6, 11, 23, 45, 67, 83, 24, 56, 8]\n"
     ]
    }
   ],
   "source": [
    "#swap first and last number\n",
    "arr=[8,2,4,5,6,11,23,45,67,83,24,56,76]\n",
    "siz=len(arr)\n",
    "f=arr[0]\n",
    "arr[0]=arr[siz-1]\n",
    "arr[siz-1]=f\n",
    "print(arr)"
   ]
  },
  {
   "cell_type": "code",
   "execution_count": 19,
   "metadata": {},
   "outputs": [
    {
     "name": "stdout",
     "output_type": "stream",
     "text": [
      "[76, 2, 4, 5, 6, 11, 23, 45, 67, 83, 24, 8, 56]\n"
     ]
    }
   ],
   "source": [
    "#swap last 2 numbers\n",
    "l=arr[siz-1]\n",
    "arr[siz-1]=arr[siz-2]\n",
    "arr[siz-2]=l\n",
    "print(arr)"
   ]
  },
  {
   "cell_type": "code",
   "execution_count": 31,
   "metadata": {},
   "outputs": [
    {
     "name": "stdout",
     "output_type": "stream",
     "text": [
      "83\n",
      "12\n",
      "2\n",
      "0\n"
     ]
    }
   ],
   "source": [
    "def arrmax(arr):\n",
    "    m=arr[0]\n",
    "    midx=0\n",
    "    for i in range(1,siz):\n",
    "        if arr[i]>m:\n",
    "            m=arr[i]\n",
    "            midx=i\n",
    "    return m,midx\n",
    "\n",
    "m,midx=arrmax(arr)\n",
    "print(m)\n",
    "print(midx)\n",
    "\n",
    "\n",
    "def arrmin(arr):\n",
    "    mm=arr[0]\n",
    "    mmidx=0\n",
    "    for i in range (1,siz):\n",
    "        if arr[i]<mm:\n",
    "            mm=arr[i]\n",
    "            mmidx=i\n",
    "    return mm,mmidx\n",
    "\n",
    "mm,mmidx=arrmin(arr)\n",
    "print(mm)\n",
    "print(mmidx)"
   ]
  },
  {
   "cell_type": "code",
   "execution_count": 21,
   "metadata": {},
   "outputs": [
    {
     "name": "stdout",
     "output_type": "stream",
     "text": [
      "Enter a chunk size :3\n",
      "Chunk # :1\n",
      "76\n",
      "2\n",
      "4\n",
      "Chunk # :2\n",
      "5\n",
      "6\n",
      "11\n",
      "Chunk # :3\n",
      "23\n",
      "45\n",
      "67\n",
      "Chunk # :4\n",
      "83\n",
      "24\n",
      "8\n",
      "Chunk # :5\n",
      "56\n"
     ]
    }
   ],
   "source": [
    "chunk=input(\"Enter a chunk size :\")\n",
    "ct=0\n",
    "if siz/int(chunk)!=0:\n",
    "    ct=(siz/int(chunk))+1\n",
    "else:\n",
    "    ct=(siz/int(chunk))\n",
    "\n",
    "st=0\n",
    "for i in range(int(ct)):\n",
    "    print(\"Chunk # :\"+str(i+1))\n",
    "    for j in range(st,min(st+int(chunk),siz)):\n",
    "        print(arr[j])\n",
    "    else:\n",
    "        st=j+1"
   ]
  },
  {
   "cell_type": "code",
   "execution_count": 24,
   "metadata": {},
   "outputs": [
    {
     "name": "stdout",
     "output_type": "stream",
     "text": [
      "[2, 4, 5, 6, 8, 11, 23, 24, 45, 56, 67, 76, 83]\n"
     ]
    }
   ],
   "source": [
    "arr.sort()\n",
    "print(arr)\n",
    "#arr.sort sorts within the array"
   ]
  },
  {
   "cell_type": "code",
   "execution_count": 40,
   "metadata": {},
   "outputs": [
    {
     "name": "stdout",
     "output_type": "stream",
     "text": [
      "0\n",
      "1\n",
      "2\n",
      "3\n",
      "4\n",
      "5\n",
      "6\n",
      "7\n",
      "8\n",
      "9\n",
      "10\n",
      "11\n",
      "12\n",
      "[2, 4, 5, 6, 8, 11, 23, 24, 45, 56, 67, 76, 83]\n"
     ]
    }
   ],
   "source": [
    "arr=[76, 2, 4, 5, 6, 11, 23, 45, 67, 83, 24, 56, 8]\n",
    "#to sort into another array - ascending\n",
    "sortedarr=[]\n",
    "s=0\n",
    "m,midx=arrmax(arr)\n",
    "for i in range(len(arr)):\n",
    "    mm,mmidx=arrmin(arr)\n",
    "    print(s)\n",
    "    sortedarr.append(mm)\n",
    "    s=s+1\n",
    "    arr[mmidx]=m\n",
    "\n",
    "print(sortedarr)"
   ]
  },
  {
   "cell_type": "code",
   "execution_count": 42,
   "metadata": {},
   "outputs": [
    {
     "name": "stdout",
     "output_type": "stream",
     "text": [
      "0\n",
      "1\n",
      "2\n",
      "3\n",
      "4\n",
      "5\n",
      "6\n",
      "7\n",
      "8\n",
      "9\n",
      "10\n",
      "11\n",
      "12\n",
      "[83, 76, 67, 56, 45, 24, 23, 11, 8, 6, 5, 4, 2]\n"
     ]
    }
   ],
   "source": [
    "arr=[76, 2, 4, 5, 6, 11, 23, 45, 67, 83, 24, 56, 8]\n",
    "#to sort into another array - descending\n",
    "sortedarr=[]\n",
    "s=0\n",
    "mm,mmidx=arrmin(arr)\n",
    "for i in range(len(arr)):\n",
    "    m,midx=arrmax(arr)\n",
    "    print(s)\n",
    "    sortedarr.append(m)\n",
    "    s=s+1\n",
    "    arr[midx]=mm\n",
    "\n",
    "print(sortedarr)"
   ]
  },
  {
   "cell_type": "code",
   "execution_count": null,
   "metadata": {},
   "outputs": [],
   "source": []
  }
 ],
 "metadata": {
  "kernelspec": {
   "display_name": "Python 3",
   "language": "python",
   "name": "python3"
  },
  "language_info": {
   "codemirror_mode": {
    "name": "ipython",
    "version": 3
   },
   "file_extension": ".py",
   "mimetype": "text/x-python",
   "name": "python",
   "nbconvert_exporter": "python",
   "pygments_lexer": "ipython3",
   "version": "3.7.4"
  }
 },
 "nbformat": 4,
 "nbformat_minor": 2
}
