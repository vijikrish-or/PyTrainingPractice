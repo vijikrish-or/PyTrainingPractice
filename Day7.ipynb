{
 "cells": [
  {
   "cell_type": "code",
   "execution_count": 7,
   "metadata": {},
   "outputs": [
    {
     "name": "stdout",
     "output_type": "stream",
     "text": [
      "{'Name': 'Adam', 'Subject': 'Math', 'Score': 100}\n"
     ]
    }
   ],
   "source": [
    "#dictionary example\n",
    "studentdict={\n",
    "    \"Name\":\"Adam\",\n",
    "    \"Subject\":\"Math\",\n",
    "    \"Score\":100\n",
    "}\n",
    "print(studentdict)"
   ]
  },
  {
   "cell_type": "code",
   "execution_count": 15,
   "metadata": {},
   "outputs": [
    {
     "name": "stdout",
     "output_type": "stream",
     "text": [
      "Name :adam\n",
      "Subject :english\n",
      "Score :20\n",
      "Name :eve\n",
      "Subject :englisg\n",
      "Score :40\n",
      "Name :john\n",
      "Subject :math\n",
      "Score :50\n",
      "Name :gary\n",
      "Subject :history\n",
      "Score :55\n",
      "Name :zee\n",
      "Subject :math\n",
      "Score :90\n"
     ]
    }
   ],
   "source": [
    "name=[]\n",
    "subj=[]\n",
    "score=[]\n",
    "for i in range(5):\n",
    "    name.append(input(\"Name :\"))\n",
    "    subj.append(input(\"Subject :\"))\n",
    "    score.append(input(\"Score :\"))\n",
    "\n",
    "#print(name)\n",
    "#print(subj)\n",
    "#print(score)\n",
    "\n",
    "#list to dictionary\n",
    "studentdict={}\n",
    "studentdict[\"name\"]=name\n",
    "studentdict[\"subject\"]=subj\n",
    "studentdict[\"score\"]=score\n",
    "#print(studentdict)\n",
    "\n",
    "\n"
   ]
  },
  {
   "cell_type": "code",
   "execution_count": 16,
   "metadata": {},
   "outputs": [
    {
     "name": "stdout",
     "output_type": "stream",
     "text": [
      "['name', 'subject', 'score']\n"
     ]
    }
   ],
   "source": [
    "#getting keys\n",
    "print(list(studentdict))"
   ]
  },
  {
   "cell_type": "code",
   "execution_count": 17,
   "metadata": {},
   "outputs": [
    {
     "name": "stdout",
     "output_type": "stream",
     "text": [
      "['adam', 'eve', 'john', 'gary', 'zee']\n"
     ]
    }
   ],
   "source": [
    "#getting content for a key\n",
    "print(studentdict[\"name\"])"
   ]
  },
  {
   "cell_type": "code",
   "execution_count": 18,
   "metadata": {},
   "outputs": [
    {
     "name": "stdout",
     "output_type": "stream",
     "text": [
      "5\n"
     ]
    }
   ],
   "source": [
    "#getting count of specific key\n",
    "print(len(studentdict[\"name\"]))"
   ]
  },
  {
   "cell_type": "code",
   "execution_count": 19,
   "metadata": {},
   "outputs": [
    {
     "name": "stdout",
     "output_type": "stream",
     "text": [
      "adam\n"
     ]
    }
   ],
   "source": [
    "#getting specific element\n",
    "print(studentdict[\"name\"][0])"
   ]
  },
  {
   "cell_type": "code",
   "execution_count": 21,
   "metadata": {},
   "outputs": [
    {
     "name": "stdout",
     "output_type": "stream",
     "text": [
      "zee has max score of 90 in subject math\n"
     ]
    }
   ],
   "source": [
    "maxscore=studentdict[\"score\"][0]\n",
    "maxstud=studentdict[\"name\"][0]\n",
    "maxsubj=studentdict[\"subject\"][0]\n",
    "for i in range(len(studentdict[\"name\"])):\n",
    "    if studentdict[\"score\"][i]>maxscore:\n",
    "        maxscore=studentdict[\"score\"][i]\n",
    "        maxstud=studentdict[\"name\"][i]\n",
    "        maxsubj=studentdict[\"subject\"][i]\n",
    "        \n",
    "print(maxstud+\" has max score of \"+maxscore+\" in subject \"+maxsubj)\n"
   ]
  },
  {
   "cell_type": "code",
   "execution_count": 22,
   "metadata": {},
   "outputs": [
    {
     "name": "stdout",
     "output_type": "stream",
     "text": [
      "adam has min score of 20 in subject english\n"
     ]
    }
   ],
   "source": [
    "minscore=studentdict[\"score\"][0]\n",
    "minstud=studentdict[\"name\"][0]\n",
    "minsubj=studentdict[\"subject\"][0]\n",
    "for i in range(len(studentdict[\"name\"])):\n",
    "    if studentdict[\"score\"][i]<minscore:\n",
    "        minscore=studentdict[\"score\"][i]\n",
    "        minstud=studentdict[\"name\"][i]\n",
    "        minsubj=studentdict[\"subject\"][i]\n",
    "        \n",
    "print(minstud+\" has min score of \"+minscore+\" in subject \"+minsubj)\n"
   ]
  },
  {
   "cell_type": "code",
   "execution_count": 23,
   "metadata": {},
   "outputs": [
    {
     "name": "stdout",
     "output_type": "stream",
     "text": [
      "Enter your name :adam\n",
      "Vote for John with entering 1, for Jane by entering 2 :1\n",
      "Enter your name :eve\n",
      "Vote for John with entering 1, for Jane by entering 2 :2\n",
      "Enter your name :elle\n",
      "Vote for John with entering 1, for Jane by entering 2 :1\n",
      "Enter your name :emma\n",
      "Vote for John with entering 1, for Jane by entering 2 :1\n",
      "Enter your name :zack\n",
      "Vote for John with entering 1, for Jane by entering 2 :2\n",
      "{'votername': ['adam', 'eve', 'elle', 'emma', 'zack'], 'vote': ['1', '2', '1', '1', '2']}\n"
     ]
    }
   ],
   "source": [
    "#voting\n",
    "voter_name=[]\n",
    "vote=[]\n",
    "for i in range(5):\n",
    "    voter_name.append(input(\"Enter your name :\"))\n",
    "    vote.append(input(\"Vote for John with entering 1, for Jane by entering 2 :\"))\n",
    "    \n",
    "votedict={}\n",
    "votedict[\"votername\"]=voter_name\n",
    "votedict[\"vote\"]=vote\n",
    "print(votedict)\n"
   ]
  },
  {
   "cell_type": "code",
   "execution_count": 31,
   "metadata": {},
   "outputs": [
    {
     "name": "stdout",
     "output_type": "stream",
     "text": [
      "3\n",
      "2\n",
      "John won with 3 votes\n"
     ]
    }
   ],
   "source": [
    "ct_1=0\n",
    "ct_2=0\n",
    "for i in range(len(votedict[\"vote\"])):\n",
    "    if int(votedict[\"vote\"][i])==1: #had to convert to int as input is usually string\n",
    "        ct_1=ct_1+1\n",
    "    elif int(votedict[\"vote\"][i])==2:\n",
    "        ct_2=ct_2+1\n",
    "    else:\n",
    "        print(\"trap\")\n",
    "\n",
    "print(ct_1)\n",
    "print(ct_2)\n",
    "\n",
    "if ct_1>ct_2:\n",
    "    print(\"John won with \"+str(ct_1)+\" votes\")\n",
    "elif ct_1<ct_2:\n",
    "    print(\"Jane won with \"+str(ct_2)+\" votes\")\n",
    "else:\n",
    "    print(\"John and Jane got same number of votes\")"
   ]
  },
  {
   "cell_type": "code",
   "execution_count": 27,
   "metadata": {},
   "outputs": [
    {
     "name": "stdout",
     "output_type": "stream",
     "text": [
      "5\n"
     ]
    }
   ],
   "source": [
    "print(len(votedict[\"vote\"]))"
   ]
  },
  {
   "cell_type": "code",
   "execution_count": 28,
   "metadata": {},
   "outputs": [
    {
     "name": "stdout",
     "output_type": "stream",
     "text": [
      "1\n"
     ]
    }
   ],
   "source": [
    "print(votedict[\"vote\"][0])"
   ]
  },
  {
   "cell_type": "code",
   "execution_count": null,
   "metadata": {},
   "outputs": [],
   "source": []
  }
 ],
 "metadata": {
  "kernelspec": {
   "display_name": "Python 3",
   "language": "python",
   "name": "python3"
  },
  "language_info": {
   "codemirror_mode": {
    "name": "ipython",
    "version": 3
   },
   "file_extension": ".py",
   "mimetype": "text/x-python",
   "name": "python",
   "nbconvert_exporter": "python",
   "pygments_lexer": "ipython3",
   "version": "3.7.4"
  }
 },
 "nbformat": 4,
 "nbformat_minor": 2
}
