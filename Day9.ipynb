{
 "cells": [
  {
   "cell_type": "code",
   "execution_count": 22,
   "metadata": {},
   "outputs": [],
   "source": [
    "#txt file\n",
    "filename=\"textfile.txt\"\n",
    "file=open(filename,\"r\")"
   ]
  },
  {
   "cell_type": "code",
   "execution_count": 23,
   "metadata": {},
   "outputs": [
    {
     "name": "stdout",
     "output_type": "stream",
     "text": [
      "This is a file\n",
      "\n",
      "This\n",
      "is\n",
      "a\n",
      "file\n",
      "This is a sentence\n",
      "\n",
      "This\n",
      "is\n",
      "a\n",
      "sentence\n",
      "This is the last sentence\n",
      "\n",
      "This\n",
      "is\n",
      "the\n",
      "last\n",
      "sentence\n",
      "Add this sentence\n",
      "Add\n",
      "this\n",
      "sentence\n"
     ]
    }
   ],
   "source": [
    "file.seek(0)\n",
    "#print line and words in line\n",
    "for line in file:\n",
    "    print(line)\n",
    "    for word in line.split():\n",
    "        print(word)"
   ]
  },
  {
   "cell_type": "code",
   "execution_count": 24,
   "metadata": {},
   "outputs": [
    {
     "name": "stdout",
     "output_type": "stream",
     "text": [
      "This is a file\n",
      "\n"
     ]
    }
   ],
   "source": [
    "file.seek(0) #go to the beginning of file\n",
    "a=file.readline()\n",
    "print(a)\n",
    "file.close()"
   ]
  },
  {
   "cell_type": "code",
   "execution_count": 31,
   "metadata": {},
   "outputs": [],
   "source": [
    "file=open(filename,\"a\") #open in append mode\n",
    "file.writelines(\"\\nAdd this sentence\")\n",
    "file.close()"
   ]
  },
  {
   "cell_type": "code",
   "execution_count": 32,
   "metadata": {},
   "outputs": [
    {
     "name": "stdout",
     "output_type": "stream",
     "text": [
      "This is a file\n",
      "\n",
      "This\n",
      "is\n",
      "a\n",
      "file\n",
      "This is a sentence\n",
      "\n",
      "This\n",
      "is\n",
      "a\n",
      "sentence\n",
      "This is the last sentence\n",
      "\n",
      "This\n",
      "is\n",
      "the\n",
      "last\n",
      "sentence\n",
      "Add this sentence\n",
      "\n",
      "Add\n",
      "this\n",
      "sentence\n",
      "\n",
      "\n",
      "Add this sentence\n",
      "Add\n",
      "this\n",
      "sentence\n"
     ]
    }
   ],
   "source": [
    "file=open(filename,\"r\")\n",
    "file.seek(0)\n",
    "#print line and words in line\n",
    "for line in file:\n",
    "    print(line)\n",
    "    for word in line.split():\n",
    "        print(word)\n",
    "file.close()"
   ]
  },
  {
   "cell_type": "code",
   "execution_count": 33,
   "metadata": {},
   "outputs": [
    {
     "name": "stdout",
     "output_type": "stream",
     "text": [
      "   Name  Subject  Score\n",
      "0  Adam     Math     80\n",
      "1   Eve  Science     90\n",
      "2   Ada     Math     85\n",
      "3   Eva  Science     95\n"
     ]
    }
   ],
   "source": [
    "#csv file\n",
    "#using pandas to load the file data to dataframe\n",
    "import pandas as pd\n",
    "df=pd.read_csv(\"studentcsv.csv\")\n",
    "print(df)"
   ]
  },
  {
   "cell_type": "code",
   "execution_count": 34,
   "metadata": {},
   "outputs": [
    {
     "name": "stdout",
     "output_type": "stream",
     "text": [
      "0    Adam\n",
      "1     Eve\n",
      "2     Ada\n",
      "3     Eva\n",
      "Name: Name, dtype: object\n"
     ]
    }
   ],
   "source": [
    "print(df.Name)"
   ]
  },
  {
   "cell_type": "code",
   "execution_count": 35,
   "metadata": {},
   "outputs": [
    {
     "name": "stdout",
     "output_type": "stream",
     "text": [
      "Eve\n"
     ]
    }
   ],
   "source": [
    "print(df.Name[1])"
   ]
  },
  {
   "cell_type": "code",
   "execution_count": 36,
   "metadata": {},
   "outputs": [
    {
     "name": "stdout",
     "output_type": "stream",
     "text": [
      "4\n"
     ]
    }
   ],
   "source": [
    "rows=len(df.Name)\n",
    "print(rows)"
   ]
  },
  {
   "cell_type": "code",
   "execution_count": 44,
   "metadata": {},
   "outputs": [
    {
     "name": "stdout",
     "output_type": "stream",
     "text": [
      "['Math', 'Science']\n"
     ]
    }
   ],
   "source": [
    "uniquesub=[]\n",
    "for i in range(rows):\n",
    "    for j in range(len(uniquesub)):\n",
    "        if uniquesub[j]==df.Subject[i]:\n",
    "            break\n",
    "    else:\n",
    "        uniquesub.append(df.Subject[i])\n",
    "        \n",
    "print(uniquesub)"
   ]
  },
  {
   "cell_type": "code",
   "execution_count": 45,
   "metadata": {},
   "outputs": [
    {
     "name": "stdout",
     "output_type": "stream",
     "text": [
      "For subject Math max score is 85 from student Ada\n",
      "For subject Science max score is 95 from student Eva\n"
     ]
    }
   ],
   "source": [
    "for i in range(len(uniquesub)):\n",
    "    maxscore=0\n",
    "    stindex=rows+10 #initializing to a non row number\n",
    "    for j in range(rows):\n",
    "        if df.Subject[j]==uniquesub[i] and maxscore<df.Score[j]:\n",
    "            maxscore=df.Score[j]\n",
    "            stindex=j\n",
    "    if stindex<rows: #means a max student is found\n",
    "        print(\"For subject \"+uniquesub[i]+\" max score is \"+str(maxscore)+\" from student \"+df.Name[stindex])\n",
    "    else:\n",
    "        print(\"Max score and student not found. Check if score exists in the file\")"
   ]
  },
  {
   "cell_type": "code",
   "execution_count": 56,
   "metadata": {},
   "outputs": [
    {
     "name": "stdout",
     "output_type": "stream",
     "text": [
      "{'Name': 'NewStudent', 'Subject': 'NewSubject', 'Score': 100}\n"
     ]
    }
   ],
   "source": [
    "newdf={\"Name\":\"NewStudent\",\"Subject\":\"NewSubject\",\"Score\":100}\n",
    "print(newdf)"
   ]
  },
  {
   "cell_type": "code",
   "execution_count": 58,
   "metadata": {},
   "outputs": [
    {
     "data": {
      "text/html": [
       "<div>\n",
       "<style scoped>\n",
       "    .dataframe tbody tr th:only-of-type {\n",
       "        vertical-align: middle;\n",
       "    }\n",
       "\n",
       "    .dataframe tbody tr th {\n",
       "        vertical-align: top;\n",
       "    }\n",
       "\n",
       "    .dataframe thead th {\n",
       "        text-align: right;\n",
       "    }\n",
       "</style>\n",
       "<table border=\"1\" class=\"dataframe\">\n",
       "  <thead>\n",
       "    <tr style=\"text-align: right;\">\n",
       "      <th></th>\n",
       "      <th>Name</th>\n",
       "      <th>Subject</th>\n",
       "      <th>Score</th>\n",
       "    </tr>\n",
       "  </thead>\n",
       "  <tbody>\n",
       "    <tr>\n",
       "      <th>0</th>\n",
       "      <td>Adam</td>\n",
       "      <td>Math</td>\n",
       "      <td>80</td>\n",
       "    </tr>\n",
       "    <tr>\n",
       "      <th>1</th>\n",
       "      <td>Eve</td>\n",
       "      <td>Science</td>\n",
       "      <td>90</td>\n",
       "    </tr>\n",
       "    <tr>\n",
       "      <th>2</th>\n",
       "      <td>Ada</td>\n",
       "      <td>Math</td>\n",
       "      <td>85</td>\n",
       "    </tr>\n",
       "    <tr>\n",
       "      <th>3</th>\n",
       "      <td>Eva</td>\n",
       "      <td>Science</td>\n",
       "      <td>95</td>\n",
       "    </tr>\n",
       "    <tr>\n",
       "      <th>4</th>\n",
       "      <td>NewStudent</td>\n",
       "      <td>NewSubject</td>\n",
       "      <td>100</td>\n",
       "    </tr>\n",
       "  </tbody>\n",
       "</table>\n",
       "</div>"
      ],
      "text/plain": [
       "         Name     Subject  Score\n",
       "0        Adam        Math     80\n",
       "1         Eve     Science     90\n",
       "2         Ada        Math     85\n",
       "3         Eva     Science     95\n",
       "4  NewStudent  NewSubject    100"
      ]
     },
     "execution_count": 58,
     "metadata": {},
     "output_type": "execute_result"
    }
   ],
   "source": [
    "df.append(newdf,ignore_index=True) #ignore_index=True is needed for adding a dictionary to pandas dataframe"
   ]
  },
  {
   "cell_type": "code",
   "execution_count": null,
   "metadata": {},
   "outputs": [],
   "source": []
  }
 ],
 "metadata": {
  "kernelspec": {
   "display_name": "Python 3",
   "language": "python",
   "name": "python3"
  },
  "language_info": {
   "codemirror_mode": {
    "name": "ipython",
    "version": 3
   },
   "file_extension": ".py",
   "mimetype": "text/x-python",
   "name": "python",
   "nbconvert_exporter": "python",
   "pygments_lexer": "ipython3",
   "version": "3.7.4"
  }
 },
 "nbformat": 4,
 "nbformat_minor": 2
}
