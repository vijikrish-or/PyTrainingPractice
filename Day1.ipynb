{
 "cells": [
  {
   "cell_type": "code",
   "execution_count": 15,
   "metadata": {},
   "outputs": [
    {
     "name": "stdout",
     "output_type": "stream",
     "text": [
      "Enter num1:10\n",
      "Enter num2:20\n",
      "Num1 is : 10\n",
      "Num2 is : 20\n",
      "Sum is : 30\n",
      "Abs Diff is : 10\n",
      "Max of num1 and num2 is : 20\n",
      "Factorial of num1 is : 3628800\n",
      "Factorial of num1 is : 2432902008176640000\n"
     ]
    }
   ],
   "source": [
    "#get input from user\n",
    "num1=input(\"Enter num1:\")\n",
    "num2=input(\"Enter num2:\")\n",
    "#convert to int\n",
    "num1=int(num1)\n",
    "num2=int(num2)\n",
    "print(\"Num1 is :\",num1)\n",
    "print(\"Num2 is :\",num2)\n",
    "print(\"Sum is :\", num1+num2)\n",
    "print(\"Abs Diff is :\",abs(num1-num2))\n",
    "print(\"Max of num1 and num2 is :\", max(num1, num2))\n",
    "import math\n",
    "print(\"Factorial of num1 is :\",math.factorial(num1))\n",
    "print(\"Factorial of num1 is :\",math.factorial(num2))"
   ]
  },
  {
   "cell_type": "code",
   "execution_count": 20,
   "metadata": {},
   "outputs": [
    {
     "name": "stdout",
     "output_type": "stream",
     "text": [
      "11\n",
      "13\n",
      "17\n",
      "19\n",
      "[11, 13, 17, 19]\n"
     ]
    }
   ],
   "source": [
    "#generate prime numbers between a and b\n",
    "def listprime(a,b):\n",
    "    primelist=[]\n",
    "    for num in range(a,b):\n",
    "        if num==0 or num==1:\n",
    "            continue\n",
    "        else:\n",
    "            for i in range(2,int(num/2)+1):\n",
    "                if num%i==0: \n",
    "                    break\n",
    "            else:\n",
    "                print(num)\n",
    "                primelist.append(num)\n",
    "                #this is a for else class which executes after running for loop completely without breaking\n",
    "    return primelist            \n",
    "    \n",
    "primes=listprime(min(num1,num2),max(num1,num2))\n",
    "print(primes)"
   ]
  },
  {
   "cell_type": "code",
   "execution_count": 29,
   "metadata": {},
   "outputs": [
    {
     "name": "stdout",
     "output_type": "stream",
     "text": [
      "Enter principal :10\n",
      "Enter time :2\n",
      "Enter rate :2\n",
      "Simple interest for principal 10 with rate of 2 for time 2 is  0.4\n",
      "Compound interest for principal 10 with rate of 2 for time 2 is  0.4039999999999999\n"
     ]
    }
   ],
   "source": [
    "#calculate simple and compound interest given principle, rate and time\n",
    "#Simple interest formula is given by: Simple Interest = (P x T x R)/100 Where, P is the principle amount, T is the time and, R is the rate\n",
    "p=input(\"Enter principal :\")\n",
    "t=input(\"Enter time :\")\n",
    "r=input(\"Enter rate :\")\n",
    "print(\"Simple interest for principal \"+p+\" with rate of \"+r+\" for time \"+t+\" is \",(float(p)*float(r)*float(t))/100)\n",
    "# A = P(1 + R/100) t ; Compound Interest = A – P \n",
    "A=float(p)*pow((1+(float(r)/100)),float(t))\n",
    "print(\"Compound interest for principal \"+p+\" with rate of \"+r+\" for time \"+t+\" is \",A-float(p))  "
   ]
  },
  {
   "cell_type": "code",
   "execution_count": null,
   "metadata": {},
   "outputs": [],
   "source": [
    "#Day 1 learnings\n",
    "#1. Getting input from user\n",
    "#2. Simple arithmetic operations\n",
    "#3. Basic for and if "
   ]
  }
 ],
 "metadata": {
  "kernelspec": {
   "display_name": "Python 3",
   "language": "python",
   "name": "python3"
  },
  "language_info": {
   "codemirror_mode": {
    "name": "ipython",
    "version": 3
   },
   "file_extension": ".py",
   "mimetype": "text/x-python",
   "name": "python",
   "nbconvert_exporter": "python",
   "pygments_lexer": "ipython3",
   "version": "3.7.4"
  }
 },
 "nbformat": 4,
 "nbformat_minor": 2
}
