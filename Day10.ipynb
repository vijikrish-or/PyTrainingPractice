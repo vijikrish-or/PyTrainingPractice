{
 "cells": [
  {
   "cell_type": "code",
   "execution_count": 1,
   "metadata": {},
   "outputs": [
    {
     "name": "stdout",
     "output_type": "stream",
     "text": [
      "   Age  EstimatedSalary  Purchased\n",
      "0   19            19000          0\n",
      "1   35            20000          0\n",
      "2   26            43000          0\n",
      "3   27            57000          0\n",
      "4   19            76000          0\n"
     ]
    }
   ],
   "source": [
    "#project 1\n",
    "import pandas as pd\n",
    "data=pd.read_csv(\"Social_Network_Ads.csv\")\n",
    "print(data.head())"
   ]
  },
  {
   "cell_type": "code",
   "execution_count": 3,
   "metadata": {},
   "outputs": [],
   "source": [
    "from sklearn.model_selection import train_test_split\n",
    "X_train,X_test,y_train,y_test=train_test_split(data,data.Purchased,random_state=0, stratify=data.Purchased) "
   ]
  },
  {
   "cell_type": "code",
   "execution_count": 16,
   "metadata": {},
   "outputs": [
    {
     "name": "stdout",
     "output_type": "stream",
     "text": [
      "0.6433333333333333\n",
      "0.64\n"
     ]
    }
   ],
   "source": [
    "from sklearn.linear_model import LogisticRegression\n",
    "logit=LogisticRegression().fit(X_train,y_train)\n",
    "print(logit.score(X_train,y_train))\n",
    "print(logit.score(X_test,y_test))"
   ]
  },
  {
   "cell_type": "code",
   "execution_count": 17,
   "metadata": {},
   "outputs": [
    {
     "name": "stdout",
     "output_type": "stream",
     "text": [
      "0.6433333333333333\n",
      "0.64\n"
     ]
    },
    {
     "name": "stderr",
     "output_type": "stream",
     "text": [
      "/opt/anaconda3/lib/python3.7/site-packages/sklearn/linear_model/_sag.py:330: ConvergenceWarning: The max_iter was reached which means the coef_ did not converge\n",
      "  \"the coef_ did not converge\", ConvergenceWarning)\n"
     ]
    }
   ],
   "source": [
    "from sklearn.linear_model import LogisticRegression\n",
    "logit=LogisticRegression(penalty=\"elasticnet\", solver=\"saga\", l1_ratio=0.6).fit(X_train,y_train)\n",
    "print(logit.score(X_train,y_train))\n",
    "print(logit.score(X_test,y_test))"
   ]
  },
  {
   "cell_type": "code",
   "execution_count": 5,
   "metadata": {},
   "outputs": [
    {
     "name": "stdout",
     "output_type": "stream",
     "text": [
      "0\n",
      "Accuracy: 100.00%\n"
     ]
    }
   ],
   "source": [
    "from xgboost import XGBClassifier\n",
    "model=XGBClassifier()\n",
    "X_train,X_test,y_train,y_test=train_test_split(data,data.Purchased,random_state=0,stratify=data.Purchased)\n",
    "model.fit(X_train,y_train)\n",
    "ypred=model.predict(X_test)\n",
    "print(sum(ypred!=y_test))\n",
    "from sklearn.metrics import accuracy_score\n",
    "accuracy = accuracy_score(y_test, ypred)\n",
    "print(\"Accuracy: %.2f%%\" % (accuracy * 100.0))"
   ]
  },
  {
   "cell_type": "code",
   "execution_count": 6,
   "metadata": {},
   "outputs": [
    {
     "name": "stdout",
     "output_type": "stream",
     "text": [
      "[0 1 0 1 1 0 0 1 0 0 1 0 0 0 1 0 1 0 0 0 1 0 1 0 0 0 0 1 0 0 0 0 0 1 1 0 0\n",
      " 1 1 1 0 0 1 0 1 1 0 0 0 1 0 0 0 0 0 1 0 0 0 0 1 1 0 0 0 1 0 0 0 0 1 1 0 1\n",
      " 0 0 0 1 0 0 1 0 0 0 0 1 0 1 1 1 1 0 0 0 0 1 0 1 0 1]\n"
     ]
    }
   ],
   "source": [
    "print(ypred)"
   ]
  },
  {
   "cell_type": "code",
   "execution_count": 7,
   "metadata": {},
   "outputs": [
    {
     "name": "stdout",
     "output_type": "stream",
     "text": [
      "294    0\n",
      "364    1\n",
      "349    0\n",
      "85     1\n",
      "208    1\n",
      "      ..\n",
      "321    1\n",
      "98     0\n",
      "221    1\n",
      "172    0\n",
      "278    1\n",
      "Name: Purchased, Length: 100, dtype: int64\n"
     ]
    }
   ],
   "source": [
    "print(y_test)"
   ]
  },
  {
   "cell_type": "code",
   "execution_count": 18,
   "metadata": {},
   "outputs": [
    {
     "name": "stdout",
     "output_type": "stream",
     "text": [
      "y_test Purchased is 0 Predicted value 0\n",
      "y_test Purchased is 1 Predicted value 1\n",
      "y_test Purchased is 0 Predicted value 0\n",
      "y_test Purchased is 1 Predicted value 1\n",
      "y_test Purchased is 1 Predicted value 1\n",
      "y_test Purchased is 0 Predicted value 0\n",
      "y_test Purchased is 0 Predicted value 0\n",
      "y_test Purchased is 1 Predicted value 1\n",
      "y_test Purchased is 0 Predicted value 0\n",
      "y_test Purchased is 0 Predicted value 0\n",
      "y_test Purchased is 1 Predicted value 1\n",
      "y_test Purchased is 0 Predicted value 0\n",
      "y_test Purchased is 0 Predicted value 0\n",
      "y_test Purchased is 0 Predicted value 0\n",
      "y_test Purchased is 1 Predicted value 1\n",
      "y_test Purchased is 0 Predicted value 0\n",
      "y_test Purchased is 1 Predicted value 1\n",
      "y_test Purchased is 0 Predicted value 0\n",
      "y_test Purchased is 0 Predicted value 0\n",
      "y_test Purchased is 0 Predicted value 0\n",
      "y_test Purchased is 1 Predicted value 1\n",
      "y_test Purchased is 0 Predicted value 0\n",
      "y_test Purchased is 1 Predicted value 1\n",
      "y_test Purchased is 0 Predicted value 0\n",
      "y_test Purchased is 0 Predicted value 0\n",
      "y_test Purchased is 0 Predicted value 0\n",
      "y_test Purchased is 0 Predicted value 0\n",
      "y_test Purchased is 1 Predicted value 1\n",
      "y_test Purchased is 0 Predicted value 0\n",
      "y_test Purchased is 0 Predicted value 0\n",
      "y_test Purchased is 0 Predicted value 0\n",
      "y_test Purchased is 0 Predicted value 0\n",
      "y_test Purchased is 0 Predicted value 0\n",
      "y_test Purchased is 1 Predicted value 1\n",
      "y_test Purchased is 1 Predicted value 1\n",
      "y_test Purchased is 0 Predicted value 0\n",
      "y_test Purchased is 0 Predicted value 0\n",
      "y_test Purchased is 1 Predicted value 1\n",
      "y_test Purchased is 1 Predicted value 1\n",
      "y_test Purchased is 1 Predicted value 1\n",
      "y_test Purchased is 0 Predicted value 0\n",
      "y_test Purchased is 0 Predicted value 0\n",
      "y_test Purchased is 1 Predicted value 1\n",
      "y_test Purchased is 0 Predicted value 0\n",
      "y_test Purchased is 1 Predicted value 1\n",
      "y_test Purchased is 1 Predicted value 1\n",
      "y_test Purchased is 0 Predicted value 0\n",
      "y_test Purchased is 0 Predicted value 0\n",
      "y_test Purchased is 0 Predicted value 0\n",
      "y_test Purchased is 1 Predicted value 1\n",
      "y_test Purchased is 0 Predicted value 0\n",
      "y_test Purchased is 0 Predicted value 0\n",
      "y_test Purchased is 0 Predicted value 0\n",
      "y_test Purchased is 0 Predicted value 0\n",
      "y_test Purchased is 0 Predicted value 0\n",
      "y_test Purchased is 1 Predicted value 1\n",
      "y_test Purchased is 0 Predicted value 0\n",
      "y_test Purchased is 0 Predicted value 0\n",
      "y_test Purchased is 0 Predicted value 0\n",
      "y_test Purchased is 0 Predicted value 0\n",
      "y_test Purchased is 1 Predicted value 1\n",
      "y_test Purchased is 1 Predicted value 1\n",
      "y_test Purchased is 0 Predicted value 0\n",
      "y_test Purchased is 0 Predicted value 0\n",
      "y_test Purchased is 0 Predicted value 0\n",
      "y_test Purchased is 1 Predicted value 1\n",
      "y_test Purchased is 0 Predicted value 0\n",
      "y_test Purchased is 0 Predicted value 0\n",
      "y_test Purchased is 0 Predicted value 0\n",
      "y_test Purchased is 0 Predicted value 0\n",
      "y_test Purchased is 1 Predicted value 1\n",
      "y_test Purchased is 1 Predicted value 1\n",
      "y_test Purchased is 0 Predicted value 0\n",
      "y_test Purchased is 1 Predicted value 1\n",
      "y_test Purchased is 0 Predicted value 0\n",
      "y_test Purchased is 0 Predicted value 0\n",
      "y_test Purchased is 0 Predicted value 0\n",
      "y_test Purchased is 1 Predicted value 1\n",
      "y_test Purchased is 0 Predicted value 0\n",
      "y_test Purchased is 0 Predicted value 0\n",
      "y_test Purchased is 1 Predicted value 1\n",
      "y_test Purchased is 0 Predicted value 0\n",
      "y_test Purchased is 0 Predicted value 0\n",
      "y_test Purchased is 0 Predicted value 0\n",
      "y_test Purchased is 0 Predicted value 0\n",
      "y_test Purchased is 1 Predicted value 1\n",
      "y_test Purchased is 0 Predicted value 0\n",
      "y_test Purchased is 1 Predicted value 1\n",
      "y_test Purchased is 1 Predicted value 1\n",
      "y_test Purchased is 1 Predicted value 1\n",
      "y_test Purchased is 1 Predicted value 1\n",
      "y_test Purchased is 0 Predicted value 0\n",
      "y_test Purchased is 0 Predicted value 0\n",
      "y_test Purchased is 0 Predicted value 0\n",
      "y_test Purchased is 0 Predicted value 0\n",
      "y_test Purchased is 1 Predicted value 1\n",
      "y_test Purchased is 0 Predicted value 0\n",
      "y_test Purchased is 1 Predicted value 1\n",
      "y_test Purchased is 0 Predicted value 0\n",
      "y_test Purchased is 1 Predicted value 1\n"
     ]
    }
   ],
   "source": [
    "for i in range(len(y_test)):\n",
    "    print(\"y_test Purchased is \"+str(y_test.iloc[i])+\" Predicted value \"+str(ypred[i]))"
   ]
  },
  {
   "cell_type": "code",
   "execution_count": 11,
   "metadata": {},
   "outputs": [
    {
     "name": "stdout",
     "output_type": "stream",
     "text": [
      "100\n"
     ]
    }
   ],
   "source": [
    "print(len(y_test))"
   ]
  },
  {
   "cell_type": "code",
   "execution_count": 14,
   "metadata": {},
   "outputs": [
    {
     "name": "stdout",
     "output_type": "stream",
     "text": [
      "0\n"
     ]
    }
   ],
   "source": [
    "print(y_test.iloc[2])"
   ]
  },
  {
   "cell_type": "code",
   "execution_count": 17,
   "metadata": {},
   "outputs": [
    {
     "name": "stdout",
     "output_type": "stream",
     "text": [
      "0\n"
     ]
    }
   ],
   "source": [
    "print(ypred[2])"
   ]
  },
  {
   "cell_type": "code",
   "execution_count": null,
   "metadata": {},
   "outputs": [],
   "source": []
  }
 ],
 "metadata": {
  "kernelspec": {
   "display_name": "Python 3",
   "language": "python",
   "name": "python3"
  },
  "language_info": {
   "codemirror_mode": {
    "name": "ipython",
    "version": 3
   },
   "file_extension": ".py",
   "mimetype": "text/x-python",
   "name": "python",
   "nbconvert_exporter": "python",
   "pygments_lexer": "ipython3",
   "version": "3.7.4"
  }
 },
 "nbformat": 4,
 "nbformat_minor": 2
}
