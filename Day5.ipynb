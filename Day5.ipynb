{
 "cells": [
  {
   "cell_type": "code",
   "execution_count": 15,
   "metadata": {},
   "outputs": [
    {
     "name": "stdout",
     "output_type": "stream",
     "text": [
      "Palindrome\n"
     ]
    }
   ],
   "source": [
    "def ispalindrome(text):\n",
    "    a=len(text)\n",
    "    text=text.lower() #changing all to lower case as the != is caps sensitive\n",
    "    for i in range(int(a/2)):\n",
    "        if text[i]!=text[a-i-1]:\n",
    "            return False\n",
    "    else:\n",
    "        return True\n",
    "    \n",
    "re=ispalindrome(\"BobbobBob\")\n",
    "if re==False:\n",
    "    print(\"Not a palindrome\")\n",
    "else:\n",
    "    print(\"Palindrome\")\n"
   ]
  },
  {
   "cell_type": "code",
   "execution_count": 26,
   "metadata": {},
   "outputs": [
    {
     "name": "stdout",
     "output_type": "stream",
     "text": [
      "Enter the number for the char to remove 2\n",
      "BobobBob\n"
     ]
    }
   ],
   "source": [
    "text=\"BobbobBob\"\n",
    "char_remove=input(\"Enter the number for the char to remove \")\n",
    "a=len(text)\n",
    "if int(char_remove) < a:\n",
    "    ct=0\n",
    "    newtext=\"\"\n",
    "    for i in range(a):\n",
    "        if i!=int(char_remove):\n",
    "            newtext=newtext+text[i]\n",
    "            ct=ct+1\n",
    "            \n",
    "print(newtext)"
   ]
  },
  {
   "cell_type": "code",
   "execution_count": 30,
   "metadata": {},
   "outputs": [
    {
     "name": "stdout",
     "output_type": "stream",
     "text": [
      "1\n"
     ]
    }
   ],
   "source": [
    "findst=\"ob\"\n",
    "text=text.lower() #convert to lower case as find function is case sensitive\n",
    "findst=findst.lower()\n",
    "ret=text.find(findst)\n",
    "print(ret)"
   ]
  },
  {
   "cell_type": "code",
   "execution_count": 33,
   "metadata": {},
   "outputs": [
    {
     "name": "stdout",
     "output_type": "stream",
     "text": [
      "bubbubbub\n"
     ]
    }
   ],
   "source": [
    "replacedtext=text.replace(\"ob\",\"ub\")\n",
    "print(replacedtext)"
   ]
  },
  {
   "cell_type": "code",
   "execution_count": 35,
   "metadata": {},
   "outputs": [
    {
     "name": "stdout",
     "output_type": "stream",
     "text": [
      "a is present in text\n",
      "e is present in text\n",
      "i is present in text\n",
      "o is present in text\n",
      "u is present in text\n"
     ]
    }
   ],
   "source": [
    "text=\"what a day it has been...oy! shutting down\"\n",
    "vowels=[\"a\",\"e\",\"i\",\"o\",\"u\"]\n",
    "text=text.lower()\n",
    "for i in range(5):\n",
    "    if text.find(vowels[i])!=-1:\n",
    "        print(vowels[i]+\" is present in text\")"
   ]
  },
  {
   "cell_type": "code",
   "execution_count": null,
   "metadata": {},
   "outputs": [],
   "source": []
  }
 ],
 "metadata": {
  "kernelspec": {
   "display_name": "Python 3",
   "language": "python",
   "name": "python3"
  },
  "language_info": {
   "codemirror_mode": {
    "name": "ipython",
    "version": 3
   },
   "file_extension": ".py",
   "mimetype": "text/x-python",
   "name": "python",
   "nbconvert_exporter": "python",
   "pygments_lexer": "ipython3",
   "version": "3.7.4"
  }
 },
 "nbformat": 4,
 "nbformat_minor": 2
}
