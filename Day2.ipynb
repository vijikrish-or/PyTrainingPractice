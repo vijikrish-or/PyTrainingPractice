{
 "cells": [
  {
   "cell_type": "code",
   "execution_count": 9,
   "metadata": {},
   "outputs": [
    {
     "name": "stdout",
     "output_type": "stream",
     "text": [
      "9\n",
      "36\n"
     ]
    }
   ],
   "source": [
    "#array usage\n",
    "arr=[1,5,6,7,8,9]\n",
    "\n",
    "def arrmax(a):\n",
    "    m=a[0]\n",
    "    for i in range(len(a)):\n",
    "        if a[i]>m:\n",
    "            m=a[i]\n",
    "    return m    \n",
    "\n",
    "print(arrmax(arr)) \n",
    "\n",
    "def arrsum(a):\n",
    "    s=0\n",
    "    for i in range(len(a)):\n",
    "        s=s+a[i]\n",
    "    return s\n",
    "\n",
    "print(arrsum(arr))"
   ]
  },
  {
   "cell_type": "code",
   "execution_count": 17,
   "metadata": {},
   "outputs": [
    {
     "name": "stdout",
     "output_type": "stream",
     "text": [
      "Enter the number for dividing and finding remainder :8\n",
      "4.0\n"
     ]
    }
   ],
   "source": [
    "div=input(\"Enter the number for dividing and finding remainder :\")\n",
    "\n",
    "re=0\n",
    "for i in range(len(arr)):\n",
    "    re=re+arr[i]%float(div)\n",
    "\n",
    "print(re%float(div))\n",
    "\n",
    "#you can sum and then divide by div or div each element by div and sum those remainders and then do another div"
   ]
  },
  {
   "cell_type": "code",
   "execution_count": 25,
   "metadata": {},
   "outputs": [
    {
     "name": "stdout",
     "output_type": "stream",
     "text": [
      "Monotonically increasing\n",
      "not monotonically decreasing - see 0 and 1 elements of array\n"
     ]
    }
   ],
   "source": [
    "arr=[1,2,3,5]\n",
    "for i in range(len(arr)-1):\n",
    "    if arr[i]<arr[i+1]:\n",
    "        continue\n",
    "    else:\n",
    "        print(\"not monotonically increasing - see \"+str(i)+\" and \"+str(i+1)+\" elements of array\")\n",
    "        break\n",
    "else:\n",
    "    print(\"Monotonically increasing\")\n",
    "    \n",
    "for i in range(len(arr)-1):\n",
    "    if arr[i]>arr[i+1]:\n",
    "        continue\n",
    "    else:\n",
    "        print(\"not monotonically decreasing - see \"+str(i)+\" and \"+str(i+1)+\" elements of array\")\n",
    "        break\n",
    "else:\n",
    "    print(\"Monotonically decreasing\")\n",
    "            "
   ]
  },
  {
   "cell_type": "code",
   "execution_count": null,
   "metadata": {},
   "outputs": [],
   "source": [
    "#learnings\n",
    "#1. array defined with [] bracket and referencing to specific element\n",
    "#2. For loop and if application to array operations"
   ]
  }
 ],
 "metadata": {
  "kernelspec": {
   "display_name": "Python 3",
   "language": "python",
   "name": "python3"
  },
  "language_info": {
   "codemirror_mode": {
    "name": "ipython",
    "version": 3
   },
   "file_extension": ".py",
   "mimetype": "text/x-python",
   "name": "python",
   "nbconvert_exporter": "python",
   "pygments_lexer": "ipython3",
   "version": "3.7.4"
  }
 },
 "nbformat": 4,
 "nbformat_minor": 2
}
