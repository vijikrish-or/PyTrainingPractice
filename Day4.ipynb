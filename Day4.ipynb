{
 "cells": [
  {
   "cell_type": "code",
   "execution_count": 6,
   "metadata": {},
   "outputs": [],
   "source": [
    "#matrices\n",
    "MatA=[[1,2,3],\n",
    "      [4,5,6]]\n",
    "\n",
    "MatB=[[4,5,6],\n",
    "     [1,2,3]]"
   ]
  },
  {
   "cell_type": "code",
   "execution_count": 7,
   "metadata": {},
   "outputs": [
    {
     "name": "stdout",
     "output_type": "stream",
     "text": [
      "2\n",
      "3\n",
      "2\n",
      "3\n"
     ]
    }
   ],
   "source": [
    "rowsA=len(MatA)\n",
    "print(rows)\n",
    "colsA=len(MatA[0])\n",
    "print(cols)\n",
    "\n",
    "rowsB=len(MatB)\n",
    "print(rows)\n",
    "colsB=len(MatB[0])\n",
    "print(cols)"
   ]
  },
  {
   "cell_type": "code",
   "execution_count": 26,
   "metadata": {},
   "outputs": [
    {
     "name": "stdout",
     "output_type": "stream",
     "text": [
      "[[0, 0, 0], [0, 0, 0]]\n",
      "0\n",
      "0\n",
      "1\n",
      "2\n",
      "1\n",
      "0\n",
      "1\n",
      "2\n",
      "[[5, 7, 9], [5, 7, 9]]\n",
      "[[4, 10, 18], [4, 10, 18]]\n"
     ]
    }
   ],
   "source": [
    "if rowsA==rowsB and colsA==colsB:\n",
    "    MatAdd=[[0]*colsA]*rowsA\n",
    "    MatMult=[[0]*colsA]*rowsA\n",
    "    print(MatAdd)\n",
    "    for i in range(rowsA):\n",
    "        print(i)\n",
    "        for j in range(colsA):\n",
    "            print(j)\n",
    "            #print(MatA[i][j])\n",
    "            #print(MatB[i][j])\n",
    "            #print(MatA[i][j]+MatB[i][j])\n",
    "            MatAdd[i][j]=MatA[i][j]+MatB[i][j]\n",
    "            MatMult[i][j]=MatA[i][j]*MatB[i][j]\n",
    "else:\n",
    "    print(\"Matrices don't have matching rows and columns\")\n",
    "            \n",
    "print(MatAdd)\n",
    "print(MatMult)"
   ]
  },
  {
   "cell_type": "code",
   "execution_count": 39,
   "metadata": {},
   "outputs": [
    {
     "name": "stdout",
     "output_type": "stream",
     "text": [
      "2\n",
      "2\n",
      "2\n",
      "2\n"
     ]
    }
   ],
   "source": [
    "strA=[[\"Adam\",\"Eve\"],[\"Smith\",\"Bain\"]]\n",
    "strB=[[\"Teacher\",\"Doctor\"],[\"Car\",\"Bike\"]]\n",
    "rowsA=len(strA)\n",
    "print(rowsA)\n",
    "colsA=len(strA[0])\n",
    "print(colsA)\n",
    "rowsB=len(strB)\n",
    "print(rowsB)\n",
    "colsB=len(strB[0])\n",
    "print(colsB)"
   ]
  },
  {
   "cell_type": "code",
   "execution_count": 63,
   "metadata": {},
   "outputs": [
    {
     "name": "stdout",
     "output_type": "stream",
     "text": [
      "[[' ', ' '], [' ', ' ']]\n",
      "0\n",
      "0\n",
      "Adam-Teacher\n",
      "1\n",
      "Eve-Doctor\n",
      "1\n",
      "0\n",
      "Smith-Car\n",
      "1\n",
      "Bain-Bike\n",
      "['Adam-Teacher', 'Eve-Doctor', 'Smith-Car', 'Bain-Bike']\n",
      "[['Smith-Car', 'Bain-Bike'], ['Smith-Car', 'Bain-Bike']]\n"
     ]
    }
   ],
   "source": [
    "if rowsA==rowsB and colsA==colsB:\n",
    "    StrAdd=[[\" \"]*colsA]*rowsA\n",
    "    strlist=[]\n",
    "    print(StrAdd)\n",
    "    for i in range(rowsA):\n",
    "        print(i)\n",
    "        for j in range(colsA):\n",
    "            print(j)\n",
    "            text=strA[i][j]+\"-\"+strB[i][j]\n",
    "            print(text)\n",
    "            strlist.append(text)\n",
    "    print(strlist)\n",
    "    ct=0\n",
    "    for i in range(rowsA):\n",
    "        for j in range(rowsB):\n",
    "            StrAdd[i][j]=strlist[ct]\n",
    "            ct=ct+1\n",
    "else:\n",
    "    print(\"Matrices don't have matching rows and columns\")\n",
    "    \n",
    "print(StrAdd)\n",
    "\n",
    "#for some reason, string matrix reference [0][0] makes it overwrite"
   ]
  }
 ],
 "metadata": {
  "kernelspec": {
   "display_name": "Python 3",
   "language": "python",
   "name": "python3"
  },
  "language_info": {
   "codemirror_mode": {
    "name": "ipython",
    "version": 3
   },
   "file_extension": ".py",
   "mimetype": "text/x-python",
   "name": "python",
   "nbconvert_exporter": "python",
   "pygments_lexer": "ipython3",
   "version": "3.7.4"
  }
 },
 "nbformat": 4,
 "nbformat_minor": 2
}
