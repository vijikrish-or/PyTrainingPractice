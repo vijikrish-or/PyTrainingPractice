{
 "cells": [
  {
   "cell_type": "code",
   "execution_count": 1,
   "metadata": {},
   "outputs": [],
   "source": [
    "import pandas as pd"
   ]
  },
  {
   "cell_type": "code",
   "execution_count": 2,
   "metadata": {},
   "outputs": [],
   "source": [
    "occdata=pd.read_csv('occupation.csv')"
   ]
  },
  {
   "cell_type": "code",
   "execution_count": 4,
   "metadata": {},
   "outputs": [
    {
     "data": {
      "text/html": [
       "<div>\n",
       "<style scoped>\n",
       "    .dataframe tbody tr th:only-of-type {\n",
       "        vertical-align: middle;\n",
       "    }\n",
       "\n",
       "    .dataframe tbody tr th {\n",
       "        vertical-align: top;\n",
       "    }\n",
       "\n",
       "    .dataframe thead th {\n",
       "        text-align: right;\n",
       "    }\n",
       "</style>\n",
       "<table border=\"1\" class=\"dataframe\">\n",
       "  <thead>\n",
       "    <tr style=\"text-align: right;\">\n",
       "      <th></th>\n",
       "      <th>user_id</th>\n",
       "      <th>age</th>\n",
       "      <th>gender</th>\n",
       "      <th>occupation</th>\n",
       "      <th>zip_code</th>\n",
       "    </tr>\n",
       "  </thead>\n",
       "  <tbody>\n",
       "    <tr>\n",
       "      <th>0</th>\n",
       "      <td>1</td>\n",
       "      <td>24</td>\n",
       "      <td>M</td>\n",
       "      <td>technician</td>\n",
       "      <td>85711</td>\n",
       "    </tr>\n",
       "    <tr>\n",
       "      <th>1</th>\n",
       "      <td>2</td>\n",
       "      <td>53</td>\n",
       "      <td>F</td>\n",
       "      <td>other</td>\n",
       "      <td>94043</td>\n",
       "    </tr>\n",
       "    <tr>\n",
       "      <th>2</th>\n",
       "      <td>3</td>\n",
       "      <td>23</td>\n",
       "      <td>M</td>\n",
       "      <td>writer</td>\n",
       "      <td>32067</td>\n",
       "    </tr>\n",
       "    <tr>\n",
       "      <th>3</th>\n",
       "      <td>4</td>\n",
       "      <td>24</td>\n",
       "      <td>M</td>\n",
       "      <td>technician</td>\n",
       "      <td>43537</td>\n",
       "    </tr>\n",
       "    <tr>\n",
       "      <th>4</th>\n",
       "      <td>5</td>\n",
       "      <td>33</td>\n",
       "      <td>F</td>\n",
       "      <td>other</td>\n",
       "      <td>15213</td>\n",
       "    </tr>\n",
       "  </tbody>\n",
       "</table>\n",
       "</div>"
      ],
      "text/plain": [
       "   user_id  age gender  occupation zip_code\n",
       "0        1   24      M  technician    85711\n",
       "1        2   53      F       other    94043\n",
       "2        3   23      M      writer    32067\n",
       "3        4   24      M  technician    43537\n",
       "4        5   33      F       other    15213"
      ]
     },
     "execution_count": 4,
     "metadata": {},
     "output_type": "execute_result"
    }
   ],
   "source": [
    "occdata.head()"
   ]
  },
  {
   "cell_type": "code",
   "execution_count": 6,
   "metadata": {},
   "outputs": [],
   "source": [
    "occbyocc=occdata.groupby(['occupation']).mean(['age'])"
   ]
  },
  {
   "cell_type": "code",
   "execution_count": 7,
   "metadata": {},
   "outputs": [
    {
     "name": "stdout",
     "output_type": "stream",
     "text": [
      "                  user_id        age\n",
      "occupation                          \n",
      "administrator  430.949367  38.746835\n",
      "artist         451.892857  31.392857\n",
      "doctor         533.714286  43.571429\n",
      "educator       466.905263  42.010526\n",
      "engineer       456.328358  36.388060\n",
      "entertainment  398.000000  29.222222\n",
      "executive      422.312500  38.718750\n",
      "healthcare     501.437500  41.562500\n",
      "homemaker      443.000000  32.571429\n",
      "lawyer         359.083333  36.750000\n",
      "librarian      486.588235  40.000000\n",
      "marketing      437.807692  37.615385\n",
      "none           368.666667  26.555556\n",
      "other          542.733333  34.523810\n",
      "programmer     435.530303  33.121212\n",
      "retired        515.714286  63.071429\n",
      "salesman       494.916667  35.666667\n",
      "scientist      465.129032  35.548387\n",
      "student        484.954082  22.081633\n",
      "technician     497.629630  33.148148\n",
      "writer         495.711111  36.311111\n"
     ]
    }
   ],
   "source": [
    "print(occbyocc)"
   ]
  },
  {
   "cell_type": "code",
   "execution_count": 3,
   "metadata": {},
   "outputs": [],
   "source": [
    "occgen=occdata.groupby(['occupation','gender']).count()"
   ]
  },
  {
   "cell_type": "code",
   "execution_count": 16,
   "metadata": {},
   "outputs": [
    {
     "name": "stdout",
     "output_type": "stream",
     "text": [
      "                      user_id  age  zip_code\n",
      "occupation    gender                        \n",
      "administrator F            36   36        36\n",
      "              M            43   43        43\n",
      "artist        F            13   13        13\n",
      "              M            15   15        15\n",
      "doctor        M             7    7         7\n",
      "educator      F            26   26        26\n",
      "              M            69   69        69\n",
      "engineer      F             2    2         2\n",
      "              M            65   65        65\n",
      "entertainment F             2    2         2\n",
      "              M            16   16        16\n",
      "executive     F             3    3         3\n",
      "              M            29   29        29\n",
      "healthcare    F            11   11        11\n",
      "              M             5    5         5\n",
      "homemaker     F             6    6         6\n",
      "              M             1    1         1\n",
      "lawyer        F             2    2         2\n",
      "              M            10   10        10\n",
      "librarian     F            29   29        29\n",
      "              M            22   22        22\n",
      "marketing     F            10   10        10\n",
      "              M            16   16        16\n",
      "none          F             4    4         4\n",
      "              M             5    5         5\n",
      "other         F            36   36        36\n",
      "              M            69   69        69\n",
      "programmer    F             6    6         6\n",
      "              M            60   60        60\n",
      "retired       F             1    1         1\n",
      "              M            13   13        13\n",
      "salesman      F             3    3         3\n",
      "              M             9    9         9\n",
      "scientist     F             3    3         3\n",
      "              M            28   28        28\n",
      "student       F            60   60        60\n",
      "              M           136  136       136\n",
      "technician    F             1    1         1\n",
      "              M            26   26        26\n",
      "writer        F            19   19        19\n",
      "              M            26   26        26\n"
     ]
    }
   ],
   "source": [
    "print(occgen)"
   ]
  },
  {
   "cell_type": "code",
   "execution_count": 20,
   "metadata": {},
   "outputs": [
    {
     "name": "stdout",
     "output_type": "stream",
     "text": [
      "                      user_id  age\n",
      "occupation    gender              \n",
      "administrator F            34   22\n",
      "              M             7   21\n",
      "artist        F            23   19\n",
      "              M            31   20\n",
      "doctor        M           138   28\n",
      "educator      F            15   23\n",
      "              M            13   25\n",
      "engineer      F           786   23\n",
      "              M            25   22\n",
      "entertainment F           721   24\n",
      "              M            16   15\n",
      "executive     F            98   39\n",
      "              M             6   22\n",
      "healthcare    F           170   22\n",
      "              M            60   28\n",
      "homemaker     F            20   20\n",
      "              M           898   23\n",
      "lawyer        F           126   28\n",
      "              M            10   21\n",
      "librarian     F            27   26\n",
      "              M            19   23\n",
      "marketing     F            46   24\n",
      "              M            47   24\n",
      "none          F           256   26\n",
      "              M            57   11\n",
      "other         F             2   18\n",
      "              M            83   13\n",
      "programmer    F           292   26\n",
      "              M            17   20\n",
      "retired       F           860   70\n",
      "              M           106   51\n",
      "salesman      F           457   18\n",
      "              M           112   21\n",
      "scientist     F           175   26\n",
      "              M            14   23\n",
      "student       F            32   13\n",
      "              M             9    7\n",
      "technician    F           938   38\n",
      "              M             1   21\n",
      "writer        F           122   18\n",
      "              M             3   21\n"
     ]
    }
   ],
   "source": [
    "occgena=occdata.groupby(['occupation','gender']).min('age')\n",
    "print(occgena)"
   ]
  },
  {
   "cell_type": "code",
   "execution_count": 21,
   "metadata": {},
   "outputs": [
    {
     "name": "stdout",
     "output_type": "stream",
     "text": [
      "                      user_id  age\n",
      "occupation    gender              \n",
      "administrator F           922   62\n",
      "              M           940   70\n",
      "artist        F           920   48\n",
      "              M           865   45\n",
      "doctor        M           935   64\n",
      "educator      F           909   51\n",
      "              M           937   63\n",
      "engineer      F           827   36\n",
      "              M           934   70\n",
      "entertainment F           839   38\n",
      "              M           926   50\n",
      "executive     F           835   49\n",
      "              M           901   69\n",
      "healthcare    F           807   53\n",
      "              M           910   62\n",
      "homemaker     F           722   50\n",
      "              M           898   23\n",
      "lawyer        F           444   51\n",
      "              M           846   53\n",
      "librarian     F           942   59\n",
      "              M           906   69\n",
      "marketing     F           856   50\n",
      "              M           881   55\n",
      "none          F           756   55\n",
      "              M           628   33\n",
      "other         F           914   55\n",
      "              M           936   64\n",
      "programmer    F           698   38\n",
      "              M           927   63\n",
      "retired       F           860   70\n",
      "              M           900   73\n",
      "salesman      F           925   33\n",
      "              M           808   66\n",
      "scientist     F           930   31\n",
      "              M           929   55\n",
      "student       F           939   38\n",
      "              M           943   42\n",
      "technician    F           938   38\n",
      "              M           889   55\n",
      "writer        F           911   56\n",
      "              M           896   60\n"
     ]
    }
   ],
   "source": [
    "occgena1=occdata.groupby(['occupation','gender']).max('age')\n",
    "print(occgena1)"
   ]
  },
  {
   "cell_type": "code",
   "execution_count": 22,
   "metadata": {},
   "outputs": [
    {
     "name": "stdout",
     "output_type": "stream",
     "text": [
      "                         user_id        age\n",
      "occupation    gender                       \n",
      "administrator F       443.944444  40.638889\n",
      "              M       420.069767  37.162791\n",
      "artist        F       432.153846  30.307692\n",
      "              M       469.000000  32.333333\n",
      "doctor        M       533.714286  43.571429\n",
      "educator      F       454.730769  39.115385\n",
      "              M       471.492754  43.101449\n",
      "engineer      F       806.500000  29.500000\n",
      "              M       445.553846  36.600000\n",
      "entertainment F       780.000000  31.000000\n",
      "              M       350.250000  29.000000\n",
      "executive     F       373.000000  44.000000\n",
      "              M       427.413793  38.172414\n",
      "healthcare    F       568.454545  39.818182\n",
      "              M       354.000000  45.400000\n",
      "homemaker     F       367.166667  34.166667\n",
      "              M       898.000000  23.000000\n",
      "lawyer        F       285.000000  39.500000\n",
      "              M       373.900000  36.200000\n",
      "librarian     F       449.137931  40.000000\n",
      "              M       535.954545  40.000000\n",
      "marketing     F       443.300000  37.200000\n",
      "              M       434.375000  37.875000\n",
      "none          F       521.750000  36.500000\n",
      "              M       246.200000  18.600000\n",
      "other         F       474.666667  35.472222\n",
      "              M       578.246377  34.028986\n",
      "programmer    F       411.166667  32.166667\n",
      "              M       437.966667  33.216667\n",
      "retired       F       860.000000  70.000000\n",
      "              M       489.230769  62.538462\n",
      "salesman      F       637.666667  27.000000\n",
      "              M       447.333333  38.555556\n",
      "scientist     F       611.666667  28.333333\n",
      "              M       449.428571  36.321429\n",
      "student       F       497.533333  20.750000\n",
      "              M       479.404412  22.669118\n",
      "technician    F       938.000000  38.000000\n",
      "              M       480.692308  32.961538\n",
      "writer        F       536.052632  37.631579\n",
      "              M       466.230769  35.346154\n"
     ]
    }
   ],
   "source": [
    "occgena2=occdata.groupby(['occupation','gender']).mean('age')\n",
    "print(occgena2)"
   ]
  },
  {
   "cell_type": "code",
   "execution_count": 41,
   "metadata": {},
   "outputs": [
    {
     "name": "stderr",
     "output_type": "stream",
     "text": [
      "/opt/anaconda3/lib/python3.7/site-packages/ipykernel_launcher.py:4: SettingWithCopyWarning: \n",
      "A value is trying to be set on a copy of a slice from a DataFrame\n",
      "\n",
      "See the caveats in the documentation: https://pandas.pydata.org/pandas-docs/stable/user_guide/indexing.html#returning-a-view-versus-a-copy\n",
      "  after removing the cwd from sys.path.\n"
     ]
    }
   ],
   "source": [
    "occdata['newocc']=occdata['occupation']\n",
    "for i in range(len(occdata)):\n",
    "    #print(occdata['occupation'][i])\n",
    "    occdata['newocc'][i]=occdata['occupation'][i].capitalize()"
   ]
  },
  {
   "cell_type": "code",
   "execution_count": 28,
   "metadata": {},
   "outputs": [
    {
     "name": "stdout",
     "output_type": "stream",
     "text": [
      "943\n"
     ]
    }
   ],
   "source": [
    "print(len(occdata))"
   ]
  },
  {
   "cell_type": "code",
   "execution_count": 31,
   "metadata": {},
   "outputs": [
    {
     "name": "stdout",
     "output_type": "stream",
     "text": [
      "23\n"
     ]
    }
   ],
   "source": [
    "print(occdata['age'][2])"
   ]
  },
  {
   "cell_type": "code",
   "execution_count": 42,
   "metadata": {},
   "outputs": [
    {
     "name": "stdout",
     "output_type": "stream",
     "text": [
      "   user_id  age gender  occupation zip_code      newocc\n",
      "0        1   24      M  technician    85711  Technician\n",
      "1        2   53      F       other    94043       Other\n",
      "2        3   23      M      writer    32067      Writer\n",
      "3        4   24      M  technician    43537  Technician\n",
      "4        5   33      F       other    15213       Other\n"
     ]
    }
   ],
   "source": [
    "print(occdata.head())"
   ]
  },
  {
   "cell_type": "code",
   "execution_count": 43,
   "metadata": {},
   "outputs": [
    {
     "name": "stdout",
     "output_type": "stream",
     "text": [
      "               user_id  age  gender  zip_code  newocc\n",
      "occupation                                           \n",
      "administrator       79   79      79        79      79\n",
      "artist              28   28      28        28      28\n",
      "doctor               7    7       7         7       7\n",
      "educator            95   95      95        95      95\n",
      "engineer            67   67      67        67      67\n",
      "entertainment       18   18      18        18      18\n",
      "executive           32   32      32        32      32\n",
      "healthcare          16   16      16        16      16\n",
      "homemaker            7    7       7         7       7\n",
      "lawyer              12   12      12        12      12\n",
      "librarian           51   51      51        51      51\n",
      "marketing           26   26      26        26      26\n",
      "none                 9    9       9         9       9\n",
      "other              105  105     105       105     105\n",
      "programmer          66   66      66        66      66\n",
      "retired             14   14      14        14      14\n",
      "salesman            12   12      12        12      12\n",
      "scientist           31   31      31        31      31\n",
      "student            196  196     196       196     196\n",
      "technician          27   27      27        27      27\n",
      "writer              45   45      45        45      45\n"
     ]
    }
   ],
   "source": [
    "occgenct=occdata.groupby(['occupation']).count()\n",
    "print(occgenct)"
   ]
  },
  {
   "cell_type": "code",
   "execution_count": 44,
   "metadata": {},
   "outputs": [
    {
     "name": "stdout",
     "output_type": "stream",
     "text": [
      "21\n"
     ]
    }
   ],
   "source": [
    "occ_ct=len(occgenct)\n",
    "print(occ_ct)"
   ]
  },
  {
   "cell_type": "code",
   "execution_count": 45,
   "metadata": {},
   "outputs": [
    {
     "name": "stdout",
     "output_type": "stream",
     "text": [
      "41\n"
     ]
    }
   ],
   "source": [
    "occgen_ct=len(occgen)\n",
    "print(occgen_ct)"
   ]
  },
  {
   "cell_type": "code",
   "execution_count": null,
   "metadata": {},
   "outputs": [],
   "source": [
    "#for i in range(occ_ct):\n",
    " #   male_ct="
   ]
  },
  {
   "cell_type": "code",
   "execution_count": 51,
   "metadata": {},
   "outputs": [
    {
     "name": "stdout",
     "output_type": "stream",
     "text": [
      "     user_id  age gender occupation zip_code  newocc\n",
      "137      138   46      M     doctor    53211  Doctor\n",
      "250      251   28      M     doctor    85032  Doctor\n",
      "298      299   29      M     doctor    63108  Doctor\n",
      "426      427   51      M     doctor    85258  Doctor\n",
      "840      841   45      M     doctor    47401  Doctor\n",
      "844      845   64      M     doctor    97405  Doctor\n",
      "934      935   42      M     doctor    66221  Doctor\n"
     ]
    }
   ],
   "source": [
    "a=occdata[(occdata.occupation=='doctor')]\n",
    "print(a)"
   ]
  },
  {
   "cell_type": "code",
   "execution_count": 52,
   "metadata": {},
   "outputs": [
    {
     "ename": "AttributeError",
     "evalue": "'DataFrame' object has no attribute 'get_group'",
     "output_type": "error",
     "traceback": [
      "\u001b[0;31m---------------------------------------------------------------------------\u001b[0m",
      "\u001b[0;31mAttributeError\u001b[0m                            Traceback (most recent call last)",
      "\u001b[0;32m<ipython-input-52-18701f8e859e>\u001b[0m in \u001b[0;36m<module>\u001b[0;34m\u001b[0m\n\u001b[0;32m----> 1\u001b[0;31m \u001b[0mprint\u001b[0m\u001b[0;34m(\u001b[0m\u001b[0moccgen\u001b[0m\u001b[0;34m.\u001b[0m\u001b[0mget_group\u001b[0m\u001b[0;34m(\u001b[0m\u001b[0;34m'doctor'\u001b[0m\u001b[0;34m)\u001b[0m\u001b[0;34m)\u001b[0m\u001b[0;34m\u001b[0m\u001b[0;34m\u001b[0m\u001b[0m\n\u001b[0m",
      "\u001b[0;32m/opt/anaconda3/lib/python3.7/site-packages/pandas/core/generic.py\u001b[0m in \u001b[0;36m__getattr__\u001b[0;34m(self, name)\u001b[0m\n\u001b[1;32m   5137\u001b[0m             \u001b[0;32mif\u001b[0m \u001b[0mself\u001b[0m\u001b[0;34m.\u001b[0m\u001b[0m_info_axis\u001b[0m\u001b[0;34m.\u001b[0m\u001b[0m_can_hold_identifiers_and_holds_name\u001b[0m\u001b[0;34m(\u001b[0m\u001b[0mname\u001b[0m\u001b[0;34m)\u001b[0m\u001b[0;34m:\u001b[0m\u001b[0;34m\u001b[0m\u001b[0;34m\u001b[0m\u001b[0m\n\u001b[1;32m   5138\u001b[0m                 \u001b[0;32mreturn\u001b[0m \u001b[0mself\u001b[0m\u001b[0;34m[\u001b[0m\u001b[0mname\u001b[0m\u001b[0;34m]\u001b[0m\u001b[0;34m\u001b[0m\u001b[0;34m\u001b[0m\u001b[0m\n\u001b[0;32m-> 5139\u001b[0;31m             \u001b[0;32mreturn\u001b[0m \u001b[0mobject\u001b[0m\u001b[0;34m.\u001b[0m\u001b[0m__getattribute__\u001b[0m\u001b[0;34m(\u001b[0m\u001b[0mself\u001b[0m\u001b[0;34m,\u001b[0m \u001b[0mname\u001b[0m\u001b[0;34m)\u001b[0m\u001b[0;34m\u001b[0m\u001b[0;34m\u001b[0m\u001b[0m\n\u001b[0m\u001b[1;32m   5140\u001b[0m \u001b[0;34m\u001b[0m\u001b[0m\n\u001b[1;32m   5141\u001b[0m     \u001b[0;32mdef\u001b[0m \u001b[0m__setattr__\u001b[0m\u001b[0;34m(\u001b[0m\u001b[0mself\u001b[0m\u001b[0;34m,\u001b[0m \u001b[0mname\u001b[0m\u001b[0;34m:\u001b[0m \u001b[0mstr\u001b[0m\u001b[0;34m,\u001b[0m \u001b[0mvalue\u001b[0m\u001b[0;34m)\u001b[0m \u001b[0;34m->\u001b[0m \u001b[0;32mNone\u001b[0m\u001b[0;34m:\u001b[0m\u001b[0;34m\u001b[0m\u001b[0;34m\u001b[0m\u001b[0m\n",
      "\u001b[0;31mAttributeError\u001b[0m: 'DataFrame' object has no attribute 'get_group'"
     ]
    }
   ],
   "source": [
    "print(occgen.get_group('doctor'))"
   ]
  },
  {
   "cell_type": "code",
   "execution_count": 59,
   "metadata": {},
   "outputs": [
    {
     "name": "stdout",
     "output_type": "stream",
     "text": [
      "                      user_id  age  zip_code\n",
      "occupation    gender                        \n",
      "administrator F            36   36        36\n",
      "              M            43   43        43\n",
      "educator      M            69   69        69\n",
      "engineer      M            65   65        65\n",
      "other         F            36   36        36\n",
      "              M            69   69        69\n",
      "programmer    M            60   60        60\n",
      "student       F            60   60        60\n",
      "              M           136  136       136\n"
     ]
    }
   ],
   "source": [
    "print(occgen[(occgen.age>30)])"
   ]
  },
  {
   "cell_type": "code",
   "execution_count": 61,
   "metadata": {},
   "outputs": [
    {
     "ename": "AttributeError",
     "evalue": "'DataFrame' object has no attribute 'get_group'",
     "output_type": "error",
     "traceback": [
      "\u001b[0;31m---------------------------------------------------------------------------\u001b[0m",
      "\u001b[0;31mAttributeError\u001b[0m                            Traceback (most recent call last)",
      "\u001b[0;32m<ipython-input-61-80be5a912851>\u001b[0m in \u001b[0;36m<module>\u001b[0;34m\u001b[0m\n\u001b[0;32m----> 1\u001b[0;31m \u001b[0mprint\u001b[0m\u001b[0;34m(\u001b[0m\u001b[0moccgen\u001b[0m\u001b[0;34m.\u001b[0m\u001b[0mget_group\u001b[0m\u001b[0;34m(\u001b[0m\u001b[0;34m'doctor'\u001b[0m\u001b[0;34m,\u001b[0m\u001b[0;34m'M'\u001b[0m\u001b[0;34m)\u001b[0m\u001b[0;34m)\u001b[0m\u001b[0;34m\u001b[0m\u001b[0;34m\u001b[0m\u001b[0m\n\u001b[0m",
      "\u001b[0;32m/opt/anaconda3/lib/python3.7/site-packages/pandas/core/generic.py\u001b[0m in \u001b[0;36m__getattr__\u001b[0;34m(self, name)\u001b[0m\n\u001b[1;32m   5137\u001b[0m             \u001b[0;32mif\u001b[0m \u001b[0mself\u001b[0m\u001b[0;34m.\u001b[0m\u001b[0m_info_axis\u001b[0m\u001b[0;34m.\u001b[0m\u001b[0m_can_hold_identifiers_and_holds_name\u001b[0m\u001b[0;34m(\u001b[0m\u001b[0mname\u001b[0m\u001b[0;34m)\u001b[0m\u001b[0;34m:\u001b[0m\u001b[0;34m\u001b[0m\u001b[0;34m\u001b[0m\u001b[0m\n\u001b[1;32m   5138\u001b[0m                 \u001b[0;32mreturn\u001b[0m \u001b[0mself\u001b[0m\u001b[0;34m[\u001b[0m\u001b[0mname\u001b[0m\u001b[0;34m]\u001b[0m\u001b[0;34m\u001b[0m\u001b[0;34m\u001b[0m\u001b[0m\n\u001b[0;32m-> 5139\u001b[0;31m             \u001b[0;32mreturn\u001b[0m \u001b[0mobject\u001b[0m\u001b[0;34m.\u001b[0m\u001b[0m__getattribute__\u001b[0m\u001b[0;34m(\u001b[0m\u001b[0mself\u001b[0m\u001b[0;34m,\u001b[0m \u001b[0mname\u001b[0m\u001b[0;34m)\u001b[0m\u001b[0;34m\u001b[0m\u001b[0;34m\u001b[0m\u001b[0m\n\u001b[0m\u001b[1;32m   5140\u001b[0m \u001b[0;34m\u001b[0m\u001b[0m\n\u001b[1;32m   5141\u001b[0m     \u001b[0;32mdef\u001b[0m \u001b[0m__setattr__\u001b[0m\u001b[0;34m(\u001b[0m\u001b[0mself\u001b[0m\u001b[0;34m,\u001b[0m \u001b[0mname\u001b[0m\u001b[0;34m:\u001b[0m \u001b[0mstr\u001b[0m\u001b[0;34m,\u001b[0m \u001b[0mvalue\u001b[0m\u001b[0;34m)\u001b[0m \u001b[0;34m->\u001b[0m \u001b[0;32mNone\u001b[0m\u001b[0;34m:\u001b[0m\u001b[0;34m\u001b[0m\u001b[0;34m\u001b[0m\u001b[0m\n",
      "\u001b[0;31mAttributeError\u001b[0m: 'DataFrame' object has no attribute 'get_group'"
     ]
    }
   ],
   "source": [
    "print(occgen.get_group('doctor','M'))"
   ]
  },
  {
   "cell_type": "code",
   "execution_count": 63,
   "metadata": {},
   "outputs": [],
   "source": [
    "occflat=occgen.values.flatten()"
   ]
  },
  {
   "cell_type": "code",
   "execution_count": 64,
   "metadata": {},
   "outputs": [
    {
     "name": "stdout",
     "output_type": "stream",
     "text": [
      "[ 36  36  36  43  43  43  13  13  13  15  15  15   7   7   7  26  26  26\n",
      "  69  69  69   2   2   2  65  65  65   2   2   2  16  16  16   3   3   3\n",
      "  29  29  29  11  11  11   5   5   5   6   6   6   1   1   1   2   2   2\n",
      "  10  10  10  29  29  29  22  22  22  10  10  10  16  16  16   4   4   4\n",
      "   5   5   5  36  36  36  69  69  69   6   6   6  60  60  60   1   1   1\n",
      "  13  13  13   3   3   3   9   9   9   3   3   3  28  28  28  60  60  60\n",
      " 136 136 136   1   1   1  26  26  26  19  19  19  26  26  26]\n"
     ]
    }
   ],
   "source": [
    "print(occflat)"
   ]
  },
  {
   "cell_type": "code",
   "execution_count": 21,
   "metadata": {},
   "outputs": [],
   "source": [
    "occgenunstack=occgen.unstack()"
   ]
  },
  {
   "cell_type": "code",
   "execution_count": 22,
   "metadata": {},
   "outputs": [
    {
     "name": "stdout",
     "output_type": "stream",
     "text": [
      "              user_id          age        zip_code       \n",
      "gender              F      M     F      M        F      M\n",
      "occupation                                               \n",
      "administrator    36.0   43.0  36.0   43.0     36.0   43.0\n",
      "artist           13.0   15.0  13.0   15.0     13.0   15.0\n",
      "doctor            NaN    7.0   NaN    7.0      NaN    7.0\n",
      "educator         26.0   69.0  26.0   69.0     26.0   69.0\n",
      "engineer          2.0   65.0   2.0   65.0      2.0   65.0\n",
      "entertainment     2.0   16.0   2.0   16.0      2.0   16.0\n",
      "executive         3.0   29.0   3.0   29.0      3.0   29.0\n",
      "healthcare       11.0    5.0  11.0    5.0     11.0    5.0\n",
      "homemaker         6.0    1.0   6.0    1.0      6.0    1.0\n",
      "lawyer            2.0   10.0   2.0   10.0      2.0   10.0\n",
      "librarian        29.0   22.0  29.0   22.0     29.0   22.0\n",
      "marketing        10.0   16.0  10.0   16.0     10.0   16.0\n",
      "none              4.0    5.0   4.0    5.0      4.0    5.0\n",
      "other            36.0   69.0  36.0   69.0     36.0   69.0\n",
      "programmer        6.0   60.0   6.0   60.0      6.0   60.0\n",
      "retired           1.0   13.0   1.0   13.0      1.0   13.0\n",
      "salesman          3.0    9.0   3.0    9.0      3.0    9.0\n",
      "scientist         3.0   28.0   3.0   28.0      3.0   28.0\n",
      "student          60.0  136.0  60.0  136.0     60.0  136.0\n",
      "technician        1.0   26.0   1.0   26.0      1.0   26.0\n",
      "writer           19.0   26.0  19.0   26.0     19.0   26.0\n"
     ]
    }
   ],
   "source": [
    "print(occgenunstack)"
   ]
  },
  {
   "cell_type": "code",
   "execution_count": 77,
   "metadata": {},
   "outputs": [],
   "source": [
    "occgenunstack=occgen.unstack().fillna(0)"
   ]
  },
  {
   "cell_type": "code",
   "execution_count": 24,
   "metadata": {},
   "outputs": [
    {
     "name": "stdout",
     "output_type": "stream",
     "text": [
      "7.0\n"
     ]
    }
   ],
   "source": [
    "print(occgenunstack.iloc[2,3])"
   ]
  },
  {
   "cell_type": "code",
   "execution_count": 78,
   "metadata": {},
   "outputs": [
    {
     "name": "stdout",
     "output_type": "stream",
     "text": [
      "              user_id          age        zip_code       \n",
      "gender              F      M     F      M        F      M\n",
      "occupation                                               \n",
      "administrator    36.0   43.0  36.0   43.0     36.0   43.0\n",
      "artist           13.0   15.0  13.0   15.0     13.0   15.0\n",
      "doctor            0.0    7.0   0.0    7.0      0.0    7.0\n",
      "educator         26.0   69.0  26.0   69.0     26.0   69.0\n",
      "engineer          2.0   65.0   2.0   65.0      2.0   65.0\n",
      "entertainment     2.0   16.0   2.0   16.0      2.0   16.0\n",
      "executive         3.0   29.0   3.0   29.0      3.0   29.0\n",
      "healthcare       11.0    5.0  11.0    5.0     11.0    5.0\n",
      "homemaker         6.0    1.0   6.0    1.0      6.0    1.0\n",
      "lawyer            2.0   10.0   2.0   10.0      2.0   10.0\n",
      "librarian        29.0   22.0  29.0   22.0     29.0   22.0\n",
      "marketing        10.0   16.0  10.0   16.0     10.0   16.0\n",
      "none              4.0    5.0   4.0    5.0      4.0    5.0\n",
      "other            36.0   69.0  36.0   69.0     36.0   69.0\n",
      "programmer        6.0   60.0   6.0   60.0      6.0   60.0\n",
      "retired           1.0   13.0   1.0   13.0      1.0   13.0\n",
      "salesman          3.0    9.0   3.0    9.0      3.0    9.0\n",
      "scientist         3.0   28.0   3.0   28.0      3.0   28.0\n",
      "student          60.0  136.0  60.0  136.0     60.0  136.0\n",
      "technician        1.0   26.0   1.0   26.0      1.0   26.0\n",
      "writer           19.0   26.0  19.0   26.0     19.0   26.0\n"
     ]
    }
   ],
   "source": [
    "print(occgenunstack)"
   ]
  },
  {
   "cell_type": "code",
   "execution_count": 82,
   "metadata": {},
   "outputs": [
    {
     "name": "stdout",
     "output_type": "stream",
     "text": [
      "gender            F      M\n",
      "occupation                \n",
      "administrator  36.0   43.0\n",
      "artist         13.0   15.0\n",
      "doctor          0.0    7.0\n",
      "educator       26.0   69.0\n",
      "engineer        2.0   65.0\n",
      "entertainment   2.0   16.0\n",
      "executive       3.0   29.0\n",
      "healthcare     11.0    5.0\n",
      "homemaker       6.0    1.0\n",
      "lawyer          2.0   10.0\n",
      "librarian      29.0   22.0\n",
      "marketing      10.0   16.0\n",
      "none            4.0    5.0\n",
      "other          36.0   69.0\n",
      "programmer      6.0   60.0\n",
      "retired         1.0   13.0\n",
      "salesman        3.0    9.0\n",
      "scientist       3.0   28.0\n",
      "student        60.0  136.0\n",
      "technician      1.0   26.0\n",
      "writer         19.0   26.0\n"
     ]
    }
   ],
   "source": [
    "print(occgenunstack.user_id)"
   ]
  },
  {
   "cell_type": "code",
   "execution_count": 9,
   "metadata": {},
   "outputs": [
    {
     "name": "stdout",
     "output_type": "stream",
     "text": [
      "13\n"
     ]
    }
   ],
   "source": [
    "print(occgen.iat[2,2])"
   ]
  },
  {
   "cell_type": "code",
   "execution_count": 5,
   "metadata": {},
   "outputs": [
    {
     "name": "stdout",
     "output_type": "stream",
     "text": [
      "                      user_id  age  zip_code\n",
      "occupation    gender                        \n",
      "administrator F            36   36        36\n",
      "              M            43   43        43\n",
      "artist        F            13   13        13\n",
      "              M            15   15        15\n",
      "doctor        M             7    7         7\n"
     ]
    }
   ],
   "source": [
    "print(occgen.head())"
   ]
  },
  {
   "cell_type": "code",
   "execution_count": 10,
   "metadata": {},
   "outputs": [
    {
     "name": "stdout",
     "output_type": "stream",
     "text": [
      "Index(['user_id', 'age', 'zip_code'], dtype='object')\n"
     ]
    }
   ],
   "source": [
    "print(occgen.keys())"
   ]
  },
  {
   "cell_type": "code",
   "execution_count": 20,
   "metadata": {},
   "outputs": [
    {
     "data": {
      "text/plain": [
       "'age'"
      ]
     },
     "execution_count": 20,
     "metadata": {},
     "output_type": "execute_result"
    }
   ],
   "source": [
    "list(occgen)[1]"
   ]
  },
  {
   "cell_type": "code",
   "execution_count": 26,
   "metadata": {},
   "outputs": [],
   "source": [
    "#finding male ratio by occupation\n",
    "def numericgen(x):\n",
    "    if x=='M':\n",
    "        return 1\n",
    "    else:\n",
    "        return 0\n",
    "    \n",
    "occdata['numgender']=occdata['gender'].apply(numericgen)"
   ]
  },
  {
   "cell_type": "code",
   "execution_count": 27,
   "metadata": {},
   "outputs": [
    {
     "name": "stdout",
     "output_type": "stream",
     "text": [
      "   user_id  age gender  occupation zip_code  numgender\n",
      "0        1   24      M  technician    85711          1\n",
      "1        2   53      F       other    94043          0\n",
      "2        3   23      M      writer    32067          1\n",
      "3        4   24      M  technician    43537          1\n",
      "4        5   33      F       other    15213          0\n"
     ]
    }
   ],
   "source": [
    "print(occdata.head())"
   ]
  },
  {
   "cell_type": "code",
   "execution_count": 28,
   "metadata": {},
   "outputs": [],
   "source": [
    "maleratio=occdata.groupby(['occupation']).numgender.sum()/occdata.occupation.value_counts()"
   ]
  },
  {
   "cell_type": "code",
   "execution_count": 29,
   "metadata": {},
   "outputs": [
    {
     "name": "stdout",
     "output_type": "stream",
     "text": [
      "administrator    0.544304\n",
      "artist           0.535714\n",
      "doctor           1.000000\n",
      "educator         0.726316\n",
      "engineer         0.970149\n",
      "entertainment    0.888889\n",
      "executive        0.906250\n",
      "healthcare       0.312500\n",
      "homemaker        0.142857\n",
      "lawyer           0.833333\n",
      "librarian        0.431373\n",
      "marketing        0.615385\n",
      "none             0.555556\n",
      "other            0.657143\n",
      "programmer       0.909091\n",
      "retired          0.928571\n",
      "salesman         0.750000\n",
      "scientist        0.903226\n",
      "student          0.693878\n",
      "technician       0.962963\n",
      "writer           0.577778\n",
      "dtype: float64\n"
     ]
    }
   ],
   "source": [
    "print(maleratio)"
   ]
  },
  {
   "cell_type": "code",
   "execution_count": 3,
   "metadata": {},
   "outputs": [],
   "source": [
    "#find % of women and men for each occupation\n",
    "\n",
    "#gender, occup count\n",
    "genocct=occdata.groupby(['occupation','gender']).agg({'gender':'count'})"
   ]
  },
  {
   "cell_type": "code",
   "execution_count": 4,
   "metadata": {},
   "outputs": [
    {
     "name": "stdout",
     "output_type": "stream",
     "text": [
      "                      gender\n",
      "occupation    gender        \n",
      "administrator F           36\n",
      "              M           43\n",
      "artist        F           13\n",
      "              M           15\n",
      "doctor        M            7\n"
     ]
    }
   ],
   "source": [
    "print(genocct.head())"
   ]
  },
  {
   "cell_type": "code",
   "execution_count": 13,
   "metadata": {},
   "outputs": [
    {
     "name": "stdout",
     "output_type": "stream",
     "text": [
      "                      gender\n",
      "gender occupation           \n",
      "F      administrator      36\n",
      "       artist             13\n",
      "       educator           26\n",
      "       engineer            2\n",
      "       entertainment       2\n",
      "       executive           3\n",
      "       healthcare         11\n",
      "       homemaker           6\n",
      "       lawyer              2\n",
      "       librarian          29\n",
      "       marketing          10\n",
      "       none                4\n",
      "       other              36\n",
      "       programmer          6\n",
      "       retired             1\n",
      "       salesman            3\n",
      "       scientist           3\n",
      "       student            60\n",
      "       technician          1\n",
      "       writer             19\n",
      "M      administrator      43\n",
      "       artist             15\n",
      "       doctor              7\n",
      "       educator           69\n",
      "       engineer           65\n",
      "       entertainment      16\n",
      "       executive          29\n",
      "       healthcare          5\n",
      "       homemaker           1\n",
      "       lawyer             10\n",
      "       librarian          22\n",
      "       marketing          16\n",
      "       none                5\n",
      "       other              69\n",
      "       programmer         60\n",
      "       retired            13\n",
      "       salesman            9\n",
      "       scientist          28\n",
      "       student           136\n",
      "       technician         26\n",
      "       writer             26\n"
     ]
    },
    {
     "data": {
      "text/html": [
       "<div>\n",
       "<style scoped>\n",
       "    .dataframe tbody tr th:only-of-type {\n",
       "        vertical-align: middle;\n",
       "    }\n",
       "\n",
       "    .dataframe tbody tr th {\n",
       "        vertical-align: top;\n",
       "    }\n",
       "\n",
       "    .dataframe thead th {\n",
       "        text-align: right;\n",
       "    }\n",
       "</style>\n",
       "<table border=\"1\" class=\"dataframe\">\n",
       "  <thead>\n",
       "    <tr style=\"text-align: right;\">\n",
       "      <th></th>\n",
       "      <th>user_id</th>\n",
       "      <th>age</th>\n",
       "      <th>occupation</th>\n",
       "      <th>zip_code</th>\n",
       "    </tr>\n",
       "    <tr>\n",
       "      <th>gender</th>\n",
       "      <th></th>\n",
       "      <th></th>\n",
       "      <th></th>\n",
       "      <th></th>\n",
       "    </tr>\n",
       "  </thead>\n",
       "  <tbody>\n",
       "    <tr>\n",
       "      <th>F</th>\n",
       "      <td>273</td>\n",
       "      <td>273</td>\n",
       "      <td>273</td>\n",
       "      <td>273</td>\n",
       "    </tr>\n",
       "    <tr>\n",
       "      <th>M</th>\n",
       "      <td>670</td>\n",
       "      <td>670</td>\n",
       "      <td>670</td>\n",
       "      <td>670</td>\n",
       "    </tr>\n",
       "  </tbody>\n",
       "</table>\n",
       "</div>"
      ],
      "text/plain": [
       "        user_id  age  occupation  zip_code\n",
       "gender                                    \n",
       "F           273  273         273       273\n",
       "M           670  670         670       670"
      ]
     },
     "execution_count": 13,
     "metadata": {},
     "output_type": "execute_result"
    }
   ],
   "source": [
    "genocct1=occdata.groupby(['gender','occupation']).agg({'gender':'count'})\n",
    "print(genocct1)\n",
    "genct=occdata.groupby('gender').agg('count')\n",
    "genct"
   ]
  },
  {
   "cell_type": "code",
   "execution_count": 18,
   "metadata": {},
   "outputs": [
    {
     "data": {
      "text/html": [
       "<div>\n",
       "<style scoped>\n",
       "    .dataframe tbody tr th:only-of-type {\n",
       "        vertical-align: middle;\n",
       "    }\n",
       "\n",
       "    .dataframe tbody tr th {\n",
       "        vertical-align: top;\n",
       "    }\n",
       "\n",
       "    .dataframe thead th {\n",
       "        text-align: right;\n",
       "    }\n",
       "</style>\n",
       "<table border=\"1\" class=\"dataframe\">\n",
       "  <thead>\n",
       "    <tr style=\"text-align: right;\">\n",
       "      <th></th>\n",
       "      <th></th>\n",
       "      <th>age</th>\n",
       "      <th>gender</th>\n",
       "      <th>occupation</th>\n",
       "      <th>user_id</th>\n",
       "      <th>zip_code</th>\n",
       "    </tr>\n",
       "    <tr>\n",
       "      <th>gender</th>\n",
       "      <th>occupation</th>\n",
       "      <th></th>\n",
       "      <th></th>\n",
       "      <th></th>\n",
       "      <th></th>\n",
       "      <th></th>\n",
       "    </tr>\n",
       "  </thead>\n",
       "  <tbody>\n",
       "    <tr>\n",
       "      <th rowspan=\"20\" valign=\"top\">F</th>\n",
       "      <th>administrator</th>\n",
       "      <td>NaN</td>\n",
       "      <td>NaN</td>\n",
       "      <td>NaN</td>\n",
       "      <td>NaN</td>\n",
       "      <td>NaN</td>\n",
       "    </tr>\n",
       "    <tr>\n",
       "      <th>artist</th>\n",
       "      <td>NaN</td>\n",
       "      <td>NaN</td>\n",
       "      <td>NaN</td>\n",
       "      <td>NaN</td>\n",
       "      <td>NaN</td>\n",
       "    </tr>\n",
       "    <tr>\n",
       "      <th>educator</th>\n",
       "      <td>NaN</td>\n",
       "      <td>NaN</td>\n",
       "      <td>NaN</td>\n",
       "      <td>NaN</td>\n",
       "      <td>NaN</td>\n",
       "    </tr>\n",
       "    <tr>\n",
       "      <th>engineer</th>\n",
       "      <td>NaN</td>\n",
       "      <td>NaN</td>\n",
       "      <td>NaN</td>\n",
       "      <td>NaN</td>\n",
       "      <td>NaN</td>\n",
       "    </tr>\n",
       "    <tr>\n",
       "      <th>entertainment</th>\n",
       "      <td>NaN</td>\n",
       "      <td>NaN</td>\n",
       "      <td>NaN</td>\n",
       "      <td>NaN</td>\n",
       "      <td>NaN</td>\n",
       "    </tr>\n",
       "    <tr>\n",
       "      <th>executive</th>\n",
       "      <td>NaN</td>\n",
       "      <td>NaN</td>\n",
       "      <td>NaN</td>\n",
       "      <td>NaN</td>\n",
       "      <td>NaN</td>\n",
       "    </tr>\n",
       "    <tr>\n",
       "      <th>healthcare</th>\n",
       "      <td>NaN</td>\n",
       "      <td>NaN</td>\n",
       "      <td>NaN</td>\n",
       "      <td>NaN</td>\n",
       "      <td>NaN</td>\n",
       "    </tr>\n",
       "    <tr>\n",
       "      <th>homemaker</th>\n",
       "      <td>NaN</td>\n",
       "      <td>NaN</td>\n",
       "      <td>NaN</td>\n",
       "      <td>NaN</td>\n",
       "      <td>NaN</td>\n",
       "    </tr>\n",
       "    <tr>\n",
       "      <th>lawyer</th>\n",
       "      <td>NaN</td>\n",
       "      <td>NaN</td>\n",
       "      <td>NaN</td>\n",
       "      <td>NaN</td>\n",
       "      <td>NaN</td>\n",
       "    </tr>\n",
       "    <tr>\n",
       "      <th>librarian</th>\n",
       "      <td>NaN</td>\n",
       "      <td>NaN</td>\n",
       "      <td>NaN</td>\n",
       "      <td>NaN</td>\n",
       "      <td>NaN</td>\n",
       "    </tr>\n",
       "    <tr>\n",
       "      <th>marketing</th>\n",
       "      <td>NaN</td>\n",
       "      <td>NaN</td>\n",
       "      <td>NaN</td>\n",
       "      <td>NaN</td>\n",
       "      <td>NaN</td>\n",
       "    </tr>\n",
       "    <tr>\n",
       "      <th>none</th>\n",
       "      <td>NaN</td>\n",
       "      <td>NaN</td>\n",
       "      <td>NaN</td>\n",
       "      <td>NaN</td>\n",
       "      <td>NaN</td>\n",
       "    </tr>\n",
       "    <tr>\n",
       "      <th>other</th>\n",
       "      <td>NaN</td>\n",
       "      <td>NaN</td>\n",
       "      <td>NaN</td>\n",
       "      <td>NaN</td>\n",
       "      <td>NaN</td>\n",
       "    </tr>\n",
       "    <tr>\n",
       "      <th>programmer</th>\n",
       "      <td>NaN</td>\n",
       "      <td>NaN</td>\n",
       "      <td>NaN</td>\n",
       "      <td>NaN</td>\n",
       "      <td>NaN</td>\n",
       "    </tr>\n",
       "    <tr>\n",
       "      <th>retired</th>\n",
       "      <td>NaN</td>\n",
       "      <td>NaN</td>\n",
       "      <td>NaN</td>\n",
       "      <td>NaN</td>\n",
       "      <td>NaN</td>\n",
       "    </tr>\n",
       "    <tr>\n",
       "      <th>salesman</th>\n",
       "      <td>NaN</td>\n",
       "      <td>NaN</td>\n",
       "      <td>NaN</td>\n",
       "      <td>NaN</td>\n",
       "      <td>NaN</td>\n",
       "    </tr>\n",
       "    <tr>\n",
       "      <th>scientist</th>\n",
       "      <td>NaN</td>\n",
       "      <td>NaN</td>\n",
       "      <td>NaN</td>\n",
       "      <td>NaN</td>\n",
       "      <td>NaN</td>\n",
       "    </tr>\n",
       "    <tr>\n",
       "      <th>student</th>\n",
       "      <td>NaN</td>\n",
       "      <td>NaN</td>\n",
       "      <td>NaN</td>\n",
       "      <td>NaN</td>\n",
       "      <td>NaN</td>\n",
       "    </tr>\n",
       "    <tr>\n",
       "      <th>technician</th>\n",
       "      <td>NaN</td>\n",
       "      <td>NaN</td>\n",
       "      <td>NaN</td>\n",
       "      <td>NaN</td>\n",
       "      <td>NaN</td>\n",
       "    </tr>\n",
       "    <tr>\n",
       "      <th>writer</th>\n",
       "      <td>NaN</td>\n",
       "      <td>NaN</td>\n",
       "      <td>NaN</td>\n",
       "      <td>NaN</td>\n",
       "      <td>NaN</td>\n",
       "    </tr>\n",
       "    <tr>\n",
       "      <th rowspan=\"21\" valign=\"top\">M</th>\n",
       "      <th>administrator</th>\n",
       "      <td>NaN</td>\n",
       "      <td>NaN</td>\n",
       "      <td>NaN</td>\n",
       "      <td>NaN</td>\n",
       "      <td>NaN</td>\n",
       "    </tr>\n",
       "    <tr>\n",
       "      <th>artist</th>\n",
       "      <td>NaN</td>\n",
       "      <td>NaN</td>\n",
       "      <td>NaN</td>\n",
       "      <td>NaN</td>\n",
       "      <td>NaN</td>\n",
       "    </tr>\n",
       "    <tr>\n",
       "      <th>doctor</th>\n",
       "      <td>NaN</td>\n",
       "      <td>NaN</td>\n",
       "      <td>NaN</td>\n",
       "      <td>NaN</td>\n",
       "      <td>NaN</td>\n",
       "    </tr>\n",
       "    <tr>\n",
       "      <th>educator</th>\n",
       "      <td>NaN</td>\n",
       "      <td>NaN</td>\n",
       "      <td>NaN</td>\n",
       "      <td>NaN</td>\n",
       "      <td>NaN</td>\n",
       "    </tr>\n",
       "    <tr>\n",
       "      <th>engineer</th>\n",
       "      <td>NaN</td>\n",
       "      <td>NaN</td>\n",
       "      <td>NaN</td>\n",
       "      <td>NaN</td>\n",
       "      <td>NaN</td>\n",
       "    </tr>\n",
       "    <tr>\n",
       "      <th>entertainment</th>\n",
       "      <td>NaN</td>\n",
       "      <td>NaN</td>\n",
       "      <td>NaN</td>\n",
       "      <td>NaN</td>\n",
       "      <td>NaN</td>\n",
       "    </tr>\n",
       "    <tr>\n",
       "      <th>executive</th>\n",
       "      <td>NaN</td>\n",
       "      <td>NaN</td>\n",
       "      <td>NaN</td>\n",
       "      <td>NaN</td>\n",
       "      <td>NaN</td>\n",
       "    </tr>\n",
       "    <tr>\n",
       "      <th>healthcare</th>\n",
       "      <td>NaN</td>\n",
       "      <td>NaN</td>\n",
       "      <td>NaN</td>\n",
       "      <td>NaN</td>\n",
       "      <td>NaN</td>\n",
       "    </tr>\n",
       "    <tr>\n",
       "      <th>homemaker</th>\n",
       "      <td>NaN</td>\n",
       "      <td>NaN</td>\n",
       "      <td>NaN</td>\n",
       "      <td>NaN</td>\n",
       "      <td>NaN</td>\n",
       "    </tr>\n",
       "    <tr>\n",
       "      <th>lawyer</th>\n",
       "      <td>NaN</td>\n",
       "      <td>NaN</td>\n",
       "      <td>NaN</td>\n",
       "      <td>NaN</td>\n",
       "      <td>NaN</td>\n",
       "    </tr>\n",
       "    <tr>\n",
       "      <th>librarian</th>\n",
       "      <td>NaN</td>\n",
       "      <td>NaN</td>\n",
       "      <td>NaN</td>\n",
       "      <td>NaN</td>\n",
       "      <td>NaN</td>\n",
       "    </tr>\n",
       "    <tr>\n",
       "      <th>marketing</th>\n",
       "      <td>NaN</td>\n",
       "      <td>NaN</td>\n",
       "      <td>NaN</td>\n",
       "      <td>NaN</td>\n",
       "      <td>NaN</td>\n",
       "    </tr>\n",
       "    <tr>\n",
       "      <th>none</th>\n",
       "      <td>NaN</td>\n",
       "      <td>NaN</td>\n",
       "      <td>NaN</td>\n",
       "      <td>NaN</td>\n",
       "      <td>NaN</td>\n",
       "    </tr>\n",
       "    <tr>\n",
       "      <th>other</th>\n",
       "      <td>NaN</td>\n",
       "      <td>NaN</td>\n",
       "      <td>NaN</td>\n",
       "      <td>NaN</td>\n",
       "      <td>NaN</td>\n",
       "    </tr>\n",
       "    <tr>\n",
       "      <th>programmer</th>\n",
       "      <td>NaN</td>\n",
       "      <td>NaN</td>\n",
       "      <td>NaN</td>\n",
       "      <td>NaN</td>\n",
       "      <td>NaN</td>\n",
       "    </tr>\n",
       "    <tr>\n",
       "      <th>retired</th>\n",
       "      <td>NaN</td>\n",
       "      <td>NaN</td>\n",
       "      <td>NaN</td>\n",
       "      <td>NaN</td>\n",
       "      <td>NaN</td>\n",
       "    </tr>\n",
       "    <tr>\n",
       "      <th>salesman</th>\n",
       "      <td>NaN</td>\n",
       "      <td>NaN</td>\n",
       "      <td>NaN</td>\n",
       "      <td>NaN</td>\n",
       "      <td>NaN</td>\n",
       "    </tr>\n",
       "    <tr>\n",
       "      <th>scientist</th>\n",
       "      <td>NaN</td>\n",
       "      <td>NaN</td>\n",
       "      <td>NaN</td>\n",
       "      <td>NaN</td>\n",
       "      <td>NaN</td>\n",
       "    </tr>\n",
       "    <tr>\n",
       "      <th>student</th>\n",
       "      <td>NaN</td>\n",
       "      <td>NaN</td>\n",
       "      <td>NaN</td>\n",
       "      <td>NaN</td>\n",
       "      <td>NaN</td>\n",
       "    </tr>\n",
       "    <tr>\n",
       "      <th>technician</th>\n",
       "      <td>NaN</td>\n",
       "      <td>NaN</td>\n",
       "      <td>NaN</td>\n",
       "      <td>NaN</td>\n",
       "      <td>NaN</td>\n",
       "    </tr>\n",
       "    <tr>\n",
       "      <th>writer</th>\n",
       "      <td>NaN</td>\n",
       "      <td>NaN</td>\n",
       "      <td>NaN</td>\n",
       "      <td>NaN</td>\n",
       "      <td>NaN</td>\n",
       "    </tr>\n",
       "  </tbody>\n",
       "</table>\n",
       "</div>"
      ],
      "text/plain": [
       "                      age  gender  occupation  user_id  zip_code\n",
       "gender occupation                                               \n",
       "F      administrator  NaN     NaN         NaN      NaN       NaN\n",
       "       artist         NaN     NaN         NaN      NaN       NaN\n",
       "       educator       NaN     NaN         NaN      NaN       NaN\n",
       "       engineer       NaN     NaN         NaN      NaN       NaN\n",
       "       entertainment  NaN     NaN         NaN      NaN       NaN\n",
       "       executive      NaN     NaN         NaN      NaN       NaN\n",
       "       healthcare     NaN     NaN         NaN      NaN       NaN\n",
       "       homemaker      NaN     NaN         NaN      NaN       NaN\n",
       "       lawyer         NaN     NaN         NaN      NaN       NaN\n",
       "       librarian      NaN     NaN         NaN      NaN       NaN\n",
       "       marketing      NaN     NaN         NaN      NaN       NaN\n",
       "       none           NaN     NaN         NaN      NaN       NaN\n",
       "       other          NaN     NaN         NaN      NaN       NaN\n",
       "       programmer     NaN     NaN         NaN      NaN       NaN\n",
       "       retired        NaN     NaN         NaN      NaN       NaN\n",
       "       salesman       NaN     NaN         NaN      NaN       NaN\n",
       "       scientist      NaN     NaN         NaN      NaN       NaN\n",
       "       student        NaN     NaN         NaN      NaN       NaN\n",
       "       technician     NaN     NaN         NaN      NaN       NaN\n",
       "       writer         NaN     NaN         NaN      NaN       NaN\n",
       "M      administrator  NaN     NaN         NaN      NaN       NaN\n",
       "       artist         NaN     NaN         NaN      NaN       NaN\n",
       "       doctor         NaN     NaN         NaN      NaN       NaN\n",
       "       educator       NaN     NaN         NaN      NaN       NaN\n",
       "       engineer       NaN     NaN         NaN      NaN       NaN\n",
       "       entertainment  NaN     NaN         NaN      NaN       NaN\n",
       "       executive      NaN     NaN         NaN      NaN       NaN\n",
       "       healthcare     NaN     NaN         NaN      NaN       NaN\n",
       "       homemaker      NaN     NaN         NaN      NaN       NaN\n",
       "       lawyer         NaN     NaN         NaN      NaN       NaN\n",
       "       librarian      NaN     NaN         NaN      NaN       NaN\n",
       "       marketing      NaN     NaN         NaN      NaN       NaN\n",
       "       none           NaN     NaN         NaN      NaN       NaN\n",
       "       other          NaN     NaN         NaN      NaN       NaN\n",
       "       programmer     NaN     NaN         NaN      NaN       NaN\n",
       "       retired        NaN     NaN         NaN      NaN       NaN\n",
       "       salesman       NaN     NaN         NaN      NaN       NaN\n",
       "       scientist      NaN     NaN         NaN      NaN       NaN\n",
       "       student        NaN     NaN         NaN      NaN       NaN\n",
       "       technician     NaN     NaN         NaN      NaN       NaN\n",
       "       writer         NaN     NaN         NaN      NaN       NaN"
      ]
     },
     "execution_count": 18,
     "metadata": {},
     "output_type": "execute_result"
    }
   ],
   "source": [
    "perg=genocct1.div(genct)\n",
    "perg"
   ]
  },
  {
   "cell_type": "code",
   "execution_count": 32,
   "metadata": {},
   "outputs": [],
   "source": [
    "#occp count\n",
    "occt=occdata.groupby(['occupation']).agg('count')"
   ]
  },
  {
   "cell_type": "code",
   "execution_count": 33,
   "metadata": {},
   "outputs": [
    {
     "name": "stdout",
     "output_type": "stream",
     "text": [
      "               user_id  age  gender  zip_code  numgender\n",
      "occupation                                              \n",
      "administrator       79   79      79        79         79\n",
      "artist              28   28      28        28         28\n",
      "doctor               7    7       7         7          7\n",
      "educator            95   95      95        95         95\n",
      "engineer            67   67      67        67         67\n"
     ]
    }
   ],
   "source": [
    "print(occt.head())"
   ]
  },
  {
   "cell_type": "code",
   "execution_count": 34,
   "metadata": {},
   "outputs": [],
   "source": [
    "genperc=genocct.div(occt,level='occupation')*100"
   ]
  },
  {
   "cell_type": "code",
   "execution_count": 35,
   "metadata": {},
   "outputs": [
    {
     "name": "stdout",
     "output_type": "stream",
     "text": [
      "                      age      gender  numgender  user_id  zip_code\n",
      "occupation    gender                                               \n",
      "administrator F       NaN   45.569620        NaN      NaN       NaN\n",
      "              M       NaN   54.430380        NaN      NaN       NaN\n",
      "artist        F       NaN   46.428571        NaN      NaN       NaN\n",
      "              M       NaN   53.571429        NaN      NaN       NaN\n",
      "doctor        M       NaN  100.000000        NaN      NaN       NaN\n",
      "educator      F       NaN   27.368421        NaN      NaN       NaN\n",
      "              M       NaN   72.631579        NaN      NaN       NaN\n",
      "engineer      F       NaN    2.985075        NaN      NaN       NaN\n",
      "              M       NaN   97.014925        NaN      NaN       NaN\n",
      "entertainment F       NaN   11.111111        NaN      NaN       NaN\n",
      "              M       NaN   88.888889        NaN      NaN       NaN\n",
      "executive     F       NaN    9.375000        NaN      NaN       NaN\n",
      "              M       NaN   90.625000        NaN      NaN       NaN\n",
      "healthcare    F       NaN   68.750000        NaN      NaN       NaN\n",
      "              M       NaN   31.250000        NaN      NaN       NaN\n",
      "homemaker     F       NaN   85.714286        NaN      NaN       NaN\n",
      "              M       NaN   14.285714        NaN      NaN       NaN\n",
      "lawyer        F       NaN   16.666667        NaN      NaN       NaN\n",
      "              M       NaN   83.333333        NaN      NaN       NaN\n",
      "librarian     F       NaN   56.862745        NaN      NaN       NaN\n",
      "              M       NaN   43.137255        NaN      NaN       NaN\n",
      "marketing     F       NaN   38.461538        NaN      NaN       NaN\n",
      "              M       NaN   61.538462        NaN      NaN       NaN\n",
      "none          F       NaN   44.444444        NaN      NaN       NaN\n",
      "              M       NaN   55.555556        NaN      NaN       NaN\n",
      "other         F       NaN   34.285714        NaN      NaN       NaN\n",
      "              M       NaN   65.714286        NaN      NaN       NaN\n",
      "programmer    F       NaN    9.090909        NaN      NaN       NaN\n",
      "              M       NaN   90.909091        NaN      NaN       NaN\n",
      "retired       F       NaN    7.142857        NaN      NaN       NaN\n",
      "              M       NaN   92.857143        NaN      NaN       NaN\n",
      "salesman      F       NaN   25.000000        NaN      NaN       NaN\n",
      "              M       NaN   75.000000        NaN      NaN       NaN\n",
      "scientist     F       NaN    9.677419        NaN      NaN       NaN\n",
      "              M       NaN   90.322581        NaN      NaN       NaN\n",
      "student       F       NaN   30.612245        NaN      NaN       NaN\n",
      "              M       NaN   69.387755        NaN      NaN       NaN\n",
      "technician    F       NaN    3.703704        NaN      NaN       NaN\n",
      "              M       NaN   96.296296        NaN      NaN       NaN\n",
      "writer        F       NaN   42.222222        NaN      NaN       NaN\n",
      "              M       NaN   57.777778        NaN      NaN       NaN\n"
     ]
    }
   ],
   "source": [
    "print(genperc)"
   ]
  },
  {
   "cell_type": "code",
   "execution_count": 41,
   "metadata": {},
   "outputs": [
    {
     "name": "stdout",
     "output_type": "stream",
     "text": [
      "occupation     gender\n",
      "administrator  F          45.569620\n",
      "               M          54.430380\n",
      "artist         F          46.428571\n",
      "               M          53.571429\n",
      "doctor         M         100.000000\n",
      "educator       F          27.368421\n",
      "               M          72.631579\n",
      "engineer       F           2.985075\n",
      "               M          97.014925\n",
      "entertainment  F          11.111111\n",
      "               M          88.888889\n",
      "executive      F           9.375000\n",
      "               M          90.625000\n",
      "healthcare     F          68.750000\n",
      "               M          31.250000\n",
      "homemaker      F          85.714286\n",
      "               M          14.285714\n",
      "lawyer         F          16.666667\n",
      "               M          83.333333\n",
      "librarian      F          56.862745\n",
      "               M          43.137255\n",
      "marketing      F          38.461538\n",
      "               M          61.538462\n",
      "none           F          44.444444\n",
      "               M          55.555556\n",
      "other          F          34.285714\n",
      "               M          65.714286\n",
      "programmer     F           9.090909\n",
      "               M          90.909091\n",
      "retired        F           7.142857\n",
      "               M          92.857143\n",
      "salesman       F          25.000000\n",
      "               M          75.000000\n",
      "scientist      F           9.677419\n",
      "               M          90.322581\n",
      "student        F          30.612245\n",
      "               M          69.387755\n",
      "technician     F           3.703704\n",
      "               M          96.296296\n",
      "writer         F          42.222222\n",
      "               M          57.777778\n",
      "Name: gender, dtype: float64\n"
     ]
    }
   ],
   "source": [
    "print(genperc.loc[:,'gender'])"
   ]
  },
  {
   "cell_type": "code",
   "execution_count": null,
   "metadata": {},
   "outputs": [],
   "source": []
  }
 ],
 "metadata": {
  "kernelspec": {
   "display_name": "Python 3",
   "language": "python",
   "name": "python3"
  },
  "language_info": {
   "codemirror_mode": {
    "name": "ipython",
    "version": 3
   },
   "file_extension": ".py",
   "mimetype": "text/x-python",
   "name": "python",
   "nbconvert_exporter": "python",
   "pygments_lexer": "ipython3",
   "version": "3.7.4"
  }
 },
 "nbformat": 4,
 "nbformat_minor": 2
}
